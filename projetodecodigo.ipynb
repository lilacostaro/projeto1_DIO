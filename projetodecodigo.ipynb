{
  "nbformat": 4,
  "nbformat_minor": 0,
  "metadata": {
    "colab": {
      "name": "projetodecodigo.ipynb",
      "provenance": [],
      "collapsed_sections": []
    },
    "kernelspec": {
      "name": "python3",
      "display_name": "Python 3"
    },
    "language_info": {
      "name": "python"
    }
  },
  "cells": [
    {
      "cell_type": "markdown",
      "metadata": {
        "id": "CpjddpUWGMwz"
      },
      "source": [
        "# Projeto de código \"Analise de Dados com Python e Pandas\" para o Bootcamp de Dada Engineer da DIO feat. Cognizante"
      ]
    },
    {
      "cell_type": "markdown",
      "metadata": {
        "id": "Me22z-RQjNRX"
      },
      "source": [
        "## Etapa 1 = Extração"
      ]
    },
    {
      "cell_type": "markdown",
      "metadata": {
        "id": "Kzkw_V3qYMr3"
      },
      "source": [
        "### Extração e mudança de nome das colunas que seram utilizadas."
      ]
    },
    {
      "cell_type": "code",
      "metadata": {
        "id": "5hRggqb5VVUS",
        "colab": {
          "base_uri": "https://localhost:8080/"
        },
        "outputId": "1852cc77-c1a5-41d6-bcf1-2b4a106d8232"
      },
      "source": [
        "# baixando o pacote pandera\n",
        "!pip install pandera "
      ],
      "execution_count": 1,
      "outputs": [
        {
          "output_type": "stream",
          "name": "stdout",
          "text": [
            "Collecting pandera\n",
            "  Downloading pandera-0.7.2-py3-none-any.whl (166 kB)\n",
            "\u001b[?25l\r\u001b[K     |██                              | 10 kB 18.5 MB/s eta 0:00:01\r\u001b[K     |████                            | 20 kB 26.2 MB/s eta 0:00:01\r\u001b[K     |██████                          | 30 kB 31.6 MB/s eta 0:00:01\r\u001b[K     |███████▉                        | 40 kB 25.9 MB/s eta 0:00:01\r\u001b[K     |█████████▉                      | 51 kB 15.3 MB/s eta 0:00:01\r\u001b[K     |███████████▉                    | 61 kB 11.0 MB/s eta 0:00:01\r\u001b[K     |█████████████▉                  | 71 kB 11.9 MB/s eta 0:00:01\r\u001b[K     |███████████████▊                | 81 kB 13.3 MB/s eta 0:00:01\r\u001b[K     |█████████████████▊              | 92 kB 13.5 MB/s eta 0:00:01\r\u001b[K     |███████████████████▊            | 102 kB 13.6 MB/s eta 0:00:01\r\u001b[K     |█████████████████████▋          | 112 kB 13.6 MB/s eta 0:00:01\r\u001b[K     |███████████████████████▋        | 122 kB 13.6 MB/s eta 0:00:01\r\u001b[K     |█████████████████████████▋      | 133 kB 13.6 MB/s eta 0:00:01\r\u001b[K     |███████████████████████████▋    | 143 kB 13.6 MB/s eta 0:00:01\r\u001b[K     |█████████████████████████████▌  | 153 kB 13.6 MB/s eta 0:00:01\r\u001b[K     |███████████████████████████████▌| 163 kB 13.6 MB/s eta 0:00:01\r\u001b[K     |████████████████████████████████| 166 kB 13.6 MB/s \n",
            "\u001b[?25hRequirement already satisfied: pandas>=1.0 in /usr/local/lib/python3.7/dist-packages (from pandera) (1.1.5)\n",
            "Requirement already satisfied: typing-extensions>=3.7.4.3 in /usr/local/lib/python3.7/dist-packages (from pandera) (3.7.4.3)\n",
            "Collecting typing-inspect>=0.6.0\n",
            "  Downloading typing_inspect-0.7.1-py3-none-any.whl (8.4 kB)\n",
            "Requirement already satisfied: numpy>=1.9.0 in /usr/local/lib/python3.7/dist-packages (from pandera) (1.19.5)\n",
            "Requirement already satisfied: wrapt in /usr/local/lib/python3.7/dist-packages (from pandera) (1.12.1)\n",
            "Requirement already satisfied: packaging>=20.0 in /usr/local/lib/python3.7/dist-packages (from pandera) (21.0)\n",
            "Requirement already satisfied: pyarrow in /usr/local/lib/python3.7/dist-packages (from pandera) (3.0.0)\n",
            "Requirement already satisfied: pyparsing>=2.0.2 in /usr/local/lib/python3.7/dist-packages (from packaging>=20.0->pandera) (2.4.7)\n",
            "Requirement already satisfied: python-dateutil>=2.7.3 in /usr/local/lib/python3.7/dist-packages (from pandas>=1.0->pandera) (2.8.2)\n",
            "Requirement already satisfied: pytz>=2017.2 in /usr/local/lib/python3.7/dist-packages (from pandas>=1.0->pandera) (2018.9)\n",
            "Requirement already satisfied: six>=1.5 in /usr/local/lib/python3.7/dist-packages (from python-dateutil>=2.7.3->pandas>=1.0->pandera) (1.15.0)\n",
            "Collecting mypy-extensions>=0.3.0\n",
            "  Downloading mypy_extensions-0.4.3-py2.py3-none-any.whl (4.5 kB)\n",
            "Installing collected packages: mypy-extensions, typing-inspect, pandera\n",
            "Successfully installed mypy-extensions-0.4.3 pandera-0.7.2 typing-inspect-0.7.1\n"
          ]
        }
      ]
    },
    {
      "cell_type": "code",
      "metadata": {
        "id": "ZjGjZGmBsVvo"
      },
      "source": [
        "# importando as bibliotecas pandas, pandera e matplotlib\n",
        "import pandas as pd\n",
        "import pandera as pa\n",
        "import matplotlib.pyplot as plt\n",
        "plt.style.use(\"seaborn-dark\")"
      ],
      "execution_count": 2,
      "outputs": []
    },
    {
      "cell_type": "code",
      "metadata": {
        "id": "CkCuYlInUAV5"
      },
      "source": [
        "# fazendo upload do arquivo\n",
        "df = pd.read_csv('/content/drive/MyDrive/Projeto_codigo_Dio/listings.csv.gz', parse_dates=['host_since','first_review', 'last_review'])"
      ],
      "execution_count": 3,
      "outputs": []
    },
    {
      "cell_type": "code",
      "metadata": {
        "id": "OH5TObr6cb9_",
        "colab": {
          "base_uri": "https://localhost:8080/",
          "height": 267
        },
        "outputId": "e0ca575c-fab0-4595-e953-d9148c8d8304"
      },
      "source": [
        "# plotando os dados\n",
        "df.head(2)"
      ],
      "execution_count": 4,
      "outputs": [
        {
          "output_type": "execute_result",
          "data": {
            "text/html": [
              "<div>\n",
              "<style scoped>\n",
              "    .dataframe tbody tr th:only-of-type {\n",
              "        vertical-align: middle;\n",
              "    }\n",
              "\n",
              "    .dataframe tbody tr th {\n",
              "        vertical-align: top;\n",
              "    }\n",
              "\n",
              "    .dataframe thead th {\n",
              "        text-align: right;\n",
              "    }\n",
              "</style>\n",
              "<table border=\"1\" class=\"dataframe\">\n",
              "  <thead>\n",
              "    <tr style=\"text-align: right;\">\n",
              "      <th></th>\n",
              "      <th>id</th>\n",
              "      <th>listing_url</th>\n",
              "      <th>scrape_id</th>\n",
              "      <th>last_scraped</th>\n",
              "      <th>name</th>\n",
              "      <th>description</th>\n",
              "      <th>neighborhood_overview</th>\n",
              "      <th>picture_url</th>\n",
              "      <th>host_id</th>\n",
              "      <th>host_url</th>\n",
              "      <th>host_name</th>\n",
              "      <th>host_since</th>\n",
              "      <th>host_location</th>\n",
              "      <th>host_about</th>\n",
              "      <th>host_response_time</th>\n",
              "      <th>host_response_rate</th>\n",
              "      <th>host_acceptance_rate</th>\n",
              "      <th>host_is_superhost</th>\n",
              "      <th>host_thumbnail_url</th>\n",
              "      <th>host_picture_url</th>\n",
              "      <th>host_neighbourhood</th>\n",
              "      <th>host_listings_count</th>\n",
              "      <th>host_total_listings_count</th>\n",
              "      <th>host_verifications</th>\n",
              "      <th>host_has_profile_pic</th>\n",
              "      <th>host_identity_verified</th>\n",
              "      <th>neighbourhood</th>\n",
              "      <th>neighbourhood_cleansed</th>\n",
              "      <th>neighbourhood_group_cleansed</th>\n",
              "      <th>latitude</th>\n",
              "      <th>longitude</th>\n",
              "      <th>property_type</th>\n",
              "      <th>room_type</th>\n",
              "      <th>accommodates</th>\n",
              "      <th>bathrooms</th>\n",
              "      <th>bathrooms_text</th>\n",
              "      <th>bedrooms</th>\n",
              "      <th>beds</th>\n",
              "      <th>amenities</th>\n",
              "      <th>price</th>\n",
              "      <th>minimum_nights</th>\n",
              "      <th>maximum_nights</th>\n",
              "      <th>minimum_minimum_nights</th>\n",
              "      <th>maximum_minimum_nights</th>\n",
              "      <th>minimum_maximum_nights</th>\n",
              "      <th>maximum_maximum_nights</th>\n",
              "      <th>minimum_nights_avg_ntm</th>\n",
              "      <th>maximum_nights_avg_ntm</th>\n",
              "      <th>calendar_updated</th>\n",
              "      <th>has_availability</th>\n",
              "      <th>availability_30</th>\n",
              "      <th>availability_60</th>\n",
              "      <th>availability_90</th>\n",
              "      <th>availability_365</th>\n",
              "      <th>calendar_last_scraped</th>\n",
              "      <th>number_of_reviews</th>\n",
              "      <th>number_of_reviews_ltm</th>\n",
              "      <th>number_of_reviews_l30d</th>\n",
              "      <th>first_review</th>\n",
              "      <th>last_review</th>\n",
              "      <th>review_scores_rating</th>\n",
              "      <th>review_scores_accuracy</th>\n",
              "      <th>review_scores_cleanliness</th>\n",
              "      <th>review_scores_checkin</th>\n",
              "      <th>review_scores_communication</th>\n",
              "      <th>review_scores_location</th>\n",
              "      <th>review_scores_value</th>\n",
              "      <th>license</th>\n",
              "      <th>instant_bookable</th>\n",
              "      <th>calculated_host_listings_count</th>\n",
              "      <th>calculated_host_listings_count_entire_homes</th>\n",
              "      <th>calculated_host_listings_count_private_rooms</th>\n",
              "      <th>calculated_host_listings_count_shared_rooms</th>\n",
              "      <th>reviews_per_month</th>\n",
              "    </tr>\n",
              "  </thead>\n",
              "  <tbody>\n",
              "    <tr>\n",
              "      <th>0</th>\n",
              "      <td>17878</td>\n",
              "      <td>https://www.airbnb.com/rooms/17878</td>\n",
              "      <td>20210928134526</td>\n",
              "      <td>2021-09-28</td>\n",
              "      <td>Very Nice 2Br in Copacabana w. balcony, fast WiFi</td>\n",
              "      <td>Discounts for long term stays. &lt;br /&gt;- Large b...</td>\n",
              "      <td>This is the one of the bests spots in Rio. Bec...</td>\n",
              "      <td>https://a0.muscache.com/pictures/65320518/3069...</td>\n",
              "      <td>68997</td>\n",
              "      <td>https://www.airbnb.com/users/show/68997</td>\n",
              "      <td>Matthias</td>\n",
              "      <td>2010-01-08</td>\n",
              "      <td>Rio de Janeiro, State of Rio de Janeiro, Brazil</td>\n",
              "      <td>I  am a  journalist/writer. Lived  in NYC for ...</td>\n",
              "      <td>within an hour</td>\n",
              "      <td>100%</td>\n",
              "      <td>98%</td>\n",
              "      <td>f</td>\n",
              "      <td>https://a0.muscache.com/im/pictures/user/67b13...</td>\n",
              "      <td>https://a0.muscache.com/im/pictures/user/67b13...</td>\n",
              "      <td>Copacabana</td>\n",
              "      <td>2.0</td>\n",
              "      <td>2.0</td>\n",
              "      <td>['email', 'phone', 'reviews', 'jumio', 'offlin...</td>\n",
              "      <td>t</td>\n",
              "      <td>t</td>\n",
              "      <td>Rio de Janeiro, Brazil</td>\n",
              "      <td>Copacabana</td>\n",
              "      <td>NaN</td>\n",
              "      <td>-22.96599</td>\n",
              "      <td>-43.17940</td>\n",
              "      <td>Entire condominium (condo)</td>\n",
              "      <td>Entire home/apt</td>\n",
              "      <td>5</td>\n",
              "      <td>NaN</td>\n",
              "      <td>1 bath</td>\n",
              "      <td>2.0</td>\n",
              "      <td>2.0</td>\n",
              "      <td>[\"Hangers\", \"Dishes and silverware\", \"Iron\", \"...</td>\n",
              "      <td>$350.00</td>\n",
              "      <td>4</td>\n",
              "      <td>180</td>\n",
              "      <td>4</td>\n",
              "      <td>4</td>\n",
              "      <td>1125</td>\n",
              "      <td>1125</td>\n",
              "      <td>4.0</td>\n",
              "      <td>1125.0</td>\n",
              "      <td>NaN</td>\n",
              "      <td>t</td>\n",
              "      <td>16</td>\n",
              "      <td>46</td>\n",
              "      <td>69</td>\n",
              "      <td>314</td>\n",
              "      <td>2021-09-28</td>\n",
              "      <td>265</td>\n",
              "      <td>12</td>\n",
              "      <td>0</td>\n",
              "      <td>2011-03-30</td>\n",
              "      <td>2021-05-21</td>\n",
              "      <td>4.68</td>\n",
              "      <td>4.78</td>\n",
              "      <td>4.63</td>\n",
              "      <td>4.82</td>\n",
              "      <td>4.9</td>\n",
              "      <td>4.76</td>\n",
              "      <td>4.65</td>\n",
              "      <td>NaN</td>\n",
              "      <td>t</td>\n",
              "      <td>1</td>\n",
              "      <td>1</td>\n",
              "      <td>0</td>\n",
              "      <td>0</td>\n",
              "      <td>2.07</td>\n",
              "    </tr>\n",
              "    <tr>\n",
              "      <th>1</th>\n",
              "      <td>24480</td>\n",
              "      <td>https://www.airbnb.com/rooms/24480</td>\n",
              "      <td>20210928134526</td>\n",
              "      <td>2021-09-29</td>\n",
              "      <td>Nice and cozy near Ipanema Beach, w/ home office</td>\n",
              "      <td>My studio is located in the best of Ipanema, t...</td>\n",
              "      <td>The beach, the lagoon, Ipanema is a great loca...</td>\n",
              "      <td>https://a0.muscache.com/pictures/11955612/b28e...</td>\n",
              "      <td>99249</td>\n",
              "      <td>https://www.airbnb.com/users/show/99249</td>\n",
              "      <td>Goya</td>\n",
              "      <td>2010-03-26</td>\n",
              "      <td>Rio de Janeiro, Rio de Janeiro, Brazil</td>\n",
              "      <td>Welcome to Rio!\\nI am a human being fighting f...</td>\n",
              "      <td>within a day</td>\n",
              "      <td>50%</td>\n",
              "      <td>NaN</td>\n",
              "      <td>f</td>\n",
              "      <td>https://a0.muscache.com/im/pictures/user/6b404...</td>\n",
              "      <td>https://a0.muscache.com/im/pictures/user/6b404...</td>\n",
              "      <td>Ipanema</td>\n",
              "      <td>0.0</td>\n",
              "      <td>0.0</td>\n",
              "      <td>['email', 'phone', 'reviews', 'jumio', 'govern...</td>\n",
              "      <td>t</td>\n",
              "      <td>t</td>\n",
              "      <td>Rio de Janeiro, Brazil</td>\n",
              "      <td>Ipanema</td>\n",
              "      <td>NaN</td>\n",
              "      <td>-22.98405</td>\n",
              "      <td>-43.20189</td>\n",
              "      <td>Entire rental unit</td>\n",
              "      <td>Entire home/apt</td>\n",
              "      <td>2</td>\n",
              "      <td>NaN</td>\n",
              "      <td>1 bath</td>\n",
              "      <td>1.0</td>\n",
              "      <td>1.0</td>\n",
              "      <td>[\"Clothing storage: wardrobe\", \"Dining table\",...</td>\n",
              "      <td>$297.00</td>\n",
              "      <td>3</td>\n",
              "      <td>90</td>\n",
              "      <td>3</td>\n",
              "      <td>3</td>\n",
              "      <td>90</td>\n",
              "      <td>90</td>\n",
              "      <td>3.0</td>\n",
              "      <td>90.0</td>\n",
              "      <td>NaN</td>\n",
              "      <td>t</td>\n",
              "      <td>0</td>\n",
              "      <td>0</td>\n",
              "      <td>0</td>\n",
              "      <td>30</td>\n",
              "      <td>2021-09-29</td>\n",
              "      <td>85</td>\n",
              "      <td>0</td>\n",
              "      <td>0</td>\n",
              "      <td>2013-08-20</td>\n",
              "      <td>2017-04-22</td>\n",
              "      <td>4.73</td>\n",
              "      <td>4.83</td>\n",
              "      <td>4.78</td>\n",
              "      <td>4.90</td>\n",
              "      <td>4.9</td>\n",
              "      <td>4.97</td>\n",
              "      <td>4.58</td>\n",
              "      <td>NaN</td>\n",
              "      <td>f</td>\n",
              "      <td>1</td>\n",
              "      <td>1</td>\n",
              "      <td>0</td>\n",
              "      <td>0</td>\n",
              "      <td>0.86</td>\n",
              "    </tr>\n",
              "  </tbody>\n",
              "</table>\n",
              "</div>"
            ],
            "text/plain": [
              "      id  ... reviews_per_month\n",
              "0  17878  ...              2.07\n",
              "1  24480  ...              0.86\n",
              "\n",
              "[2 rows x 74 columns]"
            ]
          },
          "metadata": {},
          "execution_count": 4
        }
      ]
    },
    {
      "cell_type": "code",
      "metadata": {
        "id": "bVQ-b_zDQYRy"
      },
      "source": [
        "# renomeando as colunas\n",
        "df.rename(columns={'host_id':'anfitriao_id', 'host_name':'anfitriao_nome', 'host_since':'anf_data_cadastro', 'id':'id_anuncio', 'name':'nome_anuncio', \n",
        "                  'neighbourhood_cleansed':'bairro', 'property_type':'tipo_propriedade', 'room_type':'tipo_acomodacao', \n",
        "                  'accommodates':'numero_hospedes', 'bedrooms':'quartos', 'beds':'camas', 'minimum_nights': 'min_noites', \n",
        "                  'maximum_nights':'max_noites', 'has_availability':'disponivel', 'number_of_reviews':'numero_avaliaçoes', \n",
        "                  'review_scores_rating':'pontuacao_avaliacoes', 'instant_bookable':'confirmacao_instantanea', 'host_response_time':'anf_tempo_resposta',\n",
        "                  'review_scores_rating':'pontuacao_avaliacoes', 'instant_bookable':'confirmacao_instantanea', 'host_listings_count':'quant_anuncios', 'host_response_time':'anf_tempo_resposta',\n",
        "                   'host_response_rate':'anf_taxa_resposta', 'host_acceptance_rate':'anf_taxa_aceitacao', 'host_is_superhost':'super_anfitriao', 'host_neighbourhood':'anf_bairro',\n",
        "                  'host_total_listings_count':'anf_num_total_anuncios','host_has_profile_pic':'anf_foto_perfil','host_identity_verified':'anf_identidade_verificada'}, inplace=True)"
      ],
      "execution_count": 5,
      "outputs": []
    },
    {
      "cell_type": "code",
      "metadata": {
        "id": "ERrQhZ5bka8Q",
        "colab": {
          "base_uri": "https://localhost:8080/"
        },
        "outputId": "c3b8b887-3d05-49e4-e401-0ff753a520d1"
      },
      "source": [
        "# explorando a base de dados\n",
        "df.count()"
      ],
      "execution_count": 6,
      "outputs": [
        {
          "output_type": "execute_result",
          "data": {
            "text/plain": [
              "id_anuncio                                      23414\n",
              "listing_url                                     23414\n",
              "scrape_id                                       23414\n",
              "last_scraped                                    23414\n",
              "nome_anuncio                                    23393\n",
              "                                                ...  \n",
              "calculated_host_listings_count                  23414\n",
              "calculated_host_listings_count_entire_homes     23414\n",
              "calculated_host_listings_count_private_rooms    23414\n",
              "calculated_host_listings_count_shared_rooms     23414\n",
              "reviews_per_month                               15073\n",
              "Length: 74, dtype: int64"
            ]
          },
          "metadata": {},
          "execution_count": 6
        }
      ]
    },
    {
      "cell_type": "code",
      "metadata": {
        "id": "an3Zxi-OjZ-p",
        "colab": {
          "base_uri": "https://localhost:8080/"
        },
        "outputId": "726ecb61-b9ae-433a-e56d-de4cc04d8803"
      },
      "source": [
        "df.dtypes"
      ],
      "execution_count": 7,
      "outputs": [
        {
          "output_type": "execute_result",
          "data": {
            "text/plain": [
              "id_anuncio                                        int64\n",
              "listing_url                                      object\n",
              "scrape_id                                         int64\n",
              "last_scraped                                     object\n",
              "nome_anuncio                                     object\n",
              "                                                 ...   \n",
              "calculated_host_listings_count                    int64\n",
              "calculated_host_listings_count_entire_homes       int64\n",
              "calculated_host_listings_count_private_rooms      int64\n",
              "calculated_host_listings_count_shared_rooms       int64\n",
              "reviews_per_month                               float64\n",
              "Length: 74, dtype: object"
            ]
          },
          "metadata": {},
          "execution_count": 7
        }
      ]
    },
    {
      "cell_type": "code",
      "metadata": {
        "id": "Wg7cminojuE4",
        "colab": {
          "base_uri": "https://localhost:8080/"
        },
        "outputId": "53044389-e739-4b5d-f114-788a248902c2"
      },
      "source": [
        "df.shape"
      ],
      "execution_count": 8,
      "outputs": [
        {
          "output_type": "execute_result",
          "data": {
            "text/plain": [
              "(23414, 74)"
            ]
          },
          "metadata": {},
          "execution_count": 8
        }
      ]
    },
    {
      "cell_type": "code",
      "metadata": {
        "id": "t6sz9OAAhbKJ",
        "colab": {
          "base_uri": "https://localhost:8080/"
        },
        "outputId": "45b7353e-4b71-43dd-fb40-2fd145784844"
      },
      "source": [
        "df.columns"
      ],
      "execution_count": 9,
      "outputs": [
        {
          "output_type": "execute_result",
          "data": {
            "text/plain": [
              "Index(['id_anuncio', 'listing_url', 'scrape_id', 'last_scraped',\n",
              "       'nome_anuncio', 'description', 'neighborhood_overview', 'picture_url',\n",
              "       'anfitriao_id', 'host_url', 'anfitriao_nome', 'anf_data_cadastro',\n",
              "       'host_location', 'host_about', 'anf_tempo_resposta',\n",
              "       'anf_taxa_resposta', 'anf_taxa_aceitacao', 'super_anfitriao',\n",
              "       'host_thumbnail_url', 'host_picture_url', 'anf_bairro',\n",
              "       'quant_anuncios', 'anf_num_total_anuncios', 'host_verifications',\n",
              "       'anf_foto_perfil', 'anf_identidade_verificada', 'neighbourhood',\n",
              "       'bairro', 'neighbourhood_group_cleansed', 'latitude', 'longitude',\n",
              "       'tipo_propriedade', 'tipo_acomodacao', 'numero_hospedes', 'bathrooms',\n",
              "       'bathrooms_text', 'quartos', 'camas', 'amenities', 'price',\n",
              "       'min_noites', 'max_noites', 'minimum_minimum_nights',\n",
              "       'maximum_minimum_nights', 'minimum_maximum_nights',\n",
              "       'maximum_maximum_nights', 'minimum_nights_avg_ntm',\n",
              "       'maximum_nights_avg_ntm', 'calendar_updated', 'disponivel',\n",
              "       'availability_30', 'availability_60', 'availability_90',\n",
              "       'availability_365', 'calendar_last_scraped', 'numero_avaliaçoes',\n",
              "       'number_of_reviews_ltm', 'number_of_reviews_l30d', 'first_review',\n",
              "       'last_review', 'pontuacao_avaliacoes', 'review_scores_accuracy',\n",
              "       'review_scores_cleanliness', 'review_scores_checkin',\n",
              "       'review_scores_communication', 'review_scores_location',\n",
              "       'review_scores_value', 'license', 'confirmacao_instantanea',\n",
              "       'calculated_host_listings_count',\n",
              "       'calculated_host_listings_count_entire_homes',\n",
              "       'calculated_host_listings_count_private_rooms',\n",
              "       'calculated_host_listings_count_shared_rooms', 'reviews_per_month'],\n",
              "      dtype='object')"
            ]
          },
          "metadata": {},
          "execution_count": 9
        }
      ]
    },
    {
      "cell_type": "code",
      "metadata": {
        "id": "Qr1idYU6ti8z",
        "colab": {
          "base_uri": "https://localhost:8080/",
          "height": 317
        },
        "outputId": "78bc3e14-756e-4eee-f38f-6aa6a6bde59e"
      },
      "source": [
        "df.describe()"
      ],
      "execution_count": 10,
      "outputs": [
        {
          "output_type": "execute_result",
          "data": {
            "text/html": [
              "<div>\n",
              "<style scoped>\n",
              "    .dataframe tbody tr th:only-of-type {\n",
              "        vertical-align: middle;\n",
              "    }\n",
              "\n",
              "    .dataframe tbody tr th {\n",
              "        vertical-align: top;\n",
              "    }\n",
              "\n",
              "    .dataframe thead th {\n",
              "        text-align: right;\n",
              "    }\n",
              "</style>\n",
              "<table border=\"1\" class=\"dataframe\">\n",
              "  <thead>\n",
              "    <tr style=\"text-align: right;\">\n",
              "      <th></th>\n",
              "      <th>id_anuncio</th>\n",
              "      <th>scrape_id</th>\n",
              "      <th>anfitriao_id</th>\n",
              "      <th>quant_anuncios</th>\n",
              "      <th>anf_num_total_anuncios</th>\n",
              "      <th>neighbourhood_group_cleansed</th>\n",
              "      <th>latitude</th>\n",
              "      <th>longitude</th>\n",
              "      <th>numero_hospedes</th>\n",
              "      <th>bathrooms</th>\n",
              "      <th>quartos</th>\n",
              "      <th>camas</th>\n",
              "      <th>min_noites</th>\n",
              "      <th>max_noites</th>\n",
              "      <th>minimum_minimum_nights</th>\n",
              "      <th>maximum_minimum_nights</th>\n",
              "      <th>minimum_maximum_nights</th>\n",
              "      <th>maximum_maximum_nights</th>\n",
              "      <th>minimum_nights_avg_ntm</th>\n",
              "      <th>maximum_nights_avg_ntm</th>\n",
              "      <th>calendar_updated</th>\n",
              "      <th>availability_30</th>\n",
              "      <th>availability_60</th>\n",
              "      <th>availability_90</th>\n",
              "      <th>availability_365</th>\n",
              "      <th>numero_avaliaçoes</th>\n",
              "      <th>number_of_reviews_ltm</th>\n",
              "      <th>number_of_reviews_l30d</th>\n",
              "      <th>pontuacao_avaliacoes</th>\n",
              "      <th>review_scores_accuracy</th>\n",
              "      <th>review_scores_cleanliness</th>\n",
              "      <th>review_scores_checkin</th>\n",
              "      <th>review_scores_communication</th>\n",
              "      <th>review_scores_location</th>\n",
              "      <th>review_scores_value</th>\n",
              "      <th>license</th>\n",
              "      <th>calculated_host_listings_count</th>\n",
              "      <th>calculated_host_listings_count_entire_homes</th>\n",
              "      <th>calculated_host_listings_count_private_rooms</th>\n",
              "      <th>calculated_host_listings_count_shared_rooms</th>\n",
              "      <th>reviews_per_month</th>\n",
              "    </tr>\n",
              "  </thead>\n",
              "  <tbody>\n",
              "    <tr>\n",
              "      <th>count</th>\n",
              "      <td>2.341400e+04</td>\n",
              "      <td>2.341400e+04</td>\n",
              "      <td>2.341400e+04</td>\n",
              "      <td>23396.000000</td>\n",
              "      <td>23396.000000</td>\n",
              "      <td>0.0</td>\n",
              "      <td>23414.000000</td>\n",
              "      <td>23414.000000</td>\n",
              "      <td>23414.000000</td>\n",
              "      <td>0.0</td>\n",
              "      <td>21895.000000</td>\n",
              "      <td>23206.000000</td>\n",
              "      <td>23414.000000</td>\n",
              "      <td>2.341400e+04</td>\n",
              "      <td>23414.000000</td>\n",
              "      <td>23414.000000</td>\n",
              "      <td>2.341400e+04</td>\n",
              "      <td>2.341400e+04</td>\n",
              "      <td>23414.000000</td>\n",
              "      <td>2.341400e+04</td>\n",
              "      <td>0.0</td>\n",
              "      <td>23414.000000</td>\n",
              "      <td>23414.000000</td>\n",
              "      <td>23414.000000</td>\n",
              "      <td>23414.000000</td>\n",
              "      <td>23414.000000</td>\n",
              "      <td>23414.000000</td>\n",
              "      <td>23414.000000</td>\n",
              "      <td>15073.000000</td>\n",
              "      <td>14618.000000</td>\n",
              "      <td>14619.000000</td>\n",
              "      <td>14618.000000</td>\n",
              "      <td>14620.000000</td>\n",
              "      <td>14617.000000</td>\n",
              "      <td>14619.000000</td>\n",
              "      <td>0.0</td>\n",
              "      <td>23414.000000</td>\n",
              "      <td>23414.000000</td>\n",
              "      <td>23414.000000</td>\n",
              "      <td>23414.000000</td>\n",
              "      <td>15073.000000</td>\n",
              "    </tr>\n",
              "    <tr>\n",
              "      <th>mean</th>\n",
              "      <td>2.641178e+07</td>\n",
              "      <td>2.021093e+13</td>\n",
              "      <td>1.042743e+08</td>\n",
              "      <td>8.844290</td>\n",
              "      <td>8.844290</td>\n",
              "      <td>NaN</td>\n",
              "      <td>-22.965906</td>\n",
              "      <td>-43.248440</td>\n",
              "      <td>4.124840</td>\n",
              "      <td>NaN</td>\n",
              "      <td>1.707422</td>\n",
              "      <td>2.552960</td>\n",
              "      <td>5.286965</td>\n",
              "      <td>9.234445e+04</td>\n",
              "      <td>5.105578</td>\n",
              "      <td>5.873281</td>\n",
              "      <td>9.245231e+04</td>\n",
              "      <td>9.246926e+04</td>\n",
              "      <td>5.284770</td>\n",
              "      <td>9.246479e+04</td>\n",
              "      <td>NaN</td>\n",
              "      <td>19.600752</td>\n",
              "      <td>42.146494</td>\n",
              "      <td>65.361707</td>\n",
              "      <td>229.193004</td>\n",
              "      <td>14.075639</td>\n",
              "      <td>3.211327</td>\n",
              "      <td>0.340822</td>\n",
              "      <td>4.588884</td>\n",
              "      <td>4.790155</td>\n",
              "      <td>4.679409</td>\n",
              "      <td>4.870508</td>\n",
              "      <td>4.850292</td>\n",
              "      <td>4.849142</td>\n",
              "      <td>4.638280</td>\n",
              "      <td>NaN</td>\n",
              "      <td>7.226787</td>\n",
              "      <td>6.344965</td>\n",
              "      <td>0.773981</td>\n",
              "      <td>0.087469</td>\n",
              "      <td>0.649966</td>\n",
              "    </tr>\n",
              "    <tr>\n",
              "      <th>std</th>\n",
              "      <td>1.665127e+07</td>\n",
              "      <td>1.921916e+00</td>\n",
              "      <td>1.142081e+08</td>\n",
              "      <td>32.205309</td>\n",
              "      <td>32.205309</td>\n",
              "      <td>NaN</td>\n",
              "      <td>0.035351</td>\n",
              "      <td>0.096823</td>\n",
              "      <td>2.482795</td>\n",
              "      <td>NaN</td>\n",
              "      <td>1.133174</td>\n",
              "      <td>2.288561</td>\n",
              "      <td>20.850200</td>\n",
              "      <td>1.403434e+07</td>\n",
              "      <td>19.243808</td>\n",
              "      <td>20.492825</td>\n",
              "      <td>1.403434e+07</td>\n",
              "      <td>1.403434e+07</td>\n",
              "      <td>19.433421</td>\n",
              "      <td>1.403434e+07</td>\n",
              "      <td>NaN</td>\n",
              "      <td>11.830152</td>\n",
              "      <td>22.532805</td>\n",
              "      <td>32.270046</td>\n",
              "      <td>130.210901</td>\n",
              "      <td>33.261309</td>\n",
              "      <td>7.971381</td>\n",
              "      <td>0.906236</td>\n",
              "      <td>0.942605</td>\n",
              "      <td>0.470820</td>\n",
              "      <td>0.549437</td>\n",
              "      <td>0.397543</td>\n",
              "      <td>0.420981</td>\n",
              "      <td>0.379942</td>\n",
              "      <td>0.508422</td>\n",
              "      <td>NaN</td>\n",
              "      <td>21.690645</td>\n",
              "      <td>21.170269</td>\n",
              "      <td>1.762423</td>\n",
              "      <td>0.613661</td>\n",
              "      <td>0.907623</td>\n",
              "    </tr>\n",
              "    <tr>\n",
              "      <th>min</th>\n",
              "      <td>1.787800e+04</td>\n",
              "      <td>2.021093e+13</td>\n",
              "      <td>3.607000e+03</td>\n",
              "      <td>0.000000</td>\n",
              "      <td>0.000000</td>\n",
              "      <td>NaN</td>\n",
              "      <td>-23.072620</td>\n",
              "      <td>-43.698890</td>\n",
              "      <td>0.000000</td>\n",
              "      <td>NaN</td>\n",
              "      <td>1.000000</td>\n",
              "      <td>0.000000</td>\n",
              "      <td>1.000000</td>\n",
              "      <td>1.000000e+00</td>\n",
              "      <td>1.000000</td>\n",
              "      <td>1.000000</td>\n",
              "      <td>1.000000e+00</td>\n",
              "      <td>1.000000e+00</td>\n",
              "      <td>1.000000</td>\n",
              "      <td>1.000000e+00</td>\n",
              "      <td>NaN</td>\n",
              "      <td>0.000000</td>\n",
              "      <td>0.000000</td>\n",
              "      <td>0.000000</td>\n",
              "      <td>0.000000</td>\n",
              "      <td>0.000000</td>\n",
              "      <td>0.000000</td>\n",
              "      <td>0.000000</td>\n",
              "      <td>0.000000</td>\n",
              "      <td>0.000000</td>\n",
              "      <td>0.000000</td>\n",
              "      <td>0.000000</td>\n",
              "      <td>1.000000</td>\n",
              "      <td>1.000000</td>\n",
              "      <td>1.000000</td>\n",
              "      <td>NaN</td>\n",
              "      <td>1.000000</td>\n",
              "      <td>0.000000</td>\n",
              "      <td>0.000000</td>\n",
              "      <td>0.000000</td>\n",
              "      <td>0.010000</td>\n",
              "    </tr>\n",
              "    <tr>\n",
              "      <th>25%</th>\n",
              "      <td>1.242405e+07</td>\n",
              "      <td>2.021093e+13</td>\n",
              "      <td>1.427959e+07</td>\n",
              "      <td>1.000000</td>\n",
              "      <td>1.000000</td>\n",
              "      <td>NaN</td>\n",
              "      <td>-22.984650</td>\n",
              "      <td>-43.303010</td>\n",
              "      <td>2.000000</td>\n",
              "      <td>NaN</td>\n",
              "      <td>1.000000</td>\n",
              "      <td>1.000000</td>\n",
              "      <td>1.000000</td>\n",
              "      <td>3.100000e+01</td>\n",
              "      <td>2.000000</td>\n",
              "      <td>2.000000</td>\n",
              "      <td>9.000000e+01</td>\n",
              "      <td>9.000000e+01</td>\n",
              "      <td>2.000000</td>\n",
              "      <td>9.000000e+01</td>\n",
              "      <td>NaN</td>\n",
              "      <td>8.000000</td>\n",
              "      <td>27.000000</td>\n",
              "      <td>48.000000</td>\n",
              "      <td>90.000000</td>\n",
              "      <td>0.000000</td>\n",
              "      <td>0.000000</td>\n",
              "      <td>0.000000</td>\n",
              "      <td>4.650000</td>\n",
              "      <td>4.780000</td>\n",
              "      <td>4.600000</td>\n",
              "      <td>4.900000</td>\n",
              "      <td>4.870000</td>\n",
              "      <td>4.860000</td>\n",
              "      <td>4.500000</td>\n",
              "      <td>NaN</td>\n",
              "      <td>1.000000</td>\n",
              "      <td>1.000000</td>\n",
              "      <td>0.000000</td>\n",
              "      <td>0.000000</td>\n",
              "      <td>0.090000</td>\n",
              "    </tr>\n",
              "    <tr>\n",
              "      <th>50%</th>\n",
              "      <td>2.618998e+07</td>\n",
              "      <td>2.021093e+13</td>\n",
              "      <td>6.037972e+07</td>\n",
              "      <td>1.000000</td>\n",
              "      <td>1.000000</td>\n",
              "      <td>NaN</td>\n",
              "      <td>-22.971915</td>\n",
              "      <td>-43.196135</td>\n",
              "      <td>4.000000</td>\n",
              "      <td>NaN</td>\n",
              "      <td>1.000000</td>\n",
              "      <td>2.000000</td>\n",
              "      <td>2.000000</td>\n",
              "      <td>1.124000e+03</td>\n",
              "      <td>2.000000</td>\n",
              "      <td>3.000000</td>\n",
              "      <td>1.125000e+03</td>\n",
              "      <td>1.125000e+03</td>\n",
              "      <td>2.600000</td>\n",
              "      <td>1.125000e+03</td>\n",
              "      <td>NaN</td>\n",
              "      <td>27.000000</td>\n",
              "      <td>56.000000</td>\n",
              "      <td>84.000000</td>\n",
              "      <td>264.000000</td>\n",
              "      <td>2.000000</td>\n",
              "      <td>0.000000</td>\n",
              "      <td>0.000000</td>\n",
              "      <td>4.880000</td>\n",
              "      <td>4.960000</td>\n",
              "      <td>4.870000</td>\n",
              "      <td>5.000000</td>\n",
              "      <td>5.000000</td>\n",
              "      <td>5.000000</td>\n",
              "      <td>4.760000</td>\n",
              "      <td>NaN</td>\n",
              "      <td>1.000000</td>\n",
              "      <td>1.000000</td>\n",
              "      <td>0.000000</td>\n",
              "      <td>0.000000</td>\n",
              "      <td>0.270000</td>\n",
              "    </tr>\n",
              "    <tr>\n",
              "      <th>75%</th>\n",
              "      <td>4.193944e+07</td>\n",
              "      <td>2.021093e+13</td>\n",
              "      <td>1.594694e+08</td>\n",
              "      <td>4.000000</td>\n",
              "      <td>4.000000</td>\n",
              "      <td>NaN</td>\n",
              "      <td>-22.950905</td>\n",
              "      <td>-43.186120</td>\n",
              "      <td>5.000000</td>\n",
              "      <td>NaN</td>\n",
              "      <td>2.000000</td>\n",
              "      <td>3.000000</td>\n",
              "      <td>4.000000</td>\n",
              "      <td>1.125000e+03</td>\n",
              "      <td>4.000000</td>\n",
              "      <td>5.000000</td>\n",
              "      <td>1.125000e+03</td>\n",
              "      <td>1.125000e+03</td>\n",
              "      <td>4.000000</td>\n",
              "      <td>1.125000e+03</td>\n",
              "      <td>NaN</td>\n",
              "      <td>30.000000</td>\n",
              "      <td>59.000000</td>\n",
              "      <td>89.000000</td>\n",
              "      <td>362.000000</td>\n",
              "      <td>11.000000</td>\n",
              "      <td>2.000000</td>\n",
              "      <td>0.000000</td>\n",
              "      <td>5.000000</td>\n",
              "      <td>5.000000</td>\n",
              "      <td>5.000000</td>\n",
              "      <td>5.000000</td>\n",
              "      <td>5.000000</td>\n",
              "      <td>5.000000</td>\n",
              "      <td>5.000000</td>\n",
              "      <td>NaN</td>\n",
              "      <td>3.000000</td>\n",
              "      <td>2.000000</td>\n",
              "      <td>1.000000</td>\n",
              "      <td>0.000000</td>\n",
              "      <td>0.910000</td>\n",
              "    </tr>\n",
              "    <tr>\n",
              "      <th>max</th>\n",
              "      <td>5.249405e+07</td>\n",
              "      <td>2.021093e+13</td>\n",
              "      <td>4.245700e+08</td>\n",
              "      <td>589.000000</td>\n",
              "      <td>589.000000</td>\n",
              "      <td>NaN</td>\n",
              "      <td>-22.749690</td>\n",
              "      <td>-43.104400</td>\n",
              "      <td>16.000000</td>\n",
              "      <td>NaN</td>\n",
              "      <td>47.000000</td>\n",
              "      <td>91.000000</td>\n",
              "      <td>1000.000000</td>\n",
              "      <td>2.147484e+09</td>\n",
              "      <td>730.000000</td>\n",
              "      <td>730.000000</td>\n",
              "      <td>2.147484e+09</td>\n",
              "      <td>2.147484e+09</td>\n",
              "      <td>730.000000</td>\n",
              "      <td>2.147484e+09</td>\n",
              "      <td>NaN</td>\n",
              "      <td>30.000000</td>\n",
              "      <td>60.000000</td>\n",
              "      <td>90.000000</td>\n",
              "      <td>365.000000</td>\n",
              "      <td>486.000000</td>\n",
              "      <td>239.000000</td>\n",
              "      <td>17.000000</td>\n",
              "      <td>5.000000</td>\n",
              "      <td>5.000000</td>\n",
              "      <td>5.000000</td>\n",
              "      <td>5.000000</td>\n",
              "      <td>5.000000</td>\n",
              "      <td>5.000000</td>\n",
              "      <td>5.000000</td>\n",
              "      <td>NaN</td>\n",
              "      <td>187.000000</td>\n",
              "      <td>183.000000</td>\n",
              "      <td>25.000000</td>\n",
              "      <td>11.000000</td>\n",
              "      <td>25.520000</td>\n",
              "    </tr>\n",
              "  </tbody>\n",
              "</table>\n",
              "</div>"
            ],
            "text/plain": [
              "         id_anuncio  ...  reviews_per_month\n",
              "count  2.341400e+04  ...       15073.000000\n",
              "mean   2.641178e+07  ...           0.649966\n",
              "std    1.665127e+07  ...           0.907623\n",
              "min    1.787800e+04  ...           0.010000\n",
              "25%    1.242405e+07  ...           0.090000\n",
              "50%    2.618998e+07  ...           0.270000\n",
              "75%    4.193944e+07  ...           0.910000\n",
              "max    5.249405e+07  ...          25.520000\n",
              "\n",
              "[8 rows x 41 columns]"
            ]
          },
          "metadata": {},
          "execution_count": 10
        }
      ]
    },
    {
      "cell_type": "code",
      "metadata": {
        "id": "iFftReCCCa_Z"
      },
      "source": [
        "# a coluna 'price' não pode ser transformada em inteiro pelo formato, então foi aplicado o fatiamento de dados para retirar o simblo '$', em uma coluna que recebeu o nome de 'preco'.\n",
        "df['preco'] = df['price'].str[1:-3]"
      ],
      "execution_count": 11,
      "outputs": []
    },
    {
      "cell_type": "code",
      "metadata": {
        "id": "HqWeYRU0Lngw"
      },
      "source": [
        "# corrigindo a formatação do valor, para mudar o tipo dos dados\n",
        "def corrigir_preco(preco):\n",
        "  preco = preco.replace(',','')\n",
        "  return preco"
      ],
      "execution_count": 12,
      "outputs": []
    },
    {
      "cell_type": "code",
      "metadata": {
        "id": "baiFgvJ3NMhd"
      },
      "source": [
        "# aplicando a correção\n",
        "df['preco'] = df['preco'].apply(corrigir_preco)"
      ],
      "execution_count": 13,
      "outputs": []
    },
    {
      "cell_type": "code",
      "metadata": {
        "id": "YSFhTS8W7TfF"
      },
      "source": [
        "# modificando o tipo dos dados\n",
        "df['anfitriao_id'] = df['anfitriao_id'].astype('object')\n",
        "df['id_anuncio'] = df['id_anuncio'].astype('object')\n",
        "df['preco'] = df['preco'].astype('float64')"
      ],
      "execution_count": 14,
      "outputs": []
    },
    {
      "cell_type": "markdown",
      "metadata": {
        "id": "Le66fgcaWbCc"
      },
      "source": [
        "### Validação dos dados"
      ]
    },
    {
      "cell_type": "code",
      "metadata": {
        "id": "aMTldtzH-RxV"
      },
      "source": [
        "schema = pa.DataFrameSchema(\n",
        "    columns = {\n",
        "        \"anfitriao_id\":pa.Column(pa.String),\n",
        "        'anfitriao_nome':pa.Column(pa.String, nullable=True),\n",
        "        \"anf_data_cadastro\":pa.Column(pa.DateTime, nullable=True),\n",
        "        \"id_anuncio\":pa.Column(pa.String),\n",
        "        \"nome_anuncio\":pa.Column(pa.String, nullable=True),\n",
        "        \"bairro\":pa.Column(pa.String),\n",
        "        \"tipo_propriedade\":pa.Column(pa.String),\n",
        "        \"tipo_acomodacao\":pa.Column(pa.String),\n",
        "        \"numero_hospedes\":pa.Column(pa.Int),\n",
        "        \"quartos\":pa.Column(pa.Float, nullable=True),\n",
        "        'camas':pa.Column(pa.Float, nullable=True),\n",
        "        'preco':pa.Column(pa.Float),\n",
        "        'min_noites':pa.Column(pa.Int),\n",
        "        'max_noites':pa.Column(pa.Int),\n",
        "        'disponivel':pa.Column(pa.String),\n",
        "        'numero_avaliaçoes':pa.Column(pa.Int),\n",
        "        'pontuacao_avaliacoes':pa.Column(pa.Float, nullable=True),\n",
        "        'confirmacao_instantanea':pa.Column(pa.String),\n",
        "        'anf_tempo_resposta':pa.Column(pa.String, nullable=True),\n",
        "        'anf_taxa_resposta':pa.Column(pa.String, nullable=True),\n",
        "        'anf_taxa_aceitacao':pa.Column(pa.String, nullable=True),\n",
        "        'super_anfitriao':pa.Column(pa.String, nullable=True),\n",
        "        'anf_bairro':pa.Column(pa.String, nullable=True),\n",
        "        'quant_anuncios':pa.Column(pa.Float, nullable=True),\n",
        "        'anf_num_total_anuncios':pa.Column(pa.Float, nullable=True),\n",
        "        'anf_foto_perfil':pa.Column(pa.String, nullable=True),\n",
        "        'anf_identidade_verificada':pa.Column(pa.String, nullable=True)\n",
        "    }\n",
        ")"
      ],
      "execution_count": 15,
      "outputs": []
    },
    {
      "cell_type": "code",
      "metadata": {
        "id": "ph-aqoTKY3M6",
        "colab": {
          "base_uri": "https://localhost:8080/",
          "height": 1000
        },
        "outputId": "5a9d8926-2aff-44b4-ba2d-45e10bd0c863"
      },
      "source": [
        "schema.validate(df)"
      ],
      "execution_count": 16,
      "outputs": [
        {
          "output_type": "execute_result",
          "data": {
            "text/html": [
              "<div>\n",
              "<style scoped>\n",
              "    .dataframe tbody tr th:only-of-type {\n",
              "        vertical-align: middle;\n",
              "    }\n",
              "\n",
              "    .dataframe tbody tr th {\n",
              "        vertical-align: top;\n",
              "    }\n",
              "\n",
              "    .dataframe thead th {\n",
              "        text-align: right;\n",
              "    }\n",
              "</style>\n",
              "<table border=\"1\" class=\"dataframe\">\n",
              "  <thead>\n",
              "    <tr style=\"text-align: right;\">\n",
              "      <th></th>\n",
              "      <th>id_anuncio</th>\n",
              "      <th>listing_url</th>\n",
              "      <th>scrape_id</th>\n",
              "      <th>last_scraped</th>\n",
              "      <th>nome_anuncio</th>\n",
              "      <th>description</th>\n",
              "      <th>neighborhood_overview</th>\n",
              "      <th>picture_url</th>\n",
              "      <th>anfitriao_id</th>\n",
              "      <th>host_url</th>\n",
              "      <th>anfitriao_nome</th>\n",
              "      <th>anf_data_cadastro</th>\n",
              "      <th>host_location</th>\n",
              "      <th>host_about</th>\n",
              "      <th>anf_tempo_resposta</th>\n",
              "      <th>anf_taxa_resposta</th>\n",
              "      <th>anf_taxa_aceitacao</th>\n",
              "      <th>super_anfitriao</th>\n",
              "      <th>host_thumbnail_url</th>\n",
              "      <th>host_picture_url</th>\n",
              "      <th>anf_bairro</th>\n",
              "      <th>quant_anuncios</th>\n",
              "      <th>anf_num_total_anuncios</th>\n",
              "      <th>host_verifications</th>\n",
              "      <th>anf_foto_perfil</th>\n",
              "      <th>anf_identidade_verificada</th>\n",
              "      <th>neighbourhood</th>\n",
              "      <th>bairro</th>\n",
              "      <th>neighbourhood_group_cleansed</th>\n",
              "      <th>latitude</th>\n",
              "      <th>longitude</th>\n",
              "      <th>tipo_propriedade</th>\n",
              "      <th>tipo_acomodacao</th>\n",
              "      <th>numero_hospedes</th>\n",
              "      <th>bathrooms</th>\n",
              "      <th>bathrooms_text</th>\n",
              "      <th>quartos</th>\n",
              "      <th>camas</th>\n",
              "      <th>amenities</th>\n",
              "      <th>price</th>\n",
              "      <th>min_noites</th>\n",
              "      <th>max_noites</th>\n",
              "      <th>minimum_minimum_nights</th>\n",
              "      <th>maximum_minimum_nights</th>\n",
              "      <th>minimum_maximum_nights</th>\n",
              "      <th>maximum_maximum_nights</th>\n",
              "      <th>minimum_nights_avg_ntm</th>\n",
              "      <th>maximum_nights_avg_ntm</th>\n",
              "      <th>calendar_updated</th>\n",
              "      <th>disponivel</th>\n",
              "      <th>availability_30</th>\n",
              "      <th>availability_60</th>\n",
              "      <th>availability_90</th>\n",
              "      <th>availability_365</th>\n",
              "      <th>calendar_last_scraped</th>\n",
              "      <th>numero_avaliaçoes</th>\n",
              "      <th>number_of_reviews_ltm</th>\n",
              "      <th>number_of_reviews_l30d</th>\n",
              "      <th>first_review</th>\n",
              "      <th>last_review</th>\n",
              "      <th>pontuacao_avaliacoes</th>\n",
              "      <th>review_scores_accuracy</th>\n",
              "      <th>review_scores_cleanliness</th>\n",
              "      <th>review_scores_checkin</th>\n",
              "      <th>review_scores_communication</th>\n",
              "      <th>review_scores_location</th>\n",
              "      <th>review_scores_value</th>\n",
              "      <th>license</th>\n",
              "      <th>confirmacao_instantanea</th>\n",
              "      <th>calculated_host_listings_count</th>\n",
              "      <th>calculated_host_listings_count_entire_homes</th>\n",
              "      <th>calculated_host_listings_count_private_rooms</th>\n",
              "      <th>calculated_host_listings_count_shared_rooms</th>\n",
              "      <th>reviews_per_month</th>\n",
              "      <th>preco</th>\n",
              "    </tr>\n",
              "  </thead>\n",
              "  <tbody>\n",
              "    <tr>\n",
              "      <th>0</th>\n",
              "      <td>17878</td>\n",
              "      <td>https://www.airbnb.com/rooms/17878</td>\n",
              "      <td>20210928134526</td>\n",
              "      <td>2021-09-28</td>\n",
              "      <td>Very Nice 2Br in Copacabana w. balcony, fast WiFi</td>\n",
              "      <td>Discounts for long term stays. &lt;br /&gt;- Large b...</td>\n",
              "      <td>This is the one of the bests spots in Rio. Bec...</td>\n",
              "      <td>https://a0.muscache.com/pictures/65320518/3069...</td>\n",
              "      <td>68997</td>\n",
              "      <td>https://www.airbnb.com/users/show/68997</td>\n",
              "      <td>Matthias</td>\n",
              "      <td>2010-01-08</td>\n",
              "      <td>Rio de Janeiro, State of Rio de Janeiro, Brazil</td>\n",
              "      <td>I  am a  journalist/writer. Lived  in NYC for ...</td>\n",
              "      <td>within an hour</td>\n",
              "      <td>100%</td>\n",
              "      <td>98%</td>\n",
              "      <td>f</td>\n",
              "      <td>https://a0.muscache.com/im/pictures/user/67b13...</td>\n",
              "      <td>https://a0.muscache.com/im/pictures/user/67b13...</td>\n",
              "      <td>Copacabana</td>\n",
              "      <td>2.0</td>\n",
              "      <td>2.0</td>\n",
              "      <td>['email', 'phone', 'reviews', 'jumio', 'offlin...</td>\n",
              "      <td>t</td>\n",
              "      <td>t</td>\n",
              "      <td>Rio de Janeiro, Brazil</td>\n",
              "      <td>Copacabana</td>\n",
              "      <td>NaN</td>\n",
              "      <td>-22.965990</td>\n",
              "      <td>-43.179400</td>\n",
              "      <td>Entire condominium (condo)</td>\n",
              "      <td>Entire home/apt</td>\n",
              "      <td>5</td>\n",
              "      <td>NaN</td>\n",
              "      <td>1 bath</td>\n",
              "      <td>2.0</td>\n",
              "      <td>2.0</td>\n",
              "      <td>[\"Hangers\", \"Dishes and silverware\", \"Iron\", \"...</td>\n",
              "      <td>$350.00</td>\n",
              "      <td>4</td>\n",
              "      <td>180</td>\n",
              "      <td>4</td>\n",
              "      <td>4</td>\n",
              "      <td>1125</td>\n",
              "      <td>1125</td>\n",
              "      <td>4.0</td>\n",
              "      <td>1125.0</td>\n",
              "      <td>NaN</td>\n",
              "      <td>t</td>\n",
              "      <td>16</td>\n",
              "      <td>46</td>\n",
              "      <td>69</td>\n",
              "      <td>314</td>\n",
              "      <td>2021-09-28</td>\n",
              "      <td>265</td>\n",
              "      <td>12</td>\n",
              "      <td>0</td>\n",
              "      <td>2011-03-30</td>\n",
              "      <td>2021-05-21</td>\n",
              "      <td>4.68</td>\n",
              "      <td>4.78</td>\n",
              "      <td>4.63</td>\n",
              "      <td>4.82</td>\n",
              "      <td>4.90</td>\n",
              "      <td>4.76</td>\n",
              "      <td>4.65</td>\n",
              "      <td>NaN</td>\n",
              "      <td>t</td>\n",
              "      <td>1</td>\n",
              "      <td>1</td>\n",
              "      <td>0</td>\n",
              "      <td>0</td>\n",
              "      <td>2.07</td>\n",
              "      <td>350.0</td>\n",
              "    </tr>\n",
              "    <tr>\n",
              "      <th>1</th>\n",
              "      <td>24480</td>\n",
              "      <td>https://www.airbnb.com/rooms/24480</td>\n",
              "      <td>20210928134526</td>\n",
              "      <td>2021-09-29</td>\n",
              "      <td>Nice and cozy near Ipanema Beach, w/ home office</td>\n",
              "      <td>My studio is located in the best of Ipanema, t...</td>\n",
              "      <td>The beach, the lagoon, Ipanema is a great loca...</td>\n",
              "      <td>https://a0.muscache.com/pictures/11955612/b28e...</td>\n",
              "      <td>99249</td>\n",
              "      <td>https://www.airbnb.com/users/show/99249</td>\n",
              "      <td>Goya</td>\n",
              "      <td>2010-03-26</td>\n",
              "      <td>Rio de Janeiro, Rio de Janeiro, Brazil</td>\n",
              "      <td>Welcome to Rio!\\nI am a human being fighting f...</td>\n",
              "      <td>within a day</td>\n",
              "      <td>50%</td>\n",
              "      <td>NaN</td>\n",
              "      <td>f</td>\n",
              "      <td>https://a0.muscache.com/im/pictures/user/6b404...</td>\n",
              "      <td>https://a0.muscache.com/im/pictures/user/6b404...</td>\n",
              "      <td>Ipanema</td>\n",
              "      <td>0.0</td>\n",
              "      <td>0.0</td>\n",
              "      <td>['email', 'phone', 'reviews', 'jumio', 'govern...</td>\n",
              "      <td>t</td>\n",
              "      <td>t</td>\n",
              "      <td>Rio de Janeiro, Brazil</td>\n",
              "      <td>Ipanema</td>\n",
              "      <td>NaN</td>\n",
              "      <td>-22.984050</td>\n",
              "      <td>-43.201890</td>\n",
              "      <td>Entire rental unit</td>\n",
              "      <td>Entire home/apt</td>\n",
              "      <td>2</td>\n",
              "      <td>NaN</td>\n",
              "      <td>1 bath</td>\n",
              "      <td>1.0</td>\n",
              "      <td>1.0</td>\n",
              "      <td>[\"Clothing storage: wardrobe\", \"Dining table\",...</td>\n",
              "      <td>$297.00</td>\n",
              "      <td>3</td>\n",
              "      <td>90</td>\n",
              "      <td>3</td>\n",
              "      <td>3</td>\n",
              "      <td>90</td>\n",
              "      <td>90</td>\n",
              "      <td>3.0</td>\n",
              "      <td>90.0</td>\n",
              "      <td>NaN</td>\n",
              "      <td>t</td>\n",
              "      <td>0</td>\n",
              "      <td>0</td>\n",
              "      <td>0</td>\n",
              "      <td>30</td>\n",
              "      <td>2021-09-29</td>\n",
              "      <td>85</td>\n",
              "      <td>0</td>\n",
              "      <td>0</td>\n",
              "      <td>2013-08-20</td>\n",
              "      <td>2017-04-22</td>\n",
              "      <td>4.73</td>\n",
              "      <td>4.83</td>\n",
              "      <td>4.78</td>\n",
              "      <td>4.90</td>\n",
              "      <td>4.90</td>\n",
              "      <td>4.97</td>\n",
              "      <td>4.58</td>\n",
              "      <td>NaN</td>\n",
              "      <td>f</td>\n",
              "      <td>1</td>\n",
              "      <td>1</td>\n",
              "      <td>0</td>\n",
              "      <td>0</td>\n",
              "      <td>0.86</td>\n",
              "      <td>297.0</td>\n",
              "    </tr>\n",
              "    <tr>\n",
              "      <th>2</th>\n",
              "      <td>25026</td>\n",
              "      <td>https://www.airbnb.com/rooms/25026</td>\n",
              "      <td>20210928134526</td>\n",
              "      <td>2021-09-28</td>\n",
              "      <td>Beautiful Modern Decorated Studio in Copa</td>\n",
              "      <td>Our apartment is a little gem, everyone loves ...</td>\n",
              "      <td>Copacabana is a lively neighborhood and the ap...</td>\n",
              "      <td>https://a0.muscache.com/pictures/3003965/68ebb...</td>\n",
              "      <td>102840</td>\n",
              "      <td>https://www.airbnb.com/users/show/102840</td>\n",
              "      <td>Viviane</td>\n",
              "      <td>2010-04-03</td>\n",
              "      <td>Rio de Janeiro, State of Rio de Janeiro, Brazil</td>\n",
              "      <td>Hi guys, We're a lovely team of 3 people:\\r\\n\\...</td>\n",
              "      <td>within a day</td>\n",
              "      <td>50%</td>\n",
              "      <td>36%</td>\n",
              "      <td>f</td>\n",
              "      <td>https://a0.muscache.com/im/pictures/user/9e204...</td>\n",
              "      <td>https://a0.muscache.com/im/pictures/user/9e204...</td>\n",
              "      <td>Copacabana</td>\n",
              "      <td>3.0</td>\n",
              "      <td>3.0</td>\n",
              "      <td>['email', 'phone', 'facebook', 'reviews', 'jum...</td>\n",
              "      <td>t</td>\n",
              "      <td>t</td>\n",
              "      <td>Rio de Janeiro, Brazil</td>\n",
              "      <td>Copacabana</td>\n",
              "      <td>NaN</td>\n",
              "      <td>-22.977350</td>\n",
              "      <td>-43.191050</td>\n",
              "      <td>Entire rental unit</td>\n",
              "      <td>Entire home/apt</td>\n",
              "      <td>2</td>\n",
              "      <td>NaN</td>\n",
              "      <td>1 bath</td>\n",
              "      <td>1.0</td>\n",
              "      <td>2.0</td>\n",
              "      <td>[\"Kitchen\", \"Cable TV\", \"Hangers\", \"Iron\", \"De...</td>\n",
              "      <td>$160.00</td>\n",
              "      <td>7</td>\n",
              "      <td>60</td>\n",
              "      <td>7</td>\n",
              "      <td>7</td>\n",
              "      <td>60</td>\n",
              "      <td>60</td>\n",
              "      <td>7.0</td>\n",
              "      <td>60.0</td>\n",
              "      <td>NaN</td>\n",
              "      <td>t</td>\n",
              "      <td>0</td>\n",
              "      <td>0</td>\n",
              "      <td>27</td>\n",
              "      <td>266</td>\n",
              "      <td>2021-09-28</td>\n",
              "      <td>238</td>\n",
              "      <td>0</td>\n",
              "      <td>0</td>\n",
              "      <td>2011-03-18</td>\n",
              "      <td>2019-04-27</td>\n",
              "      <td>4.68</td>\n",
              "      <td>4.65</td>\n",
              "      <td>4.76</td>\n",
              "      <td>4.77</td>\n",
              "      <td>4.90</td>\n",
              "      <td>4.81</td>\n",
              "      <td>4.56</td>\n",
              "      <td>NaN</td>\n",
              "      <td>f</td>\n",
              "      <td>2</td>\n",
              "      <td>2</td>\n",
              "      <td>0</td>\n",
              "      <td>0</td>\n",
              "      <td>1.86</td>\n",
              "      <td>160.0</td>\n",
              "    </tr>\n",
              "    <tr>\n",
              "      <th>3</th>\n",
              "      <td>35636</td>\n",
              "      <td>https://www.airbnb.com/rooms/35636</td>\n",
              "      <td>20210928134526</td>\n",
              "      <td>2021-09-30</td>\n",
              "      <td>Cosy flat close to Ipanema beach</td>\n",
              "      <td>This cosy apartment  is just a few steps away ...</td>\n",
              "      <td>The  apartment street is very quiet and safe ....</td>\n",
              "      <td>https://a0.muscache.com/pictures/20009355/38b6...</td>\n",
              "      <td>153232</td>\n",
              "      <td>https://www.airbnb.com/users/show/153232</td>\n",
              "      <td>Patricia</td>\n",
              "      <td>2010-06-27</td>\n",
              "      <td>San Carlos de Bariloche, Rio Negro, Argentina</td>\n",
              "      <td>I am Brazilian and Carioca graphic designer, b...</td>\n",
              "      <td>within a day</td>\n",
              "      <td>100%</td>\n",
              "      <td>NaN</td>\n",
              "      <td>t</td>\n",
              "      <td>https://a0.muscache.com/im/users/153232/profil...</td>\n",
              "      <td>https://a0.muscache.com/im/users/153232/profil...</td>\n",
              "      <td>Ipanema</td>\n",
              "      <td>1.0</td>\n",
              "      <td>1.0</td>\n",
              "      <td>['email', 'phone', 'facebook', 'reviews', 'man...</td>\n",
              "      <td>t</td>\n",
              "      <td>t</td>\n",
              "      <td>Rio de Janeiro, Brazil</td>\n",
              "      <td>Ipanema</td>\n",
              "      <td>NaN</td>\n",
              "      <td>-22.988390</td>\n",
              "      <td>-43.192320</td>\n",
              "      <td>Entire rental unit</td>\n",
              "      <td>Entire home/apt</td>\n",
              "      <td>2</td>\n",
              "      <td>NaN</td>\n",
              "      <td>1.5 baths</td>\n",
              "      <td>1.0</td>\n",
              "      <td>1.0</td>\n",
              "      <td>[\"Hangers\", \"Dishes and silverware\", \"Iron\", \"...</td>\n",
              "      <td>$271.00</td>\n",
              "      <td>2</td>\n",
              "      <td>89</td>\n",
              "      <td>2</td>\n",
              "      <td>2</td>\n",
              "      <td>89</td>\n",
              "      <td>89</td>\n",
              "      <td>2.0</td>\n",
              "      <td>89.0</td>\n",
              "      <td>NaN</td>\n",
              "      <td>t</td>\n",
              "      <td>0</td>\n",
              "      <td>0</td>\n",
              "      <td>0</td>\n",
              "      <td>151</td>\n",
              "      <td>2021-09-30</td>\n",
              "      <td>181</td>\n",
              "      <td>0</td>\n",
              "      <td>0</td>\n",
              "      <td>2013-12-29</td>\n",
              "      <td>2019-12-06</td>\n",
              "      <td>4.72</td>\n",
              "      <td>4.85</td>\n",
              "      <td>4.63</td>\n",
              "      <td>4.85</td>\n",
              "      <td>4.88</td>\n",
              "      <td>4.90</td>\n",
              "      <td>4.65</td>\n",
              "      <td>NaN</td>\n",
              "      <td>f</td>\n",
              "      <td>1</td>\n",
              "      <td>1</td>\n",
              "      <td>0</td>\n",
              "      <td>0</td>\n",
              "      <td>1.92</td>\n",
              "      <td>271.0</td>\n",
              "    </tr>\n",
              "    <tr>\n",
              "      <th>4</th>\n",
              "      <td>35764</td>\n",
              "      <td>https://www.airbnb.com/rooms/35764</td>\n",
              "      <td>20210928134526</td>\n",
              "      <td>2021-09-29</td>\n",
              "      <td>COPACABANA SEA BREEZE  -  RIO - 20 X Superhost</td>\n",
              "      <td>Our newly renovated studio is located in the b...</td>\n",
              "      <td>Our guests will experience living with a local...</td>\n",
              "      <td>https://a0.muscache.com/pictures/23782972/1d3e...</td>\n",
              "      <td>153691</td>\n",
              "      <td>https://www.airbnb.com/users/show/153691</td>\n",
              "      <td>Patricia Miranda &amp; Paulo</td>\n",
              "      <td>2010-06-27</td>\n",
              "      <td>Rio de Janeiro, Rio de Janeiro, Brazil</td>\n",
              "      <td>Hello,   We are Patricia Miranda and Paulo.\\r\\...</td>\n",
              "      <td>within a day</td>\n",
              "      <td>100%</td>\n",
              "      <td>97%</td>\n",
              "      <td>t</td>\n",
              "      <td>https://a0.muscache.com/im/users/153691/profil...</td>\n",
              "      <td>https://a0.muscache.com/im/users/153691/profil...</td>\n",
              "      <td>Copacabana</td>\n",
              "      <td>1.0</td>\n",
              "      <td>1.0</td>\n",
              "      <td>['email', 'phone', 'reviews', 'jumio']</td>\n",
              "      <td>t</td>\n",
              "      <td>t</td>\n",
              "      <td>Rio de Janeiro, Brazil</td>\n",
              "      <td>Copacabana</td>\n",
              "      <td>NaN</td>\n",
              "      <td>-22.981070</td>\n",
              "      <td>-43.191360</td>\n",
              "      <td>Entire loft</td>\n",
              "      <td>Entire home/apt</td>\n",
              "      <td>2</td>\n",
              "      <td>NaN</td>\n",
              "      <td>1 bath</td>\n",
              "      <td>1.0</td>\n",
              "      <td>1.0</td>\n",
              "      <td>[\"Hangers\", \"Dishes and silverware\", \"Iron\", \"...</td>\n",
              "      <td>$121.00</td>\n",
              "      <td>3</td>\n",
              "      <td>15</td>\n",
              "      <td>3</td>\n",
              "      <td>3</td>\n",
              "      <td>15</td>\n",
              "      <td>15</td>\n",
              "      <td>3.0</td>\n",
              "      <td>15.0</td>\n",
              "      <td>NaN</td>\n",
              "      <td>t</td>\n",
              "      <td>0</td>\n",
              "      <td>4</td>\n",
              "      <td>7</td>\n",
              "      <td>30</td>\n",
              "      <td>2021-09-29</td>\n",
              "      <td>371</td>\n",
              "      <td>35</td>\n",
              "      <td>3</td>\n",
              "      <td>2011-10-07</td>\n",
              "      <td>2019-06-15</td>\n",
              "      <td>4.90</td>\n",
              "      <td>4.93</td>\n",
              "      <td>4.94</td>\n",
              "      <td>4.96</td>\n",
              "      <td>4.94</td>\n",
              "      <td>4.94</td>\n",
              "      <td>4.87</td>\n",
              "      <td>NaN</td>\n",
              "      <td>f</td>\n",
              "      <td>1</td>\n",
              "      <td>1</td>\n",
              "      <td>0</td>\n",
              "      <td>0</td>\n",
              "      <td>3.05</td>\n",
              "      <td>121.0</td>\n",
              "    </tr>\n",
              "    <tr>\n",
              "      <th>...</th>\n",
              "      <td>...</td>\n",
              "      <td>...</td>\n",
              "      <td>...</td>\n",
              "      <td>...</td>\n",
              "      <td>...</td>\n",
              "      <td>...</td>\n",
              "      <td>...</td>\n",
              "      <td>...</td>\n",
              "      <td>...</td>\n",
              "      <td>...</td>\n",
              "      <td>...</td>\n",
              "      <td>...</td>\n",
              "      <td>...</td>\n",
              "      <td>...</td>\n",
              "      <td>...</td>\n",
              "      <td>...</td>\n",
              "      <td>...</td>\n",
              "      <td>...</td>\n",
              "      <td>...</td>\n",
              "      <td>...</td>\n",
              "      <td>...</td>\n",
              "      <td>...</td>\n",
              "      <td>...</td>\n",
              "      <td>...</td>\n",
              "      <td>...</td>\n",
              "      <td>...</td>\n",
              "      <td>...</td>\n",
              "      <td>...</td>\n",
              "      <td>...</td>\n",
              "      <td>...</td>\n",
              "      <td>...</td>\n",
              "      <td>...</td>\n",
              "      <td>...</td>\n",
              "      <td>...</td>\n",
              "      <td>...</td>\n",
              "      <td>...</td>\n",
              "      <td>...</td>\n",
              "      <td>...</td>\n",
              "      <td>...</td>\n",
              "      <td>...</td>\n",
              "      <td>...</td>\n",
              "      <td>...</td>\n",
              "      <td>...</td>\n",
              "      <td>...</td>\n",
              "      <td>...</td>\n",
              "      <td>...</td>\n",
              "      <td>...</td>\n",
              "      <td>...</td>\n",
              "      <td>...</td>\n",
              "      <td>...</td>\n",
              "      <td>...</td>\n",
              "      <td>...</td>\n",
              "      <td>...</td>\n",
              "      <td>...</td>\n",
              "      <td>...</td>\n",
              "      <td>...</td>\n",
              "      <td>...</td>\n",
              "      <td>...</td>\n",
              "      <td>...</td>\n",
              "      <td>...</td>\n",
              "      <td>...</td>\n",
              "      <td>...</td>\n",
              "      <td>...</td>\n",
              "      <td>...</td>\n",
              "      <td>...</td>\n",
              "      <td>...</td>\n",
              "      <td>...</td>\n",
              "      <td>...</td>\n",
              "      <td>...</td>\n",
              "      <td>...</td>\n",
              "      <td>...</td>\n",
              "      <td>...</td>\n",
              "      <td>...</td>\n",
              "      <td>...</td>\n",
              "      <td>...</td>\n",
              "    </tr>\n",
              "    <tr>\n",
              "      <th>23409</th>\n",
              "      <td>52486233</td>\n",
              "      <td>https://www.airbnb.com/rooms/52486233</td>\n",
              "      <td>20210928134526</td>\n",
              "      <td>2021-09-29</td>\n",
              "      <td>Rara Cobertura | 3qtos |Qdra Praia |Ar Split |P5</td>\n",
              "      <td>Lindo duplex reformado há 200m DA PRAIA no Pos...</td>\n",
              "      <td>Copacabana é um dos bairros mais incríveis do ...</td>\n",
              "      <td>https://a0.muscache.com/pictures/6cd5ede0-cd14...</td>\n",
              "      <td>49194316</td>\n",
              "      <td>https://www.airbnb.com/users/show/49194316</td>\n",
              "      <td>Cristian</td>\n",
              "      <td>2015-11-16</td>\n",
              "      <td>Rio de Janeiro, State of Rio de Janeiro, Brazil</td>\n",
              "      <td>(Read in other languages below)     Olá! Obrig...</td>\n",
              "      <td>within an hour</td>\n",
              "      <td>100%</td>\n",
              "      <td>97%</td>\n",
              "      <td>t</td>\n",
              "      <td>https://a0.muscache.com/im/pictures/user/d87af...</td>\n",
              "      <td>https://a0.muscache.com/im/pictures/user/d87af...</td>\n",
              "      <td>Copacabana</td>\n",
              "      <td>3.0</td>\n",
              "      <td>3.0</td>\n",
              "      <td>['email', 'phone', 'reviews', 'jumio', 'offlin...</td>\n",
              "      <td>t</td>\n",
              "      <td>t</td>\n",
              "      <td>Copacabana, Rio de Janeiro, Brazil</td>\n",
              "      <td>Copacabana</td>\n",
              "      <td>NaN</td>\n",
              "      <td>-22.978960</td>\n",
              "      <td>-43.190060</td>\n",
              "      <td>Entire rental unit</td>\n",
              "      <td>Entire home/apt</td>\n",
              "      <td>6</td>\n",
              "      <td>NaN</td>\n",
              "      <td>2 baths</td>\n",
              "      <td>3.0</td>\n",
              "      <td>5.0</td>\n",
              "      <td>[\"Conditioner\", \"Dining table\", \"Hangers\", \"Mi...</td>\n",
              "      <td>$271.00</td>\n",
              "      <td>3</td>\n",
              "      <td>31</td>\n",
              "      <td>1</td>\n",
              "      <td>9</td>\n",
              "      <td>31</td>\n",
              "      <td>31</td>\n",
              "      <td>3.1</td>\n",
              "      <td>31.0</td>\n",
              "      <td>NaN</td>\n",
              "      <td>t</td>\n",
              "      <td>23</td>\n",
              "      <td>48</td>\n",
              "      <td>78</td>\n",
              "      <td>323</td>\n",
              "      <td>2021-09-29</td>\n",
              "      <td>0</td>\n",
              "      <td>0</td>\n",
              "      <td>0</td>\n",
              "      <td>NaT</td>\n",
              "      <td>NaT</td>\n",
              "      <td>NaN</td>\n",
              "      <td>NaN</td>\n",
              "      <td>NaN</td>\n",
              "      <td>NaN</td>\n",
              "      <td>NaN</td>\n",
              "      <td>NaN</td>\n",
              "      <td>NaN</td>\n",
              "      <td>NaN</td>\n",
              "      <td>f</td>\n",
              "      <td>2</td>\n",
              "      <td>2</td>\n",
              "      <td>0</td>\n",
              "      <td>0</td>\n",
              "      <td>NaN</td>\n",
              "      <td>271.0</td>\n",
              "    </tr>\n",
              "    <tr>\n",
              "      <th>23410</th>\n",
              "      <td>52490061</td>\n",
              "      <td>https://www.airbnb.com/rooms/52490061</td>\n",
              "      <td>20210928134526</td>\n",
              "      <td>2021-09-29</td>\n",
              "      <td>Studio 211</td>\n",
              "      <td>NaN</td>\n",
              "      <td>NaN</td>\n",
              "      <td>https://a0.muscache.com/pictures/87f4c4bb-cc50...</td>\n",
              "      <td>421418906</td>\n",
              "      <td>https://www.airbnb.com/users/show/421418906</td>\n",
              "      <td>Luiz</td>\n",
              "      <td>2021-09-03</td>\n",
              "      <td>BR</td>\n",
              "      <td>NaN</td>\n",
              "      <td>within an hour</td>\n",
              "      <td>99%</td>\n",
              "      <td>100%</td>\n",
              "      <td>f</td>\n",
              "      <td>https://a0.muscache.com/im/pictures/user/fb600...</td>\n",
              "      <td>https://a0.muscache.com/im/pictures/user/fb600...</td>\n",
              "      <td>NaN</td>\n",
              "      <td>2.0</td>\n",
              "      <td>2.0</td>\n",
              "      <td>['phone']</td>\n",
              "      <td>t</td>\n",
              "      <td>t</td>\n",
              "      <td>NaN</td>\n",
              "      <td>Leme</td>\n",
              "      <td>NaN</td>\n",
              "      <td>-22.964287</td>\n",
              "      <td>-43.171430</td>\n",
              "      <td>Entire rental unit</td>\n",
              "      <td>Entire home/apt</td>\n",
              "      <td>3</td>\n",
              "      <td>NaN</td>\n",
              "      <td>1 bath</td>\n",
              "      <td>NaN</td>\n",
              "      <td>1.0</td>\n",
              "      <td>[\"Kitchen\", \"Hangers\", \"Long term stays allowe...</td>\n",
              "      <td>$86.00</td>\n",
              "      <td>2</td>\n",
              "      <td>365</td>\n",
              "      <td>2</td>\n",
              "      <td>2</td>\n",
              "      <td>1125</td>\n",
              "      <td>1125</td>\n",
              "      <td>2.0</td>\n",
              "      <td>1125.0</td>\n",
              "      <td>NaN</td>\n",
              "      <td>t</td>\n",
              "      <td>25</td>\n",
              "      <td>55</td>\n",
              "      <td>80</td>\n",
              "      <td>262</td>\n",
              "      <td>2021-09-29</td>\n",
              "      <td>0</td>\n",
              "      <td>0</td>\n",
              "      <td>0</td>\n",
              "      <td>NaT</td>\n",
              "      <td>NaT</td>\n",
              "      <td>NaN</td>\n",
              "      <td>NaN</td>\n",
              "      <td>NaN</td>\n",
              "      <td>NaN</td>\n",
              "      <td>NaN</td>\n",
              "      <td>NaN</td>\n",
              "      <td>NaN</td>\n",
              "      <td>NaN</td>\n",
              "      <td>t</td>\n",
              "      <td>9</td>\n",
              "      <td>9</td>\n",
              "      <td>0</td>\n",
              "      <td>0</td>\n",
              "      <td>NaN</td>\n",
              "      <td>86.0</td>\n",
              "    </tr>\n",
              "    <tr>\n",
              "      <th>23411</th>\n",
              "      <td>52490411</td>\n",
              "      <td>https://www.airbnb.com/rooms/52490411</td>\n",
              "      <td>20210928134526</td>\n",
              "      <td>2021-09-30</td>\n",
              "      <td>Apartamento no inicio de Ipanema</td>\n",
              "      <td>Apartamento privativo num flat residencial a p...</td>\n",
              "      <td>Você vai estar no meio das praias de Copacaban...</td>\n",
              "      <td>https://a0.muscache.com/pictures/6a0abece-9304...</td>\n",
              "      <td>18896247</td>\n",
              "      <td>https://www.airbnb.com/users/show/18896247</td>\n",
              "      <td>Jorge</td>\n",
              "      <td>2014-07-25</td>\n",
              "      <td>Rio de Janeiro, Rio de Janeiro, Brazil</td>\n",
              "      <td>Sou formado em Educação Física, finalizando Nu...</td>\n",
              "      <td>within an hour</td>\n",
              "      <td>100%</td>\n",
              "      <td>100%</td>\n",
              "      <td>f</td>\n",
              "      <td>https://a0.muscache.com/im/pictures/user/1d2d0...</td>\n",
              "      <td>https://a0.muscache.com/im/pictures/user/1d2d0...</td>\n",
              "      <td>Copacabana</td>\n",
              "      <td>4.0</td>\n",
              "      <td>4.0</td>\n",
              "      <td>['email', 'phone', 'reviews', 'jumio', 'offlin...</td>\n",
              "      <td>t</td>\n",
              "      <td>t</td>\n",
              "      <td>Copacabana, Rio de Janeiro, Brazil</td>\n",
              "      <td>Ipanema</td>\n",
              "      <td>NaN</td>\n",
              "      <td>-22.988610</td>\n",
              "      <td>-43.192560</td>\n",
              "      <td>Entire rental unit</td>\n",
              "      <td>Entire home/apt</td>\n",
              "      <td>2</td>\n",
              "      <td>NaN</td>\n",
              "      <td>1 bath</td>\n",
              "      <td>1.0</td>\n",
              "      <td>1.0</td>\n",
              "      <td>[\"Dining table\", \"Wifi \\u2013 120 Mbps\", \"Hang...</td>\n",
              "      <td>$185.00</td>\n",
              "      <td>2</td>\n",
              "      <td>10</td>\n",
              "      <td>2</td>\n",
              "      <td>2</td>\n",
              "      <td>10</td>\n",
              "      <td>10</td>\n",
              "      <td>2.0</td>\n",
              "      <td>10.0</td>\n",
              "      <td>NaN</td>\n",
              "      <td>t</td>\n",
              "      <td>6</td>\n",
              "      <td>6</td>\n",
              "      <td>6</td>\n",
              "      <td>6</td>\n",
              "      <td>2021-09-30</td>\n",
              "      <td>0</td>\n",
              "      <td>0</td>\n",
              "      <td>0</td>\n",
              "      <td>NaT</td>\n",
              "      <td>NaT</td>\n",
              "      <td>NaN</td>\n",
              "      <td>NaN</td>\n",
              "      <td>NaN</td>\n",
              "      <td>NaN</td>\n",
              "      <td>NaN</td>\n",
              "      <td>NaN</td>\n",
              "      <td>NaN</td>\n",
              "      <td>NaN</td>\n",
              "      <td>f</td>\n",
              "      <td>4</td>\n",
              "      <td>4</td>\n",
              "      <td>0</td>\n",
              "      <td>0</td>\n",
              "      <td>NaN</td>\n",
              "      <td>185.0</td>\n",
              "    </tr>\n",
              "    <tr>\n",
              "      <th>23412</th>\n",
              "      <td>52493506</td>\n",
              "      <td>https://www.airbnb.com/rooms/52493506</td>\n",
              "      <td>20210928134526</td>\n",
              "      <td>2021-09-30</td>\n",
              "      <td>Mansão Cliff 04 suítes Joá #RJ03 Casa Alto Pad...</td>\n",
              "      <td>&lt;b&gt;Other things to note&lt;/b&gt;&lt;br /&gt;Localizada à ...</td>\n",
              "      <td>NaN</td>\n",
              "      <td>https://a0.muscache.com/pictures/prohost-api/H...</td>\n",
              "      <td>70646886</td>\n",
              "      <td>https://www.airbnb.com/users/show/70646886</td>\n",
              "      <td>LuxoBrasil</td>\n",
              "      <td>2016-05-06</td>\n",
              "      <td>Rio de Janeiro, State of Rio de Janeiro, Brazil</td>\n",
              "      <td>A Luxo Brasil foi fundada em 2021, pelos sócio...</td>\n",
              "      <td>within a day</td>\n",
              "      <td>94%</td>\n",
              "      <td>31%</td>\n",
              "      <td>f</td>\n",
              "      <td>https://a0.muscache.com/im/pictures/user/48104...</td>\n",
              "      <td>https://a0.muscache.com/im/pictures/user/48104...</td>\n",
              "      <td>Barra da Tijuca</td>\n",
              "      <td>32.0</td>\n",
              "      <td>32.0</td>\n",
              "      <td>['email', 'phone', 'reviews', 'jumio', 'govern...</td>\n",
              "      <td>t</td>\n",
              "      <td>t</td>\n",
              "      <td>NaN</td>\n",
              "      <td>Joá</td>\n",
              "      <td>NaN</td>\n",
              "      <td>-23.015811</td>\n",
              "      <td>-43.296018</td>\n",
              "      <td>Entire residential home</td>\n",
              "      <td>Entire home/apt</td>\n",
              "      <td>8</td>\n",
              "      <td>NaN</td>\n",
              "      <td>4 baths</td>\n",
              "      <td>4.0</td>\n",
              "      <td>4.0</td>\n",
              "      <td>[\"Hangers\", \"Dishes and silverware\", \"Iron\", \"...</td>\n",
              "      <td>$8,000.00</td>\n",
              "      <td>1</td>\n",
              "      <td>365</td>\n",
              "      <td>1</td>\n",
              "      <td>7</td>\n",
              "      <td>90</td>\n",
              "      <td>90</td>\n",
              "      <td>1.5</td>\n",
              "      <td>90.0</td>\n",
              "      <td>NaN</td>\n",
              "      <td>t</td>\n",
              "      <td>30</td>\n",
              "      <td>60</td>\n",
              "      <td>90</td>\n",
              "      <td>365</td>\n",
              "      <td>2021-09-30</td>\n",
              "      <td>0</td>\n",
              "      <td>0</td>\n",
              "      <td>0</td>\n",
              "      <td>NaT</td>\n",
              "      <td>NaT</td>\n",
              "      <td>NaN</td>\n",
              "      <td>NaN</td>\n",
              "      <td>NaN</td>\n",
              "      <td>NaN</td>\n",
              "      <td>NaN</td>\n",
              "      <td>NaN</td>\n",
              "      <td>NaN</td>\n",
              "      <td>NaN</td>\n",
              "      <td>f</td>\n",
              "      <td>18</td>\n",
              "      <td>18</td>\n",
              "      <td>0</td>\n",
              "      <td>0</td>\n",
              "      <td>NaN</td>\n",
              "      <td>8000.0</td>\n",
              "    </tr>\n",
              "    <tr>\n",
              "      <th>23413</th>\n",
              "      <td>52494052</td>\n",
              "      <td>https://www.airbnb.com/rooms/52494052</td>\n",
              "      <td>20210928134526</td>\n",
              "      <td>2021-09-30</td>\n",
              "      <td>Mansão Le Joux Joá 06 Quartos #RJ752 Casa para...</td>\n",
              "      <td>&lt;b&gt;Other things to note&lt;/b&gt;&lt;br /&gt;Mansão super ...</td>\n",
              "      <td>NaN</td>\n",
              "      <td>https://a0.muscache.com/pictures/prohost-api/H...</td>\n",
              "      <td>70646886</td>\n",
              "      <td>https://www.airbnb.com/users/show/70646886</td>\n",
              "      <td>LuxoBrasil</td>\n",
              "      <td>2016-05-06</td>\n",
              "      <td>Rio de Janeiro, State of Rio de Janeiro, Brazil</td>\n",
              "      <td>A Luxo Brasil foi fundada em 2021, pelos sócio...</td>\n",
              "      <td>within a day</td>\n",
              "      <td>94%</td>\n",
              "      <td>31%</td>\n",
              "      <td>f</td>\n",
              "      <td>https://a0.muscache.com/im/pictures/user/48104...</td>\n",
              "      <td>https://a0.muscache.com/im/pictures/user/48104...</td>\n",
              "      <td>Barra da Tijuca</td>\n",
              "      <td>32.0</td>\n",
              "      <td>32.0</td>\n",
              "      <td>['email', 'phone', 'reviews', 'jumio', 'govern...</td>\n",
              "      <td>t</td>\n",
              "      <td>t</td>\n",
              "      <td>NaN</td>\n",
              "      <td>Joá</td>\n",
              "      <td>NaN</td>\n",
              "      <td>-23.011430</td>\n",
              "      <td>-43.290360</td>\n",
              "      <td>Entire residential home</td>\n",
              "      <td>Entire home/apt</td>\n",
              "      <td>12</td>\n",
              "      <td>NaN</td>\n",
              "      <td>5.5 baths</td>\n",
              "      <td>6.0</td>\n",
              "      <td>7.0</td>\n",
              "      <td>[\"Hangers\", \"Dishes and silverware\", \"Iron\", \"...</td>\n",
              "      <td>$6,000.00</td>\n",
              "      <td>1</td>\n",
              "      <td>365</td>\n",
              "      <td>1</td>\n",
              "      <td>7</td>\n",
              "      <td>90</td>\n",
              "      <td>90</td>\n",
              "      <td>1.5</td>\n",
              "      <td>90.0</td>\n",
              "      <td>NaN</td>\n",
              "      <td>t</td>\n",
              "      <td>24</td>\n",
              "      <td>54</td>\n",
              "      <td>84</td>\n",
              "      <td>359</td>\n",
              "      <td>2021-09-30</td>\n",
              "      <td>0</td>\n",
              "      <td>0</td>\n",
              "      <td>0</td>\n",
              "      <td>NaT</td>\n",
              "      <td>NaT</td>\n",
              "      <td>NaN</td>\n",
              "      <td>NaN</td>\n",
              "      <td>NaN</td>\n",
              "      <td>NaN</td>\n",
              "      <td>NaN</td>\n",
              "      <td>NaN</td>\n",
              "      <td>NaN</td>\n",
              "      <td>NaN</td>\n",
              "      <td>f</td>\n",
              "      <td>18</td>\n",
              "      <td>18</td>\n",
              "      <td>0</td>\n",
              "      <td>0</td>\n",
              "      <td>NaN</td>\n",
              "      <td>6000.0</td>\n",
              "    </tr>\n",
              "  </tbody>\n",
              "</table>\n",
              "<p>23414 rows × 75 columns</p>\n",
              "</div>"
            ],
            "text/plain": [
              "      id_anuncio  ...   preco\n",
              "0          17878  ...   350.0\n",
              "1          24480  ...   297.0\n",
              "2          25026  ...   160.0\n",
              "3          35636  ...   271.0\n",
              "4          35764  ...   121.0\n",
              "...          ...  ...     ...\n",
              "23409   52486233  ...   271.0\n",
              "23410   52490061  ...    86.0\n",
              "23411   52490411  ...   185.0\n",
              "23412   52493506  ...  8000.0\n",
              "23413   52494052  ...  6000.0\n",
              "\n",
              "[23414 rows x 75 columns]"
            ]
          },
          "metadata": {},
          "execution_count": 16
        }
      ]
    },
    {
      "cell_type": "markdown",
      "metadata": {
        "id": "lQrrQvDagjgo"
      },
      "source": [
        "## Etapa 2 - Transformação dos Dados"
      ]
    },
    {
      "cell_type": "markdown",
      "metadata": {
        "id": "xhv4OWllITiI"
      },
      "source": [
        "### Limpeza dos Dados"
      ]
    },
    {
      "cell_type": "markdown",
      "metadata": {
        "id": "LJJLUdZULhui"
      },
      "source": [
        "#### DataFrame com informações de anuncios"
      ]
    },
    {
      "cell_type": "code",
      "metadata": {
        "id": "MwndoWh1ndfS"
      },
      "source": [
        "# criando um dataframe apanas com algumas informaçoes de anuncios\n",
        "dflistings = df[['anfitriao_id', 'anf_data_cadastro', 'id_anuncio', 'nome_anuncio',\n",
        "       'bairro', 'tipo_propriedade', 'tipo_acomodacao', 'numero_hospedes',\n",
        "       'quartos', 'camas', 'preco', 'min_noites', 'max_noites', 'disponivel',\n",
        "       'numero_avaliaçoes', 'pontuacao_avaliacoes', 'confirmacao_instantanea']]"
      ],
      "execution_count": 17,
      "outputs": []
    },
    {
      "cell_type": "code",
      "metadata": {
        "id": "8fuMRso1wN8f",
        "colab": {
          "base_uri": "https://localhost:8080/",
          "height": 250
        },
        "outputId": "2da16827-efd3-4573-cbaa-e53bf6c19414"
      },
      "source": [
        "# plotando o novo dataframe\n",
        "dflistings.head(2)"
      ],
      "execution_count": 18,
      "outputs": [
        {
          "output_type": "execute_result",
          "data": {
            "text/html": [
              "<div>\n",
              "<style scoped>\n",
              "    .dataframe tbody tr th:only-of-type {\n",
              "        vertical-align: middle;\n",
              "    }\n",
              "\n",
              "    .dataframe tbody tr th {\n",
              "        vertical-align: top;\n",
              "    }\n",
              "\n",
              "    .dataframe thead th {\n",
              "        text-align: right;\n",
              "    }\n",
              "</style>\n",
              "<table border=\"1\" class=\"dataframe\">\n",
              "  <thead>\n",
              "    <tr style=\"text-align: right;\">\n",
              "      <th></th>\n",
              "      <th>anfitriao_id</th>\n",
              "      <th>anf_data_cadastro</th>\n",
              "      <th>id_anuncio</th>\n",
              "      <th>nome_anuncio</th>\n",
              "      <th>bairro</th>\n",
              "      <th>tipo_propriedade</th>\n",
              "      <th>tipo_acomodacao</th>\n",
              "      <th>numero_hospedes</th>\n",
              "      <th>quartos</th>\n",
              "      <th>camas</th>\n",
              "      <th>preco</th>\n",
              "      <th>min_noites</th>\n",
              "      <th>max_noites</th>\n",
              "      <th>disponivel</th>\n",
              "      <th>numero_avaliaçoes</th>\n",
              "      <th>pontuacao_avaliacoes</th>\n",
              "      <th>confirmacao_instantanea</th>\n",
              "    </tr>\n",
              "  </thead>\n",
              "  <tbody>\n",
              "    <tr>\n",
              "      <th>0</th>\n",
              "      <td>68997</td>\n",
              "      <td>2010-01-08</td>\n",
              "      <td>17878</td>\n",
              "      <td>Very Nice 2Br in Copacabana w. balcony, fast WiFi</td>\n",
              "      <td>Copacabana</td>\n",
              "      <td>Entire condominium (condo)</td>\n",
              "      <td>Entire home/apt</td>\n",
              "      <td>5</td>\n",
              "      <td>2.0</td>\n",
              "      <td>2.0</td>\n",
              "      <td>350.0</td>\n",
              "      <td>4</td>\n",
              "      <td>180</td>\n",
              "      <td>t</td>\n",
              "      <td>265</td>\n",
              "      <td>4.68</td>\n",
              "      <td>t</td>\n",
              "    </tr>\n",
              "    <tr>\n",
              "      <th>1</th>\n",
              "      <td>99249</td>\n",
              "      <td>2010-03-26</td>\n",
              "      <td>24480</td>\n",
              "      <td>Nice and cozy near Ipanema Beach, w/ home office</td>\n",
              "      <td>Ipanema</td>\n",
              "      <td>Entire rental unit</td>\n",
              "      <td>Entire home/apt</td>\n",
              "      <td>2</td>\n",
              "      <td>1.0</td>\n",
              "      <td>1.0</td>\n",
              "      <td>297.0</td>\n",
              "      <td>3</td>\n",
              "      <td>90</td>\n",
              "      <td>t</td>\n",
              "      <td>85</td>\n",
              "      <td>4.73</td>\n",
              "      <td>f</td>\n",
              "    </tr>\n",
              "  </tbody>\n",
              "</table>\n",
              "</div>"
            ],
            "text/plain": [
              "  anfitriao_id anf_data_cadastro  ... pontuacao_avaliacoes confirmacao_instantanea\n",
              "0        68997        2010-01-08  ...                 4.68                       t\n",
              "1        99249        2010-03-26  ...                 4.73                       f\n",
              "\n",
              "[2 rows x 17 columns]"
            ]
          },
          "metadata": {},
          "execution_count": 18
        }
      ]
    },
    {
      "cell_type": "code",
      "metadata": {
        "id": "QMiRZ358xA2g",
        "colab": {
          "base_uri": "https://localhost:8080/"
        },
        "outputId": "95ed972b-98f3-43b6-ce63-a6c0b07bb91a"
      },
      "source": [
        "# checando os tipos de dados\n",
        "dflistings.dtypes"
      ],
      "execution_count": 19,
      "outputs": [
        {
          "output_type": "execute_result",
          "data": {
            "text/plain": [
              "anfitriao_id                       object\n",
              "anf_data_cadastro          datetime64[ns]\n",
              "id_anuncio                         object\n",
              "nome_anuncio                       object\n",
              "bairro                             object\n",
              "tipo_propriedade                   object\n",
              "tipo_acomodacao                    object\n",
              "numero_hospedes                     int64\n",
              "quartos                           float64\n",
              "camas                             float64\n",
              "preco                             float64\n",
              "min_noites                          int64\n",
              "max_noites                          int64\n",
              "disponivel                         object\n",
              "numero_avaliaçoes                   int64\n",
              "pontuacao_avaliacoes              float64\n",
              "confirmacao_instantanea            object\n",
              "dtype: object"
            ]
          },
          "metadata": {},
          "execution_count": 19
        }
      ]
    },
    {
      "cell_type": "code",
      "metadata": {
        "id": "rundu63ayiy4",
        "colab": {
          "base_uri": "https://localhost:8080/"
        },
        "outputId": "08a1f29e-1c81-41d6-8576-7e7f46979b30"
      },
      "source": [
        "# checando quantas colunas possuem valores nulos\n",
        "dflistings.isnull().sum()"
      ],
      "execution_count": 20,
      "outputs": [
        {
          "output_type": "execute_result",
          "data": {
            "text/plain": [
              "anfitriao_id                  0\n",
              "anf_data_cadastro            18\n",
              "id_anuncio                    0\n",
              "nome_anuncio                 21\n",
              "bairro                        0\n",
              "tipo_propriedade              0\n",
              "tipo_acomodacao               0\n",
              "numero_hospedes               0\n",
              "quartos                    1519\n",
              "camas                       208\n",
              "preco                         0\n",
              "min_noites                    0\n",
              "max_noites                    0\n",
              "disponivel                    0\n",
              "numero_avaliaçoes             0\n",
              "pontuacao_avaliacoes       8341\n",
              "confirmacao_instantanea       0\n",
              "dtype: int64"
            ]
          },
          "metadata": {},
          "execution_count": 20
        }
      ]
    },
    {
      "cell_type": "code",
      "metadata": {
        "id": "XlnDn-pG_Z6l",
        "colab": {
          "base_uri": "https://localhost:8080/"
        },
        "outputId": "3cc1afae-7f3f-4fed-9beb-63b06b1466bc"
      },
      "source": [
        "# checando as colunas\n",
        "dflistings.columns"
      ],
      "execution_count": 21,
      "outputs": [
        {
          "output_type": "execute_result",
          "data": {
            "text/plain": [
              "Index(['anfitriao_id', 'anf_data_cadastro', 'id_anuncio', 'nome_anuncio',\n",
              "       'bairro', 'tipo_propriedade', 'tipo_acomodacao', 'numero_hospedes',\n",
              "       'quartos', 'camas', 'preco', 'min_noites', 'max_noites', 'disponivel',\n",
              "       'numero_avaliaçoes', 'pontuacao_avaliacoes', 'confirmacao_instantanea'],\n",
              "      dtype='object')"
            ]
          },
          "metadata": {},
          "execution_count": 21
        }
      ]
    },
    {
      "cell_type": "code",
      "metadata": {
        "id": "hYVOrk3LweEQ",
        "colab": {
          "base_uri": "https://localhost:8080/"
        },
        "outputId": "ead5ea54-d3c2-4ba0-eff8-edc06cfa4cd7"
      },
      "source": [
        "# checando a quantidade de colunas e linhas\n",
        "dflistings.shape"
      ],
      "execution_count": 22,
      "outputs": [
        {
          "output_type": "execute_result",
          "data": {
            "text/plain": [
              "(23414, 17)"
            ]
          },
          "metadata": {},
          "execution_count": 22
        }
      ]
    },
    {
      "cell_type": "code",
      "metadata": {
        "id": "qKdDFRnvf98M"
      },
      "source": [
        "# removendo valores duplicados\n",
        "dflistings = dflistings.drop_duplicates()"
      ],
      "execution_count": 23,
      "outputs": []
    },
    {
      "cell_type": "code",
      "metadata": {
        "colab": {
          "base_uri": "https://localhost:8080/"
        },
        "id": "sCg2u3IzgQg8",
        "outputId": "6e4a7318-e9ee-4210-f540-f0e9bcc8395d"
      },
      "source": [
        "#checando se haviam valores duplicados para serem removidos\n",
        "dflistings.shape"
      ],
      "execution_count": 24,
      "outputs": [
        {
          "output_type": "execute_result",
          "data": {
            "text/plain": [
              "(23414, 17)"
            ]
          },
          "metadata": {},
          "execution_count": 24
        }
      ]
    },
    {
      "cell_type": "markdown",
      "metadata": {
        "id": "rcT6q888MRxy"
      },
      "source": [
        "#### DataFrame com informações de anfitriões"
      ]
    },
    {
      "cell_type": "code",
      "metadata": {
        "id": "9VS8j-aPHRqE"
      },
      "source": [
        "# criando um dataframe apanas com algumas informaçoes de anfitriões\n",
        "dfhosts = df [['anfitriao_id', 'anfitriao_nome', 'anf_data_cadastro','anf_tempo_resposta',\n",
        "       'anf_taxa_resposta', 'anf_taxa_aceitacao', 'super_anfitriao', 'anf_bairro',\n",
        "       'anf_num_total_anuncios', 'anf_foto_perfil', 'anf_identidade_verificada']]"
      ],
      "execution_count": 25,
      "outputs": []
    },
    {
      "cell_type": "code",
      "metadata": {
        "id": "GHH1VlnRJDY4",
        "colab": {
          "base_uri": "https://localhost:8080/",
          "height": 131
        },
        "outputId": "d0effcb1-6749-429d-883b-e208369ba725"
      },
      "source": [
        "# plotando o novo dataframe\n",
        "dfhosts.head(2)"
      ],
      "execution_count": 26,
      "outputs": [
        {
          "output_type": "execute_result",
          "data": {
            "text/html": [
              "<div>\n",
              "<style scoped>\n",
              "    .dataframe tbody tr th:only-of-type {\n",
              "        vertical-align: middle;\n",
              "    }\n",
              "\n",
              "    .dataframe tbody tr th {\n",
              "        vertical-align: top;\n",
              "    }\n",
              "\n",
              "    .dataframe thead th {\n",
              "        text-align: right;\n",
              "    }\n",
              "</style>\n",
              "<table border=\"1\" class=\"dataframe\">\n",
              "  <thead>\n",
              "    <tr style=\"text-align: right;\">\n",
              "      <th></th>\n",
              "      <th>anfitriao_id</th>\n",
              "      <th>anfitriao_nome</th>\n",
              "      <th>anf_data_cadastro</th>\n",
              "      <th>anf_tempo_resposta</th>\n",
              "      <th>anf_taxa_resposta</th>\n",
              "      <th>anf_taxa_aceitacao</th>\n",
              "      <th>super_anfitriao</th>\n",
              "      <th>anf_bairro</th>\n",
              "      <th>anf_num_total_anuncios</th>\n",
              "      <th>anf_foto_perfil</th>\n",
              "      <th>anf_identidade_verificada</th>\n",
              "    </tr>\n",
              "  </thead>\n",
              "  <tbody>\n",
              "    <tr>\n",
              "      <th>0</th>\n",
              "      <td>68997</td>\n",
              "      <td>Matthias</td>\n",
              "      <td>2010-01-08</td>\n",
              "      <td>within an hour</td>\n",
              "      <td>100%</td>\n",
              "      <td>98%</td>\n",
              "      <td>f</td>\n",
              "      <td>Copacabana</td>\n",
              "      <td>2.0</td>\n",
              "      <td>t</td>\n",
              "      <td>t</td>\n",
              "    </tr>\n",
              "    <tr>\n",
              "      <th>1</th>\n",
              "      <td>99249</td>\n",
              "      <td>Goya</td>\n",
              "      <td>2010-03-26</td>\n",
              "      <td>within a day</td>\n",
              "      <td>50%</td>\n",
              "      <td>NaN</td>\n",
              "      <td>f</td>\n",
              "      <td>Ipanema</td>\n",
              "      <td>0.0</td>\n",
              "      <td>t</td>\n",
              "      <td>t</td>\n",
              "    </tr>\n",
              "  </tbody>\n",
              "</table>\n",
              "</div>"
            ],
            "text/plain": [
              "  anfitriao_id anfitriao_nome  ... anf_foto_perfil anf_identidade_verificada\n",
              "0        68997       Matthias  ...               t                         t\n",
              "1        99249           Goya  ...               t                         t\n",
              "\n",
              "[2 rows x 11 columns]"
            ]
          },
          "metadata": {},
          "execution_count": 26
        }
      ]
    },
    {
      "cell_type": "code",
      "metadata": {
        "id": "-UnT86GoImKf",
        "colab": {
          "base_uri": "https://localhost:8080/"
        },
        "outputId": "b8b774d9-5b9f-4ea8-e715-ccdad6555c6c"
      },
      "source": [
        "# checando os tipos de dados\n",
        "dfhosts.dtypes"
      ],
      "execution_count": 27,
      "outputs": [
        {
          "output_type": "execute_result",
          "data": {
            "text/plain": [
              "anfitriao_id                         object\n",
              "anfitriao_nome                       object\n",
              "anf_data_cadastro            datetime64[ns]\n",
              "anf_tempo_resposta                   object\n",
              "anf_taxa_resposta                    object\n",
              "anf_taxa_aceitacao                   object\n",
              "super_anfitriao                      object\n",
              "anf_bairro                           object\n",
              "anf_num_total_anuncios              float64\n",
              "anf_foto_perfil                      object\n",
              "anf_identidade_verificada            object\n",
              "dtype: object"
            ]
          },
          "metadata": {},
          "execution_count": 27
        }
      ]
    },
    {
      "cell_type": "code",
      "metadata": {
        "colab": {
          "base_uri": "https://localhost:8080/"
        },
        "id": "d1C2aluEMFDx",
        "outputId": "1a06c077-6a55-4d71-aa93-3da89b62fa85"
      },
      "source": [
        "# checando quantas colunas possuem valores nulos\n",
        "dfhosts.isnull().sum()"
      ],
      "execution_count": 28,
      "outputs": [
        {
          "output_type": "execute_result",
          "data": {
            "text/plain": [
              "anfitriao_id                     0\n",
              "anfitriao_nome                  18\n",
              "anf_data_cadastro               18\n",
              "anf_tempo_resposta            7593\n",
              "anf_taxa_resposta             7593\n",
              "anf_taxa_aceitacao            8754\n",
              "super_anfitriao                 18\n",
              "anf_bairro                   10440\n",
              "anf_num_total_anuncios          18\n",
              "anf_foto_perfil                 18\n",
              "anf_identidade_verificada       18\n",
              "dtype: int64"
            ]
          },
          "metadata": {},
          "execution_count": 28
        }
      ]
    },
    {
      "cell_type": "code",
      "metadata": {
        "id": "8nnpjXqUL6eP",
        "colab": {
          "base_uri": "https://localhost:8080/"
        },
        "outputId": "51f43765-965f-4fd1-94fe-6b1d96592dbb"
      },
      "source": [
        "# checando as colunas\n",
        "dfhosts.columns"
      ],
      "execution_count": 29,
      "outputs": [
        {
          "output_type": "execute_result",
          "data": {
            "text/plain": [
              "Index(['anfitriao_id', 'anfitriao_nome', 'anf_data_cadastro',\n",
              "       'anf_tempo_resposta', 'anf_taxa_resposta', 'anf_taxa_aceitacao',\n",
              "       'super_anfitriao', 'anf_bairro', 'anf_num_total_anuncios',\n",
              "       'anf_foto_perfil', 'anf_identidade_verificada'],\n",
              "      dtype='object')"
            ]
          },
          "metadata": {},
          "execution_count": 29
        }
      ]
    },
    {
      "cell_type": "code",
      "metadata": {
        "colab": {
          "base_uri": "https://localhost:8080/"
        },
        "id": "dIRMlIPoMhMI",
        "outputId": "c48a2876-526f-4221-d3d0-9c406ac4e66d"
      },
      "source": [
        "# checando a quantidade de colunas e linhas\n",
        "dfhosts.shape"
      ],
      "execution_count": 30,
      "outputs": [
        {
          "output_type": "execute_result",
          "data": {
            "text/plain": [
              "(23414, 11)"
            ]
          },
          "metadata": {},
          "execution_count": 30
        }
      ]
    },
    {
      "cell_type": "code",
      "metadata": {
        "id": "llb_t35cM9uh"
      },
      "source": [
        "# removendo valores duplicados\n",
        "dfhosts = dfhosts.drop_duplicates()"
      ],
      "execution_count": 31,
      "outputs": []
    },
    {
      "cell_type": "code",
      "metadata": {
        "colab": {
          "base_uri": "https://localhost:8080/"
        },
        "id": "3MBGXI7vNHts",
        "outputId": "9544a02e-3296-4a5f-c8a4-cba7be307ba7"
      },
      "source": [
        "#checando se haviam valores duplicados para serem removidos\n",
        "dfhosts.shape"
      ],
      "execution_count": 32,
      "outputs": [
        {
          "output_type": "execute_result",
          "data": {
            "text/plain": [
              "(15386, 11)"
            ]
          },
          "metadata": {},
          "execution_count": 32
        }
      ]
    },
    {
      "cell_type": "markdown",
      "metadata": {
        "id": "-QOlSvvvYfv7"
      },
      "source": [
        "### Filtros e Groupbys"
      ]
    },
    {
      "cell_type": "markdown",
      "metadata": {
        "id": "tJS4ktoOfJJM"
      },
      "source": [
        "#### Fazendo alguns filtros para entender os dados de anuncios\n"
      ]
    },
    {
      "cell_type": "code",
      "metadata": {
        "colab": {
          "base_uri": "https://localhost:8080/",
          "height": 250
        },
        "id": "_qprzN4BffCm",
        "outputId": "4ea78885-3f69-4eb6-d94b-965c15f30ec9"
      },
      "source": [
        "dflistings.head(2)"
      ],
      "execution_count": 33,
      "outputs": [
        {
          "output_type": "execute_result",
          "data": {
            "text/html": [
              "<div>\n",
              "<style scoped>\n",
              "    .dataframe tbody tr th:only-of-type {\n",
              "        vertical-align: middle;\n",
              "    }\n",
              "\n",
              "    .dataframe tbody tr th {\n",
              "        vertical-align: top;\n",
              "    }\n",
              "\n",
              "    .dataframe thead th {\n",
              "        text-align: right;\n",
              "    }\n",
              "</style>\n",
              "<table border=\"1\" class=\"dataframe\">\n",
              "  <thead>\n",
              "    <tr style=\"text-align: right;\">\n",
              "      <th></th>\n",
              "      <th>anfitriao_id</th>\n",
              "      <th>anf_data_cadastro</th>\n",
              "      <th>id_anuncio</th>\n",
              "      <th>nome_anuncio</th>\n",
              "      <th>bairro</th>\n",
              "      <th>tipo_propriedade</th>\n",
              "      <th>tipo_acomodacao</th>\n",
              "      <th>numero_hospedes</th>\n",
              "      <th>quartos</th>\n",
              "      <th>camas</th>\n",
              "      <th>preco</th>\n",
              "      <th>min_noites</th>\n",
              "      <th>max_noites</th>\n",
              "      <th>disponivel</th>\n",
              "      <th>numero_avaliaçoes</th>\n",
              "      <th>pontuacao_avaliacoes</th>\n",
              "      <th>confirmacao_instantanea</th>\n",
              "    </tr>\n",
              "  </thead>\n",
              "  <tbody>\n",
              "    <tr>\n",
              "      <th>0</th>\n",
              "      <td>68997</td>\n",
              "      <td>2010-01-08</td>\n",
              "      <td>17878</td>\n",
              "      <td>Very Nice 2Br in Copacabana w. balcony, fast WiFi</td>\n",
              "      <td>Copacabana</td>\n",
              "      <td>Entire condominium (condo)</td>\n",
              "      <td>Entire home/apt</td>\n",
              "      <td>5</td>\n",
              "      <td>2.0</td>\n",
              "      <td>2.0</td>\n",
              "      <td>350.0</td>\n",
              "      <td>4</td>\n",
              "      <td>180</td>\n",
              "      <td>t</td>\n",
              "      <td>265</td>\n",
              "      <td>4.68</td>\n",
              "      <td>t</td>\n",
              "    </tr>\n",
              "    <tr>\n",
              "      <th>1</th>\n",
              "      <td>99249</td>\n",
              "      <td>2010-03-26</td>\n",
              "      <td>24480</td>\n",
              "      <td>Nice and cozy near Ipanema Beach, w/ home office</td>\n",
              "      <td>Ipanema</td>\n",
              "      <td>Entire rental unit</td>\n",
              "      <td>Entire home/apt</td>\n",
              "      <td>2</td>\n",
              "      <td>1.0</td>\n",
              "      <td>1.0</td>\n",
              "      <td>297.0</td>\n",
              "      <td>3</td>\n",
              "      <td>90</td>\n",
              "      <td>t</td>\n",
              "      <td>85</td>\n",
              "      <td>4.73</td>\n",
              "      <td>f</td>\n",
              "    </tr>\n",
              "  </tbody>\n",
              "</table>\n",
              "</div>"
            ],
            "text/plain": [
              "  anfitriao_id anf_data_cadastro  ... pontuacao_avaliacoes confirmacao_instantanea\n",
              "0        68997        2010-01-08  ...                 4.68                       t\n",
              "1        99249        2010-03-26  ...                 4.73                       f\n",
              "\n",
              "[2 rows x 17 columns]"
            ]
          },
          "metadata": {},
          "execution_count": 33
        }
      ]
    },
    {
      "cell_type": "markdown",
      "metadata": {
        "id": "MvB90UTHc1Zu"
      },
      "source": [
        "##### Levantamento de anuncios por ano"
      ]
    },
    {
      "cell_type": "code",
      "metadata": {
        "colab": {
          "base_uri": "https://localhost:8080/"
        },
        "id": "Xm1iNrdPPvPP",
        "outputId": "2e6ee997-94d4-4b73-f85f-187fdf4a8ec6"
      },
      "source": [
        "#df[ocorrencia_dia.dt.year]\n",
        "dflistings.groupby(dflistings['anf_data_cadastro'].dt.year)['id_anuncio'].count()"
      ],
      "execution_count": 34,
      "outputs": [
        {
          "output_type": "execute_result",
          "data": {
            "text/plain": [
              "anf_data_cadastro\n",
              "2008.0       1\n",
              "2009.0      18\n",
              "2010.0     120\n",
              "2011.0     829\n",
              "2012.0    1308\n",
              "2013.0    2040\n",
              "2014.0    3653\n",
              "2015.0    2858\n",
              "2016.0    5167\n",
              "2017.0    1811\n",
              "2018.0    1688\n",
              "2019.0    1980\n",
              "2020.0    1347\n",
              "2021.0     576\n",
              "Name: id_anuncio, dtype: int64"
            ]
          },
          "metadata": {},
          "execution_count": 34
        }
      ]
    },
    {
      "cell_type": "code",
      "metadata": {
        "colab": {
          "base_uri": "https://localhost:8080/",
          "height": 308
        },
        "id": "SXfuOI7ygkPR",
        "outputId": "6fe0ef8f-770f-474a-cafc-d46ce31de7f1"
      },
      "source": [
        "#df[ocorrencia_dia.dt.year]\n",
        "dflistings.groupby(dflistings['anf_data_cadastro'].dt.year)['id_anuncio'].count().plot.line(marker='o')\n",
        "plt.title('Cadastro de Anfitriões por Ano')"
      ],
      "execution_count": 35,
      "outputs": [
        {
          "output_type": "execute_result",
          "data": {
            "text/plain": [
              "Text(0.5, 1.0, 'Cadastro de Anfitriões por Ano')"
            ]
          },
          "metadata": {},
          "execution_count": 35
        },
        {
          "output_type": "display_data",
          "data": {
            "image/png": "[encoded data removed]",
            "text/plain": [
              "<Figure size 432x288 with 1 Axes>"
            ]
          },
          "metadata": {}
        }
      ]
    },
    {
      "cell_type": "code",
      "metadata": {
        "id": "MWvCO-UTs0OO",
        "colab": {
          "base_uri": "https://localhost:8080/",
          "height": 949
        },
        "outputId": "b9a48296-137e-4571-d755-4ea64cc089e1"
      },
      "source": [
        "dflistings.loc[dflistings.anf_data_cadastro.dt.year == 2010]"
      ],
      "execution_count": 36,
      "outputs": [
        {
          "output_type": "execute_result",
          "data": {
            "text/html": [
              "<div>\n",
              "<style scoped>\n",
              "    .dataframe tbody tr th:only-of-type {\n",
              "        vertical-align: middle;\n",
              "    }\n",
              "\n",
              "    .dataframe tbody tr th {\n",
              "        vertical-align: top;\n",
              "    }\n",
              "\n",
              "    .dataframe thead th {\n",
              "        text-align: right;\n",
              "    }\n",
              "</style>\n",
              "<table border=\"1\" class=\"dataframe\">\n",
              "  <thead>\n",
              "    <tr style=\"text-align: right;\">\n",
              "      <th></th>\n",
              "      <th>anfitriao_id</th>\n",
              "      <th>anf_data_cadastro</th>\n",
              "      <th>id_anuncio</th>\n",
              "      <th>nome_anuncio</th>\n",
              "      <th>bairro</th>\n",
              "      <th>tipo_propriedade</th>\n",
              "      <th>tipo_acomodacao</th>\n",
              "      <th>numero_hospedes</th>\n",
              "      <th>quartos</th>\n",
              "      <th>camas</th>\n",
              "      <th>preco</th>\n",
              "      <th>min_noites</th>\n",
              "      <th>max_noites</th>\n",
              "      <th>disponivel</th>\n",
              "      <th>numero_avaliaçoes</th>\n",
              "      <th>pontuacao_avaliacoes</th>\n",
              "      <th>confirmacao_instantanea</th>\n",
              "    </tr>\n",
              "  </thead>\n",
              "  <tbody>\n",
              "    <tr>\n",
              "      <th>0</th>\n",
              "      <td>68997</td>\n",
              "      <td>2010-01-08</td>\n",
              "      <td>17878</td>\n",
              "      <td>Very Nice 2Br in Copacabana w. balcony, fast WiFi</td>\n",
              "      <td>Copacabana</td>\n",
              "      <td>Entire condominium (condo)</td>\n",
              "      <td>Entire home/apt</td>\n",
              "      <td>5</td>\n",
              "      <td>2.0</td>\n",
              "      <td>2.0</td>\n",
              "      <td>350.0</td>\n",
              "      <td>4</td>\n",
              "      <td>180</td>\n",
              "      <td>t</td>\n",
              "      <td>265</td>\n",
              "      <td>4.68</td>\n",
              "      <td>t</td>\n",
              "    </tr>\n",
              "    <tr>\n",
              "      <th>1</th>\n",
              "      <td>99249</td>\n",
              "      <td>2010-03-26</td>\n",
              "      <td>24480</td>\n",
              "      <td>Nice and cozy near Ipanema Beach, w/ home office</td>\n",
              "      <td>Ipanema</td>\n",
              "      <td>Entire rental unit</td>\n",
              "      <td>Entire home/apt</td>\n",
              "      <td>2</td>\n",
              "      <td>1.0</td>\n",
              "      <td>1.0</td>\n",
              "      <td>297.0</td>\n",
              "      <td>3</td>\n",
              "      <td>90</td>\n",
              "      <td>t</td>\n",
              "      <td>85</td>\n",
              "      <td>4.73</td>\n",
              "      <td>f</td>\n",
              "    </tr>\n",
              "    <tr>\n",
              "      <th>2</th>\n",
              "      <td>102840</td>\n",
              "      <td>2010-04-03</td>\n",
              "      <td>25026</td>\n",
              "      <td>Beautiful Modern Decorated Studio in Copa</td>\n",
              "      <td>Copacabana</td>\n",
              "      <td>Entire rental unit</td>\n",
              "      <td>Entire home/apt</td>\n",
              "      <td>2</td>\n",
              "      <td>1.0</td>\n",
              "      <td>2.0</td>\n",
              "      <td>160.0</td>\n",
              "      <td>7</td>\n",
              "      <td>60</td>\n",
              "      <td>t</td>\n",
              "      <td>238</td>\n",
              "      <td>4.68</td>\n",
              "      <td>f</td>\n",
              "    </tr>\n",
              "    <tr>\n",
              "      <th>3</th>\n",
              "      <td>153232</td>\n",
              "      <td>2010-06-27</td>\n",
              "      <td>35636</td>\n",
              "      <td>Cosy flat close to Ipanema beach</td>\n",
              "      <td>Ipanema</td>\n",
              "      <td>Entire rental unit</td>\n",
              "      <td>Entire home/apt</td>\n",
              "      <td>2</td>\n",
              "      <td>1.0</td>\n",
              "      <td>1.0</td>\n",
              "      <td>271.0</td>\n",
              "      <td>2</td>\n",
              "      <td>89</td>\n",
              "      <td>t</td>\n",
              "      <td>181</td>\n",
              "      <td>4.72</td>\n",
              "      <td>f</td>\n",
              "    </tr>\n",
              "    <tr>\n",
              "      <th>4</th>\n",
              "      <td>153691</td>\n",
              "      <td>2010-06-27</td>\n",
              "      <td>35764</td>\n",
              "      <td>COPACABANA SEA BREEZE  -  RIO - 20 X Superhost</td>\n",
              "      <td>Copacabana</td>\n",
              "      <td>Entire loft</td>\n",
              "      <td>Entire home/apt</td>\n",
              "      <td>2</td>\n",
              "      <td>1.0</td>\n",
              "      <td>1.0</td>\n",
              "      <td>121.0</td>\n",
              "      <td>3</td>\n",
              "      <td>15</td>\n",
              "      <td>t</td>\n",
              "      <td>371</td>\n",
              "      <td>4.90</td>\n",
              "      <td>f</td>\n",
              "    </tr>\n",
              "    <tr>\n",
              "      <th>...</th>\n",
              "      <td>...</td>\n",
              "      <td>...</td>\n",
              "      <td>...</td>\n",
              "      <td>...</td>\n",
              "      <td>...</td>\n",
              "      <td>...</td>\n",
              "      <td>...</td>\n",
              "      <td>...</td>\n",
              "      <td>...</td>\n",
              "      <td>...</td>\n",
              "      <td>...</td>\n",
              "      <td>...</td>\n",
              "      <td>...</td>\n",
              "      <td>...</td>\n",
              "      <td>...</td>\n",
              "      <td>...</td>\n",
              "      <td>...</td>\n",
              "    </tr>\n",
              "    <tr>\n",
              "      <th>22123</th>\n",
              "      <td>224192</td>\n",
              "      <td>2010-09-05</td>\n",
              "      <td>50365821</td>\n",
              "      <td>Djalma Ulrich One Bedroom Near the Beach</td>\n",
              "      <td>Copacabana</td>\n",
              "      <td>Entire rental unit</td>\n",
              "      <td>Entire home/apt</td>\n",
              "      <td>4</td>\n",
              "      <td>1.0</td>\n",
              "      <td>2.0</td>\n",
              "      <td>300.0</td>\n",
              "      <td>3</td>\n",
              "      <td>90</td>\n",
              "      <td>t</td>\n",
              "      <td>0</td>\n",
              "      <td>NaN</td>\n",
              "      <td>t</td>\n",
              "    </tr>\n",
              "    <tr>\n",
              "      <th>22277</th>\n",
              "      <td>153721</td>\n",
              "      <td>2010-06-27</td>\n",
              "      <td>50676221</td>\n",
              "      <td>Gem of the Mountain - Spacious &amp; Quiet 1Bed Flat</td>\n",
              "      <td>Flamengo</td>\n",
              "      <td>Entire condominium (condo)</td>\n",
              "      <td>Entire home/apt</td>\n",
              "      <td>4</td>\n",
              "      <td>1.0</td>\n",
              "      <td>2.0</td>\n",
              "      <td>156.0</td>\n",
              "      <td>2</td>\n",
              "      <td>1125</td>\n",
              "      <td>t</td>\n",
              "      <td>6</td>\n",
              "      <td>4.33</td>\n",
              "      <td>f</td>\n",
              "    </tr>\n",
              "    <tr>\n",
              "      <th>22710</th>\n",
              "      <td>153721</td>\n",
              "      <td>2010-06-27</td>\n",
              "      <td>51557314</td>\n",
              "      <td>Modern Studio with Postcard View in Botafogo B...</td>\n",
              "      <td>Botafogo</td>\n",
              "      <td>Entire rental unit</td>\n",
              "      <td>Entire home/apt</td>\n",
              "      <td>3</td>\n",
              "      <td>1.0</td>\n",
              "      <td>2.0</td>\n",
              "      <td>167.0</td>\n",
              "      <td>2</td>\n",
              "      <td>365</td>\n",
              "      <td>t</td>\n",
              "      <td>3</td>\n",
              "      <td>5.00</td>\n",
              "      <td>f</td>\n",
              "    </tr>\n",
              "    <tr>\n",
              "      <th>22754</th>\n",
              "      <td>153721</td>\n",
              "      <td>2010-06-27</td>\n",
              "      <td>51623226</td>\n",
              "      <td>Golden Age One Bedroom Flat in Flamengo near SDU</td>\n",
              "      <td>Flamengo</td>\n",
              "      <td>Entire condominium (condo)</td>\n",
              "      <td>Entire home/apt</td>\n",
              "      <td>2</td>\n",
              "      <td>1.0</td>\n",
              "      <td>1.0</td>\n",
              "      <td>220.0</td>\n",
              "      <td>30</td>\n",
              "      <td>1125</td>\n",
              "      <td>t</td>\n",
              "      <td>1</td>\n",
              "      <td>5.00</td>\n",
              "      <td>f</td>\n",
              "    </tr>\n",
              "    <tr>\n",
              "      <th>22817</th>\n",
              "      <td>153721</td>\n",
              "      <td>2010-06-27</td>\n",
              "      <td>51745139</td>\n",
              "      <td>Hippie Chic Loft in Botafogo</td>\n",
              "      <td>Botafogo</td>\n",
              "      <td>Entire condominium (condo)</td>\n",
              "      <td>Entire home/apt</td>\n",
              "      <td>2</td>\n",
              "      <td>NaN</td>\n",
              "      <td>1.0</td>\n",
              "      <td>100.0</td>\n",
              "      <td>2</td>\n",
              "      <td>1125</td>\n",
              "      <td>t</td>\n",
              "      <td>1</td>\n",
              "      <td>5.00</td>\n",
              "      <td>t</td>\n",
              "    </tr>\n",
              "  </tbody>\n",
              "</table>\n",
              "<p>120 rows × 17 columns</p>\n",
              "</div>"
            ],
            "text/plain": [
              "      anfitriao_id  ... confirmacao_instantanea\n",
              "0            68997  ...                       t\n",
              "1            99249  ...                       f\n",
              "2           102840  ...                       f\n",
              "3           153232  ...                       f\n",
              "4           153691  ...                       f\n",
              "...            ...  ...                     ...\n",
              "22123       224192  ...                       t\n",
              "22277       153721  ...                       f\n",
              "22710       153721  ...                       f\n",
              "22754       153721  ...                       f\n",
              "22817       153721  ...                       t\n",
              "\n",
              "[120 rows x 17 columns]"
            ]
          },
          "metadata": {},
          "execution_count": 36
        }
      ]
    },
    {
      "cell_type": "markdown",
      "metadata": {
        "id": "4F5pPM2LdAoY"
      },
      "source": [
        "##### Levantamento de anuncios por anfitrião"
      ]
    },
    {
      "cell_type": "code",
      "metadata": {
        "id": "uaNGMjaVjHWw",
        "colab": {
          "base_uri": "https://localhost:8080/"
        },
        "outputId": "7dcadbb8-b172-42d1-b0a4-8295c7ae583b"
      },
      "source": [
        "# Levantamento de anuncios por anfitrião\n",
        "df.groupby('anfitriao_id')['id_anuncio'].count().sort_values(ascending=False)"
      ],
      "execution_count": 37,
      "outputs": [
        {
          "output_type": "execute_result",
          "data": {
            "text/plain": [
              "anfitriao_id\n",
              "91654021     187\n",
              "371026651    134\n",
              "8975746       85\n",
              "6000862       74\n",
              "1500426       60\n",
              "            ... \n",
              "92030829       1\n",
              "91967394       1\n",
              "91949736       1\n",
              "91833486       1\n",
              "3607           1\n",
              "Name: id_anuncio, Length: 15386, dtype: int64"
            ]
          },
          "metadata": {},
          "execution_count": 37
        }
      ]
    },
    {
      "cell_type": "code",
      "metadata": {
        "colab": {
          "base_uri": "https://localhost:8080/",
          "height": 279
        },
        "id": "7fsznuP2WK2_",
        "outputId": "b75c6fe9-4353-44a5-bcf2-fe557a385976"
      },
      "source": [
        "df_host_mais_anuncios = df.groupby('anfitriao_id')['id_anuncio'].count().sort_values(ascending=False)\n",
        "df_host_mais_anuncios.iloc[:20].plot.barh()"
      ],
      "execution_count": 38,
      "outputs": [
        {
          "output_type": "execute_result",
          "data": {
            "text/plain": [
              "<matplotlib.axes._subplots.AxesSubplot at 0x7fe8df02b810>"
            ]
          },
          "metadata": {},
          "execution_count": 38
        },
        {
          "output_type": "display_data",
          "data": {
            "image/png": "[encoded data removed]",
            "text/plain": [
              "<Figure size 432x288 with 1 Axes>"
            ]
          },
          "metadata": {}
        }
      ]
    },
    {
      "cell_type": "code",
      "metadata": {
        "id": "x4nZ0RT_qQRm"
      },
      "source": [
        "df_anf_est = dflistings.loc[(dflistings.anfitriao_id == 8975746)]"
      ],
      "execution_count": 39,
      "outputs": []
    },
    {
      "cell_type": "code",
      "metadata": {
        "colab": {
          "base_uri": "https://localhost:8080/",
          "height": 881
        },
        "id": "lCHaeGsQhqEj",
        "outputId": "af6ef62d-2de2-4d60-d1e0-a02f95901ca8"
      },
      "source": [
        "dflistings.loc[dflistings.anfitriao_id == 8975746]"
      ],
      "execution_count": 40,
      "outputs": [
        {
          "output_type": "execute_result",
          "data": {
            "text/html": [
              "<div>\n",
              "<style scoped>\n",
              "    .dataframe tbody tr th:only-of-type {\n",
              "        vertical-align: middle;\n",
              "    }\n",
              "\n",
              "    .dataframe tbody tr th {\n",
              "        vertical-align: top;\n",
              "    }\n",
              "\n",
              "    .dataframe thead th {\n",
              "        text-align: right;\n",
              "    }\n",
              "</style>\n",
              "<table border=\"1\" class=\"dataframe\">\n",
              "  <thead>\n",
              "    <tr style=\"text-align: right;\">\n",
              "      <th></th>\n",
              "      <th>anfitriao_id</th>\n",
              "      <th>anf_data_cadastro</th>\n",
              "      <th>id_anuncio</th>\n",
              "      <th>nome_anuncio</th>\n",
              "      <th>bairro</th>\n",
              "      <th>tipo_propriedade</th>\n",
              "      <th>tipo_acomodacao</th>\n",
              "      <th>numero_hospedes</th>\n",
              "      <th>quartos</th>\n",
              "      <th>camas</th>\n",
              "      <th>preco</th>\n",
              "      <th>min_noites</th>\n",
              "      <th>max_noites</th>\n",
              "      <th>disponivel</th>\n",
              "      <th>numero_avaliaçoes</th>\n",
              "      <th>pontuacao_avaliacoes</th>\n",
              "      <th>confirmacao_instantanea</th>\n",
              "    </tr>\n",
              "  </thead>\n",
              "  <tbody>\n",
              "    <tr>\n",
              "      <th>2936</th>\n",
              "      <td>8975746</td>\n",
              "      <td>2013-09-21</td>\n",
              "      <td>4124877</td>\n",
              "      <td>Newly Renovated 2 Bedroom in Copacabana # 240</td>\n",
              "      <td>Copacabana</td>\n",
              "      <td>Entire rental unit</td>\n",
              "      <td>Entire home/apt</td>\n",
              "      <td>4</td>\n",
              "      <td>2.0</td>\n",
              "      <td>3.0</td>\n",
              "      <td>460.0</td>\n",
              "      <td>2</td>\n",
              "      <td>90</td>\n",
              "      <td>t</td>\n",
              "      <td>1</td>\n",
              "      <td>0.0</td>\n",
              "      <td>f</td>\n",
              "    </tr>\n",
              "    <tr>\n",
              "      <th>3100</th>\n",
              "      <td>8975746</td>\n",
              "      <td>2013-09-21</td>\n",
              "      <td>4665527</td>\n",
              "      <td>apartamento no arpoador ao lado de Ipanema</td>\n",
              "      <td>Copacabana</td>\n",
              "      <td>Entire rental unit</td>\n",
              "      <td>Entire home/apt</td>\n",
              "      <td>11</td>\n",
              "      <td>3.0</td>\n",
              "      <td>6.0</td>\n",
              "      <td>925.0</td>\n",
              "      <td>2</td>\n",
              "      <td>90</td>\n",
              "      <td>t</td>\n",
              "      <td>10</td>\n",
              "      <td>4.1</td>\n",
              "      <td>f</td>\n",
              "    </tr>\n",
              "    <tr>\n",
              "      <th>3647</th>\n",
              "      <td>8975746</td>\n",
              "      <td>2013-09-21</td>\n",
              "      <td>6566211</td>\n",
              "      <td>CLASSIC &amp; SPACIOUS OCEAN VIEW 3 BDR</td>\n",
              "      <td>Copacabana</td>\n",
              "      <td>Entire rental unit</td>\n",
              "      <td>Entire home/apt</td>\n",
              "      <td>8</td>\n",
              "      <td>3.0</td>\n",
              "      <td>5.0</td>\n",
              "      <td>885.0</td>\n",
              "      <td>2</td>\n",
              "      <td>90</td>\n",
              "      <td>t</td>\n",
              "      <td>1</td>\n",
              "      <td>0.0</td>\n",
              "      <td>f</td>\n",
              "    </tr>\n",
              "    <tr>\n",
              "      <th>3931</th>\n",
              "      <td>8975746</td>\n",
              "      <td>2013-09-21</td>\n",
              "      <td>7952034</td>\n",
              "      <td>Linda Cobertura em Copacabana</td>\n",
              "      <td>Copacabana</td>\n",
              "      <td>Entire rental unit</td>\n",
              "      <td>Entire home/apt</td>\n",
              "      <td>4</td>\n",
              "      <td>2.0</td>\n",
              "      <td>2.0</td>\n",
              "      <td>1097.0</td>\n",
              "      <td>3</td>\n",
              "      <td>1125</td>\n",
              "      <td>t</td>\n",
              "      <td>0</td>\n",
              "      <td>NaN</td>\n",
              "      <td>f</td>\n",
              "    </tr>\n",
              "    <tr>\n",
              "      <th>3965</th>\n",
              "      <td>8975746</td>\n",
              "      <td>2013-09-21</td>\n",
              "      <td>8082301</td>\n",
              "      <td>(Brazil) Cobertura praia Copacabana</td>\n",
              "      <td>Copacabana</td>\n",
              "      <td>Entire rental unit</td>\n",
              "      <td>Entire home/apt</td>\n",
              "      <td>6</td>\n",
              "      <td>3.0</td>\n",
              "      <td>3.0</td>\n",
              "      <td>1100.0</td>\n",
              "      <td>3</td>\n",
              "      <td>90</td>\n",
              "      <td>t</td>\n",
              "      <td>0</td>\n",
              "      <td>NaN</td>\n",
              "      <td>f</td>\n",
              "    </tr>\n",
              "    <tr>\n",
              "      <th>...</th>\n",
              "      <td>...</td>\n",
              "      <td>...</td>\n",
              "      <td>...</td>\n",
              "      <td>...</td>\n",
              "      <td>...</td>\n",
              "      <td>...</td>\n",
              "      <td>...</td>\n",
              "      <td>...</td>\n",
              "      <td>...</td>\n",
              "      <td>...</td>\n",
              "      <td>...</td>\n",
              "      <td>...</td>\n",
              "      <td>...</td>\n",
              "      <td>...</td>\n",
              "      <td>...</td>\n",
              "      <td>...</td>\n",
              "      <td>...</td>\n",
              "    </tr>\n",
              "    <tr>\n",
              "      <th>22566</th>\n",
              "      <td>8975746</td>\n",
              "      <td>2013-09-21</td>\n",
              "      <td>51285128</td>\n",
              "      <td>Flat em Ipanema à 1 quadra da praia, com garag...</td>\n",
              "      <td>Ipanema</td>\n",
              "      <td>Entire rental unit</td>\n",
              "      <td>Entire home/apt</td>\n",
              "      <td>5</td>\n",
              "      <td>2.0</td>\n",
              "      <td>4.0</td>\n",
              "      <td>575.0</td>\n",
              "      <td>1</td>\n",
              "      <td>365</td>\n",
              "      <td>t</td>\n",
              "      <td>0</td>\n",
              "      <td>NaN</td>\n",
              "      <td>f</td>\n",
              "    </tr>\n",
              "    <tr>\n",
              "      <th>22573</th>\n",
              "      <td>8975746</td>\n",
              "      <td>2013-09-21</td>\n",
              "      <td>51299347</td>\n",
              "      <td>Cobertura 3 quartos All Suites Ipanema.</td>\n",
              "      <td>Ipanema</td>\n",
              "      <td>Entire rental unit</td>\n",
              "      <td>Entire home/apt</td>\n",
              "      <td>7</td>\n",
              "      <td>3.0</td>\n",
              "      <td>4.0</td>\n",
              "      <td>2070.0</td>\n",
              "      <td>1</td>\n",
              "      <td>365</td>\n",
              "      <td>t</td>\n",
              "      <td>0</td>\n",
              "      <td>NaN</td>\n",
              "      <td>f</td>\n",
              "    </tr>\n",
              "    <tr>\n",
              "      <th>22574</th>\n",
              "      <td>8975746</td>\n",
              "      <td>2013-09-21</td>\n",
              "      <td>51299591</td>\n",
              "      <td>Brazil</td>\n",
              "      <td>Copacabana</td>\n",
              "      <td>Room in aparthotel</td>\n",
              "      <td>Entire home/apt</td>\n",
              "      <td>6</td>\n",
              "      <td>3.0</td>\n",
              "      <td>3.0</td>\n",
              "      <td>805.0</td>\n",
              "      <td>1</td>\n",
              "      <td>365</td>\n",
              "      <td>t</td>\n",
              "      <td>0</td>\n",
              "      <td>NaN</td>\n",
              "      <td>f</td>\n",
              "    </tr>\n",
              "    <tr>\n",
              "      <th>22575</th>\n",
              "      <td>8975746</td>\n",
              "      <td>2013-09-21</td>\n",
              "      <td>51300940</td>\n",
              "      <td>Mansão no Joá 4 suites</td>\n",
              "      <td>Joá</td>\n",
              "      <td>Entire residential home</td>\n",
              "      <td>Entire home/apt</td>\n",
              "      <td>8</td>\n",
              "      <td>4.0</td>\n",
              "      <td>4.0</td>\n",
              "      <td>9775.0</td>\n",
              "      <td>1</td>\n",
              "      <td>365</td>\n",
              "      <td>t</td>\n",
              "      <td>0</td>\n",
              "      <td>NaN</td>\n",
              "      <td>f</td>\n",
              "    </tr>\n",
              "    <tr>\n",
              "      <th>23120</th>\n",
              "      <td>8975746</td>\n",
              "      <td>2013-09-21</td>\n",
              "      <td>52168073</td>\n",
              "      <td>Apartamento studio em Copacabana/ Bela Localiz...</td>\n",
              "      <td>Copacabana</td>\n",
              "      <td>Entire rental unit</td>\n",
              "      <td>Entire home/apt</td>\n",
              "      <td>3</td>\n",
              "      <td>NaN</td>\n",
              "      <td>2.0</td>\n",
              "      <td>230.0</td>\n",
              "      <td>1</td>\n",
              "      <td>365</td>\n",
              "      <td>t</td>\n",
              "      <td>0</td>\n",
              "      <td>NaN</td>\n",
              "      <td>f</td>\n",
              "    </tr>\n",
              "  </tbody>\n",
              "</table>\n",
              "<p>85 rows × 17 columns</p>\n",
              "</div>"
            ],
            "text/plain": [
              "      anfitriao_id  ... confirmacao_instantanea\n",
              "2936       8975746  ...                       f\n",
              "3100       8975746  ...                       f\n",
              "3647       8975746  ...                       f\n",
              "3931       8975746  ...                       f\n",
              "3965       8975746  ...                       f\n",
              "...            ...  ...                     ...\n",
              "22566      8975746  ...                       f\n",
              "22573      8975746  ...                       f\n",
              "22574      8975746  ...                       f\n",
              "22575      8975746  ...                       f\n",
              "23120      8975746  ...                       f\n",
              "\n",
              "[85 rows x 17 columns]"
            ]
          },
          "metadata": {},
          "execution_count": 40
        }
      ]
    },
    {
      "cell_type": "code",
      "metadata": {
        "colab": {
          "base_uri": "https://localhost:8080/"
        },
        "id": "ItZPopl0Hgk5",
        "outputId": "301c366f-5826-412c-b1c3-8f964db102a0"
      },
      "source": [
        "df_anf_est.isnull().sum()"
      ],
      "execution_count": 41,
      "outputs": [
        {
          "output_type": "execute_result",
          "data": {
            "text/plain": [
              "anfitriao_id                0\n",
              "anf_data_cadastro           0\n",
              "id_anuncio                  0\n",
              "nome_anuncio                0\n",
              "bairro                      0\n",
              "tipo_propriedade            0\n",
              "tipo_acomodacao             0\n",
              "numero_hospedes             0\n",
              "quartos                     2\n",
              "camas                       0\n",
              "preco                       0\n",
              "min_noites                  0\n",
              "max_noites                  0\n",
              "disponivel                  0\n",
              "numero_avaliaçoes           0\n",
              "pontuacao_avaliacoes       61\n",
              "confirmacao_instantanea     0\n",
              "dtype: int64"
            ]
          },
          "metadata": {},
          "execution_count": 41
        }
      ]
    },
    {
      "cell_type": "code",
      "metadata": {
        "colab": {
          "base_uri": "https://localhost:8080/",
          "height": 294
        },
        "id": "AHqhL_nV-b0-",
        "outputId": "c3b04580-ae9c-49e2-a2cc-b3f10d799143"
      },
      "source": [
        "df_anf_est.boxplot(column='preco')\n",
        "plt.title('Variação de Preços por Anuncio com Outliers')"
      ],
      "execution_count": 42,
      "outputs": [
        {
          "output_type": "execute_result",
          "data": {
            "text/plain": [
              "Text(0.5, 1.0, 'Variação de Preços por Anuncio com Outliers')"
            ]
          },
          "metadata": {},
          "execution_count": 42
        },
        {
          "output_type": "display_data",
          "data": {
            "image/png": "[encoded data removed]",
            "text/plain": [
              "<Figure size 432x288 with 1 Axes>"
            ]
          },
          "metadata": {}
        }
      ]
    },
    {
      "cell_type": "code",
      "metadata": {
        "colab": {
          "base_uri": "https://localhost:8080/",
          "height": 294
        },
        "id": "s4ZszY6UGoye",
        "outputId": "4130461f-0bd8-4831-dd13-9aac11354c4f"
      },
      "source": [
        "df_anf_est.boxplot(column='preco', showfliers=False)\n",
        "plt.title('Variação de Preços por Anuncio sem Outliers')"
      ],
      "execution_count": 43,
      "outputs": [
        {
          "output_type": "execute_result",
          "data": {
            "text/plain": [
              "Text(0.5, 1.0, 'Variação de Preços por Anuncio sem Outliers')"
            ]
          },
          "metadata": {},
          "execution_count": 43
        },
        {
          "output_type": "display_data",
          "data": {
            "image/png": "[encoded data removed]",
            "text/plain": [
              "<Figure size 432x288 with 1 Axes>"
            ]
          },
          "metadata": {}
        }
      ]
    },
    {
      "cell_type": "code",
      "metadata": {
        "colab": {
          "base_uri": "https://localhost:8080/",
          "height": 317
        },
        "id": "LxjLdQPW-Wxf",
        "outputId": "f26b63a1-c7e1-4a01-db4d-95039137ca38"
      },
      "source": [
        "df_anf_est.groupby('pontuacao_avaliacoes')['id_anuncio'].count().sort_values(ascending=False).plot.bar()\n",
        "plt.title('Valor das avaliações por quantidade para este Host')"
      ],
      "execution_count": 44,
      "outputs": [
        {
          "output_type": "execute_result",
          "data": {
            "text/plain": [
              "Text(0.5, 1.0, 'Valor das avaliações por quantidade para este Host')"
            ]
          },
          "metadata": {},
          "execution_count": 44
        },
        {
          "output_type": "display_data",
          "data": {
            "image/png": "[encoded data removed]",
            "text/plain": [
              "<Figure size 432x288 with 1 Axes>"
            ]
          },
          "metadata": {}
        }
      ]
    },
    {
      "cell_type": "code",
      "metadata": {
        "colab": {
          "base_uri": "https://localhost:8080/",
          "height": 496
        },
        "id": "9TqDVBtQLSES",
        "outputId": "cf21b512-56d2-4704-83aa-bf1770a5ab1d"
      },
      "source": [
        "df_anf_est.groupby('numero_avaliaçoes')['id_anuncio'].count().sort_values(ascending=False).plot.bar()\n",
        "plt.title('Numero de avaliações por Anuncio para este Host')\n",
        "df_anf_est.groupby('numero_avaliaçoes')['id_anuncio'].count().sort_values(ascending=False)"
      ],
      "execution_count": 45,
      "outputs": [
        {
          "output_type": "execute_result",
          "data": {
            "text/plain": [
              "numero_avaliaçoes\n",
              "0     61\n",
              "1     12\n",
              "2      4\n",
              "5      2\n",
              "15     1\n",
              "12     1\n",
              "11     1\n",
              "10     1\n",
              "6      1\n",
              "3      1\n",
              "Name: id_anuncio, dtype: int64"
            ]
          },
          "metadata": {},
          "execution_count": 45
        },
        {
          "output_type": "display_data",
          "data": {
            "image/png": "[encoded data removed]",
            "text/plain": [
              "<Figure size 432x288 with 1 Axes>"
            ]
          },
          "metadata": {}
        }
      ]
    },
    {
      "cell_type": "markdown",
      "metadata": {
        "id": "1ZDNUcFrdL2d"
      },
      "source": [
        "##### levantamento de anuncios por bairros"
      ]
    },
    {
      "cell_type": "code",
      "metadata": {
        "id": "nj7ftg3lvm22",
        "colab": {
          "base_uri": "https://localhost:8080/"
        },
        "outputId": "5d2c9aaf-3ff0-4b72-8252-81b738556c5e"
      },
      "source": [
        "# levantamento de anuncios por bairros\n",
        "df.groupby('bairro')['id_anuncio'].count().sort_values(ascending=False)"
      ],
      "execution_count": 46,
      "outputs": [
        {
          "output_type": "execute_result",
          "data": {
            "text/plain": [
              "bairro\n",
              "Copacabana                  6708\n",
              "Barra da Tijuca             2383\n",
              "Ipanema                     2293\n",
              "Jacarepaguá                 1121\n",
              "Recreio dos Bandeirantes    1064\n",
              "                            ... \n",
              "Cavalcanti                     1\n",
              "Deodoro                        1\n",
              "Vista Alegre                   1\n",
              "Acari                          1\n",
              "Maré                           1\n",
              "Name: id_anuncio, Length: 153, dtype: int64"
            ]
          },
          "metadata": {},
          "execution_count": 46
        }
      ]
    },
    {
      "cell_type": "code",
      "metadata": {
        "colab": {
          "base_uri": "https://localhost:8080/",
          "height": 400
        },
        "id": "hu2fLg9YYbfh",
        "outputId": "76c405cf-8b3a-4ef6-b0c2-822dadaa923c"
      },
      "source": [
        "df_bairros = df.groupby('bairro')['id_anuncio'].count().sort_values(ascending=False)\n",
        "df_bairros.iloc[:30].plot.bar()"
      ],
      "execution_count": 47,
      "outputs": [
        {
          "output_type": "execute_result",
          "data": {
            "text/plain": [
              "<matplotlib.axes._subplots.AxesSubplot at 0x7fe8dd4cbf10>"
            ]
          },
          "metadata": {},
          "execution_count": 47
        },
        {
          "output_type": "display_data",
          "data": {
            "image/png": "[encoded data removed]",
            "text/plain": [
              "<Figure size 432x288 with 1 Axes>"
            ]
          },
          "metadata": {}
        }
      ]
    },
    {
      "cell_type": "markdown",
      "metadata": {
        "id": "86qhI6pmdV1w"
      },
      "source": [
        "##### Levantamento de anuncios por tipo de propriedade"
      ]
    },
    {
      "cell_type": "code",
      "metadata": {
        "colab": {
          "base_uri": "https://localhost:8080/"
        },
        "id": "lkBA65sj0mFb",
        "outputId": "4701b4ca-53a7-4077-fc6e-60644e44ecc4"
      },
      "source": [
        "# Levantamento de anuncios por tipo de propriedade\n",
        "df.groupby('tipo_propriedade')['id_anuncio'].count().sort_values(ascending=False)"
      ],
      "execution_count": 48,
      "outputs": [
        {
          "output_type": "execute_result",
          "data": {
            "text/plain": [
              "tipo_propriedade\n",
              "Entire rental unit                  13086\n",
              "Private room in rental unit          3440\n",
              "Entire condominium (condo)           1412\n",
              "Private room in residential home     1065\n",
              "Entire residential home              1028\n",
              "                                    ...  \n",
              "Island                                  1\n",
              "Shared room in cottage                  1\n",
              "Shared room in castle                   1\n",
              "Shared room in bungalow                 1\n",
              "Yurt                                    1\n",
              "Name: id_anuncio, Length: 86, dtype: int64"
            ]
          },
          "metadata": {},
          "execution_count": 48
        }
      ]
    },
    {
      "cell_type": "code",
      "metadata": {
        "colab": {
          "base_uri": "https://localhost:8080/",
          "height": 448
        },
        "id": "Ra1FyyucagDk",
        "outputId": "6a7f9ba6-7623-43f0-8c4b-1fcaf80565d9"
      },
      "source": [
        "dftipo_propriedade = df.groupby('tipo_propriedade')['id_anuncio'].count().sort_values(ascending=False)\n",
        "dftipo_propriedade[:10].plot.bar()"
      ],
      "execution_count": 49,
      "outputs": [
        {
          "output_type": "execute_result",
          "data": {
            "text/plain": [
              "<matplotlib.axes._subplots.AxesSubplot at 0x7fe8dd4436d0>"
            ]
          },
          "metadata": {},
          "execution_count": 49
        },
        {
          "output_type": "display_data",
          "data": {
            "image/png": "[encoded data removed]",
            "text/plain": [
              "<Figure size 432x288 with 1 Axes>"
            ]
          },
          "metadata": {}
        }
      ]
    },
    {
      "cell_type": "code",
      "metadata": {
        "id": "NR2eZ1K6ahWw",
        "colab": {
          "base_uri": "https://localhost:8080/",
          "height": 428
        },
        "outputId": "489e4689-7288-4a48-beb0-4fae0d04b0ae"
      },
      "source": [
        "dflistings.loc[(dflistings.tipo_propriedade == 'Island') | (dflistings.tipo_propriedade == 'Yurt') | (dflistings.tipo_propriedade == 'Shared room in castle') | (dflistings.tipo_propriedade == 'Shared room in cottage') | (dflistings.tipo_propriedade == 'Shared room in bungalow')]"
      ],
      "execution_count": 50,
      "outputs": [
        {
          "output_type": "execute_result",
          "data": {
            "text/html": [
              "<div>\n",
              "<style scoped>\n",
              "    .dataframe tbody tr th:only-of-type {\n",
              "        vertical-align: middle;\n",
              "    }\n",
              "\n",
              "    .dataframe tbody tr th {\n",
              "        vertical-align: top;\n",
              "    }\n",
              "\n",
              "    .dataframe thead th {\n",
              "        text-align: right;\n",
              "    }\n",
              "</style>\n",
              "<table border=\"1\" class=\"dataframe\">\n",
              "  <thead>\n",
              "    <tr style=\"text-align: right;\">\n",
              "      <th></th>\n",
              "      <th>anfitriao_id</th>\n",
              "      <th>anf_data_cadastro</th>\n",
              "      <th>id_anuncio</th>\n",
              "      <th>nome_anuncio</th>\n",
              "      <th>bairro</th>\n",
              "      <th>tipo_propriedade</th>\n",
              "      <th>tipo_acomodacao</th>\n",
              "      <th>numero_hospedes</th>\n",
              "      <th>quartos</th>\n",
              "      <th>camas</th>\n",
              "      <th>preco</th>\n",
              "      <th>min_noites</th>\n",
              "      <th>max_noites</th>\n",
              "      <th>disponivel</th>\n",
              "      <th>numero_avaliaçoes</th>\n",
              "      <th>pontuacao_avaliacoes</th>\n",
              "      <th>confirmacao_instantanea</th>\n",
              "    </tr>\n",
              "  </thead>\n",
              "  <tbody>\n",
              "    <tr>\n",
              "      <th>9535</th>\n",
              "      <td>61456478</td>\n",
              "      <td>2016-03-03</td>\n",
              "      <td>17430810</td>\n",
              "      <td>Paradise Island in Barra next to Subway Station</td>\n",
              "      <td>Barra da Tijuca</td>\n",
              "      <td>Island</td>\n",
              "      <td>Entire home/apt</td>\n",
              "      <td>5</td>\n",
              "      <td>1.0</td>\n",
              "      <td>3.0</td>\n",
              "      <td>141.0</td>\n",
              "      <td>3</td>\n",
              "      <td>1125</td>\n",
              "      <td>t</td>\n",
              "      <td>35</td>\n",
              "      <td>4.91</td>\n",
              "      <td>f</td>\n",
              "    </tr>\n",
              "    <tr>\n",
              "      <th>10123</th>\n",
              "      <td>52812778</td>\n",
              "      <td>2015-12-30</td>\n",
              "      <td>20480385</td>\n",
              "      <td>Recanto da Vovó Tanta</td>\n",
              "      <td>Guaratiba</td>\n",
              "      <td>Yurt</td>\n",
              "      <td>Entire home/apt</td>\n",
              "      <td>5</td>\n",
              "      <td>2.0</td>\n",
              "      <td>2.0</td>\n",
              "      <td>300.0</td>\n",
              "      <td>1</td>\n",
              "      <td>7</td>\n",
              "      <td>t</td>\n",
              "      <td>0</td>\n",
              "      <td>NaN</td>\n",
              "      <td>t</td>\n",
              "    </tr>\n",
              "    <tr>\n",
              "      <th>13694</th>\n",
              "      <td>238713778</td>\n",
              "      <td>2019-01-24</td>\n",
              "      <td>32575245</td>\n",
              "      <td>Santa Carioca</td>\n",
              "      <td>Santa Teresa</td>\n",
              "      <td>Shared room in cottage</td>\n",
              "      <td>Shared room</td>\n",
              "      <td>3</td>\n",
              "      <td>1.0</td>\n",
              "      <td>3.0</td>\n",
              "      <td>150.0</td>\n",
              "      <td>3</td>\n",
              "      <td>1125</td>\n",
              "      <td>t</td>\n",
              "      <td>3</td>\n",
              "      <td>4.33</td>\n",
              "      <td>f</td>\n",
              "    </tr>\n",
              "    <tr>\n",
              "      <th>13705</th>\n",
              "      <td>244151757</td>\n",
              "      <td>2019-02-19</td>\n",
              "      <td>32589993</td>\n",
              "      <td>CARNAVAL EM SANTA TERESA</td>\n",
              "      <td>Santa Teresa</td>\n",
              "      <td>Shared room in bungalow</td>\n",
              "      <td>Shared room</td>\n",
              "      <td>4</td>\n",
              "      <td>1.0</td>\n",
              "      <td>3.0</td>\n",
              "      <td>1000.0</td>\n",
              "      <td>3</td>\n",
              "      <td>15</td>\n",
              "      <td>t</td>\n",
              "      <td>0</td>\n",
              "      <td>NaN</td>\n",
              "      <td>t</td>\n",
              "    </tr>\n",
              "    <tr>\n",
              "      <th>19823</th>\n",
              "      <td>85745184</td>\n",
              "      <td>2016-07-24</td>\n",
              "      <td>46512209</td>\n",
              "      <td>QUARTO TIJUCA PRÓXIMO AO METRO E TODO RIO.</td>\n",
              "      <td>Tijuca</td>\n",
              "      <td>Shared room in castle</td>\n",
              "      <td>Shared room</td>\n",
              "      <td>2</td>\n",
              "      <td>1.0</td>\n",
              "      <td>1.0</td>\n",
              "      <td>114.0</td>\n",
              "      <td>2</td>\n",
              "      <td>7</td>\n",
              "      <td>t</td>\n",
              "      <td>0</td>\n",
              "      <td>NaN</td>\n",
              "      <td>f</td>\n",
              "    </tr>\n",
              "  </tbody>\n",
              "</table>\n",
              "</div>"
            ],
            "text/plain": [
              "      anfitriao_id  ... confirmacao_instantanea\n",
              "9535      61456478  ...                       f\n",
              "10123     52812778  ...                       t\n",
              "13694    238713778  ...                       f\n",
              "13705    244151757  ...                       t\n",
              "19823     85745184  ...                       f\n",
              "\n",
              "[5 rows x 17 columns]"
            ]
          },
          "metadata": {},
          "execution_count": 50
        }
      ]
    },
    {
      "cell_type": "markdown",
      "metadata": {
        "id": "DG_19Zu8dh7-"
      },
      "source": [
        "##### Levantamento de anuncios por tipo de acomodação"
      ]
    },
    {
      "cell_type": "code",
      "metadata": {
        "colab": {
          "base_uri": "https://localhost:8080/"
        },
        "id": "wwMoktiPwsoA",
        "outputId": "0c59332c-a6cd-4f5a-bdc5-b633325d3b45"
      },
      "source": [
        "# Levantamento de anuncios por tipo de acomodação\n",
        "dflistings['tipo_acomodacao'].unique()"
      ],
      "execution_count": 51,
      "outputs": [
        {
          "output_type": "execute_result",
          "data": {
            "text/plain": [
              "array(['Entire home/apt', 'Private room', 'Shared room', 'Hotel room'],\n",
              "      dtype=object)"
            ]
          },
          "metadata": {},
          "execution_count": 51
        }
      ]
    },
    {
      "cell_type": "code",
      "metadata": {
        "colab": {
          "base_uri": "https://localhost:8080/"
        },
        "id": "Mb2xdbjAdRmT",
        "outputId": "aaa16c06-4052-4507-d9a4-f3550c78df89"
      },
      "source": [
        "df.groupby('tipo_acomodacao')['id_anuncio'].count().sort_values(ascending=False)"
      ],
      "execution_count": 52,
      "outputs": [
        {
          "output_type": "execute_result",
          "data": {
            "text/plain": [
              "tipo_acomodacao\n",
              "Entire home/apt    17118\n",
              "Private room        5673\n",
              "Shared room          540\n",
              "Hotel room            83\n",
              "Name: id_anuncio, dtype: int64"
            ]
          },
          "metadata": {},
          "execution_count": 52
        }
      ]
    },
    {
      "cell_type": "code",
      "metadata": {
        "colab": {
          "base_uri": "https://localhost:8080/",
          "height": 353
        },
        "id": "ztjx_Z4jdrgu",
        "outputId": "6c8d771b-91be-4cf6-d5b1-0b53fffc4202"
      },
      "source": [
        "df.groupby('tipo_acomodacao')['id_anuncio'].count().sort_values(ascending=False).plot.bar()"
      ],
      "execution_count": 53,
      "outputs": [
        {
          "output_type": "execute_result",
          "data": {
            "text/plain": [
              "<matplotlib.axes._subplots.AxesSubplot at 0x7fe8deff4250>"
            ]
          },
          "metadata": {},
          "execution_count": 53
        },
        {
          "output_type": "display_data",
          "data": {
            "image/png": "[encoded data removed]",
            "text/plain": [
              "<Figure size 432x288 with 1 Axes>"
            ]
          },
          "metadata": {}
        }
      ]
    },
    {
      "cell_type": "markdown",
      "metadata": {
        "id": "szzUScKid0az"
      },
      "source": [
        "##### Levantamento de numero de hospedes por anuncio"
      ]
    },
    {
      "cell_type": "code",
      "metadata": {
        "colab": {
          "base_uri": "https://localhost:8080/"
        },
        "id": "tus1DPIWv-kK",
        "outputId": "94481d08-93a7-4606-a173-4396af39fa41"
      },
      "source": [
        "# Levantamento de numero de hospedes por anuncio\n",
        "df.groupby('numero_hospedes')['id_anuncio'].count().sort_values(ascending=False)"
      ],
      "execution_count": 54,
      "outputs": [
        {
          "output_type": "execute_result",
          "data": {
            "text/plain": [
              "numero_hospedes\n",
              "4     6277\n",
              "2     6083\n",
              "6     2847\n",
              "3     2523\n",
              "5     1852\n",
              "1     1270\n",
              "8      911\n",
              "7      515\n",
              "10     446\n",
              "12     179\n",
              "16     177\n",
              "9      137\n",
              "14      62\n",
              "15      54\n",
              "11      41\n",
              "13      33\n",
              "0        7\n",
              "Name: id_anuncio, dtype: int64"
            ]
          },
          "metadata": {},
          "execution_count": 54
        }
      ]
    },
    {
      "cell_type": "code",
      "metadata": {
        "colab": {
          "base_uri": "https://localhost:8080/",
          "height": 294
        },
        "id": "KbPyWEkRlkT2",
        "outputId": "24f69558-fc02-4a68-c975-bb7a57807471"
      },
      "source": [
        "df.groupby('numero_hospedes')['id_anuncio'].count().sort_values(ascending=False).plot.bar()"
      ],
      "execution_count": 55,
      "outputs": [
        {
          "output_type": "execute_result",
          "data": {
            "text/plain": [
              "<matplotlib.axes._subplots.AxesSubplot at 0x7fe8dd2c9350>"
            ]
          },
          "metadata": {},
          "execution_count": 55
        },
        {
          "output_type": "display_data",
          "data": {
            "image/png": "[encoded data removed]",
            "text/plain": [
              "<Figure size 432x288 with 1 Axes>"
            ]
          },
          "metadata": {}
        }
      ]
    },
    {
      "cell_type": "markdown",
      "metadata": {
        "id": "vvrzVXX-mUFD"
      },
      "source": [
        "##### Levantamento de numero de quartos por anuncio"
      ]
    },
    {
      "cell_type": "code",
      "metadata": {
        "colab": {
          "base_uri": "https://localhost:8080/"
        },
        "id": "-pQuOpIJmG0S",
        "outputId": "bfb21f62-e5aa-485e-b26e-02b059882d97"
      },
      "source": [
        "# Levantamento de numero de quartos por anuncio\n",
        "df.groupby('quartos')['id_anuncio'].count().sort_values(ascending=False)"
      ],
      "execution_count": 56,
      "outputs": [
        {
          "output_type": "execute_result",
          "data": {
            "text/plain": [
              "quartos\n",
              "1.0     12295\n",
              "2.0      5767\n",
              "3.0      2740\n",
              "4.0       676\n",
              "5.0       221\n",
              "6.0       107\n",
              "7.0        35\n",
              "8.0        14\n",
              "9.0        11\n",
              "10.0       10\n",
              "11.0        6\n",
              "12.0        3\n",
              "30.0        2\n",
              "15.0        2\n",
              "20.0        2\n",
              "14.0        1\n",
              "17.0        1\n",
              "18.0        1\n",
              "47.0        1\n",
              "Name: id_anuncio, dtype: int64"
            ]
          },
          "metadata": {},
          "execution_count": 56
        }
      ]
    },
    {
      "cell_type": "code",
      "metadata": {
        "id": "crdWfC0UwQH4",
        "colab": {
          "base_uri": "https://localhost:8080/",
          "height": 302
        },
        "outputId": "2182d00e-2b8a-4dad-b157-532658edbc09"
      },
      "source": [
        "# Levantamento de numero de quartos por anuncio\n",
        "df.groupby('quartos')['id_anuncio'].count().sort_values(ascending=False).plot.bar()"
      ],
      "execution_count": 57,
      "outputs": [
        {
          "output_type": "execute_result",
          "data": {
            "text/plain": [
              "<matplotlib.axes._subplots.AxesSubplot at 0x7fe8dd276f10>"
            ]
          },
          "metadata": {},
          "execution_count": 57
        },
        {
          "output_type": "display_data",
          "data": {
            "image/png": "[encoded data removed]",
            "text/plain": [
              "<Figure size 432x288 with 1 Axes>"
            ]
          },
          "metadata": {}
        }
      ]
    },
    {
      "cell_type": "code",
      "metadata": {
        "id": "i9tZqY5fwqq5",
        "colab": {
          "base_uri": "https://localhost:8080/",
          "height": 168
        },
        "outputId": "d1330b2a-959c-49ed-b0c3-3cf0e5eae629"
      },
      "source": [
        "dflistings.loc[(dflistings.quartos == 17)]"
      ],
      "execution_count": 58,
      "outputs": [
        {
          "output_type": "execute_result",
          "data": {
            "text/html": [
              "<div>\n",
              "<style scoped>\n",
              "    .dataframe tbody tr th:only-of-type {\n",
              "        vertical-align: middle;\n",
              "    }\n",
              "\n",
              "    .dataframe tbody tr th {\n",
              "        vertical-align: top;\n",
              "    }\n",
              "\n",
              "    .dataframe thead th {\n",
              "        text-align: right;\n",
              "    }\n",
              "</style>\n",
              "<table border=\"1\" class=\"dataframe\">\n",
              "  <thead>\n",
              "    <tr style=\"text-align: right;\">\n",
              "      <th></th>\n",
              "      <th>anfitriao_id</th>\n",
              "      <th>anf_data_cadastro</th>\n",
              "      <th>id_anuncio</th>\n",
              "      <th>nome_anuncio</th>\n",
              "      <th>bairro</th>\n",
              "      <th>tipo_propriedade</th>\n",
              "      <th>tipo_acomodacao</th>\n",
              "      <th>numero_hospedes</th>\n",
              "      <th>quartos</th>\n",
              "      <th>camas</th>\n",
              "      <th>preco</th>\n",
              "      <th>min_noites</th>\n",
              "      <th>max_noites</th>\n",
              "      <th>disponivel</th>\n",
              "      <th>numero_avaliaçoes</th>\n",
              "      <th>pontuacao_avaliacoes</th>\n",
              "      <th>confirmacao_instantanea</th>\n",
              "    </tr>\n",
              "  </thead>\n",
              "  <tbody>\n",
              "    <tr>\n",
              "      <th>8431</th>\n",
              "      <td>56259668</td>\n",
              "      <td>2016-01-26</td>\n",
              "      <td>14652423</td>\n",
              "      <td>casa de hospedes para grupos de 6 pessoas recreio</td>\n",
              "      <td>Vargem Grande</td>\n",
              "      <td>Entire guesthouse</td>\n",
              "      <td>Entire home/apt</td>\n",
              "      <td>6</td>\n",
              "      <td>17.0</td>\n",
              "      <td>38.0</td>\n",
              "      <td>53.0</td>\n",
              "      <td>1</td>\n",
              "      <td>90</td>\n",
              "      <td>t</td>\n",
              "      <td>1</td>\n",
              "      <td>4.0</td>\n",
              "      <td>f</td>\n",
              "    </tr>\n",
              "  </tbody>\n",
              "</table>\n",
              "</div>"
            ],
            "text/plain": [
              "     anfitriao_id  ... confirmacao_instantanea\n",
              "8431     56259668  ...                       f\n",
              "\n",
              "[1 rows x 17 columns]"
            ]
          },
          "metadata": {},
          "execution_count": 58
        }
      ]
    },
    {
      "cell_type": "markdown",
      "metadata": {
        "id": "_g_GVBLomvcU"
      },
      "source": [
        "##### Levantamento de quantidade de camas por anuncio"
      ]
    },
    {
      "cell_type": "code",
      "metadata": {
        "id": "tlA7XoayyECT",
        "colab": {
          "base_uri": "https://localhost:8080/"
        },
        "outputId": "e8da28d1-d206-493e-da72-74ff2eb34c51"
      },
      "source": [
        "# Levantamento de quantidade de camas por anuncio\n",
        "df.groupby('camas')['id_anuncio'].count().sort_values(ascending=False)"
      ],
      "execution_count": 59,
      "outputs": [
        {
          "output_type": "execute_result",
          "data": {
            "text/plain": [
              "camas\n",
              "1.0     7308\n",
              "2.0     6442\n",
              "3.0     3961\n",
              "4.0     2237\n",
              "5.0     1153\n",
              "6.0      713\n",
              "0.0      580\n",
              "7.0      243\n",
              "8.0      229\n",
              "9.0       85\n",
              "10.0      76\n",
              "11.0      32\n",
              "12.0      29\n",
              "16.0      29\n",
              "13.0      18\n",
              "15.0      17\n",
              "14.0      11\n",
              "30.0       5\n",
              "50.0       4\n",
              "20.0       4\n",
              "17.0       4\n",
              "23.0       3\n",
              "18.0       2\n",
              "22.0       2\n",
              "24.0       2\n",
              "26.0       2\n",
              "27.0       2\n",
              "35.0       2\n",
              "38.0       2\n",
              "52.0       1\n",
              "21.0       1\n",
              "25.0       1\n",
              "29.0       1\n",
              "31.0       1\n",
              "33.0       1\n",
              "41.0       1\n",
              "43.0       1\n",
              "91.0       1\n",
              "Name: id_anuncio, dtype: int64"
            ]
          },
          "metadata": {},
          "execution_count": 59
        }
      ]
    },
    {
      "cell_type": "code",
      "metadata": {
        "id": "1do0uj-kmi6N",
        "colab": {
          "base_uri": "https://localhost:8080/",
          "height": 302
        },
        "outputId": "b65688e6-a79f-445c-d71a-c20343705010"
      },
      "source": [
        "df_camas = df.groupby('camas')['id_anuncio'].count().sort_values(ascending=False)\n",
        "df_camas.iloc[:].plot.bar()"
      ],
      "execution_count": 60,
      "outputs": [
        {
          "output_type": "execute_result",
          "data": {
            "text/plain": [
              "<matplotlib.axes._subplots.AxesSubplot at 0x7fe8dd1b2c10>"
            ]
          },
          "metadata": {},
          "execution_count": 60
        },
        {
          "output_type": "display_data",
          "data": {
            "image/png": "[encoded data removed]",
            "text/plain": [
              "<Figure size 432x288 with 1 Axes>"
            ]
          },
          "metadata": {}
        }
      ]
    },
    {
      "cell_type": "code",
      "metadata": {
        "colab": {
          "base_uri": "https://localhost:8080/",
          "height": 134
        },
        "id": "_gw2g2z5ynSn",
        "outputId": "6f3f334d-e26a-44c4-aa47-d60c463322b5"
      },
      "source": [
        "dflistings.loc[(dflistings.camas == 91)]"
      ],
      "execution_count": 61,
      "outputs": [
        {
          "output_type": "execute_result",
          "data": {
            "text/html": [
              "<div>\n",
              "<style scoped>\n",
              "    .dataframe tbody tr th:only-of-type {\n",
              "        vertical-align: middle;\n",
              "    }\n",
              "\n",
              "    .dataframe tbody tr th {\n",
              "        vertical-align: top;\n",
              "    }\n",
              "\n",
              "    .dataframe thead th {\n",
              "        text-align: right;\n",
              "    }\n",
              "</style>\n",
              "<table border=\"1\" class=\"dataframe\">\n",
              "  <thead>\n",
              "    <tr style=\"text-align: right;\">\n",
              "      <th></th>\n",
              "      <th>anfitriao_id</th>\n",
              "      <th>anf_data_cadastro</th>\n",
              "      <th>id_anuncio</th>\n",
              "      <th>nome_anuncio</th>\n",
              "      <th>bairro</th>\n",
              "      <th>tipo_propriedade</th>\n",
              "      <th>tipo_acomodacao</th>\n",
              "      <th>numero_hospedes</th>\n",
              "      <th>quartos</th>\n",
              "      <th>camas</th>\n",
              "      <th>preco</th>\n",
              "      <th>min_noites</th>\n",
              "      <th>max_noites</th>\n",
              "      <th>disponivel</th>\n",
              "      <th>numero_avaliaçoes</th>\n",
              "      <th>pontuacao_avaliacoes</th>\n",
              "      <th>confirmacao_instantanea</th>\n",
              "    </tr>\n",
              "  </thead>\n",
              "  <tbody>\n",
              "    <tr>\n",
              "      <th>4755</th>\n",
              "      <td>13384955</td>\n",
              "      <td>2014-03-21</td>\n",
              "      <td>10283474</td>\n",
              "      <td>House near best beaches in Rio</td>\n",
              "      <td>Guaratiba</td>\n",
              "      <td>Earth house</td>\n",
              "      <td>Entire home/apt</td>\n",
              "      <td>16</td>\n",
              "      <td>5.0</td>\n",
              "      <td>91.0</td>\n",
              "      <td>3953.0</td>\n",
              "      <td>2</td>\n",
              "      <td>30</td>\n",
              "      <td>t</td>\n",
              "      <td>0</td>\n",
              "      <td>NaN</td>\n",
              "      <td>f</td>\n",
              "    </tr>\n",
              "  </tbody>\n",
              "</table>\n",
              "</div>"
            ],
            "text/plain": [
              "     anfitriao_id  ... confirmacao_instantanea\n",
              "4755     13384955  ...                       f\n",
              "\n",
              "[1 rows x 17 columns]"
            ]
          },
          "metadata": {},
          "execution_count": 61
        }
      ]
    },
    {
      "cell_type": "markdown",
      "metadata": {
        "id": "fpXtqbdTtVG7"
      },
      "source": [
        "##### Levantamento de preços"
      ]
    },
    {
      "cell_type": "code",
      "metadata": {
        "id": "v71xUEQpn1sQ",
        "colab": {
          "base_uri": "https://localhost:8080/"
        },
        "outputId": "4fdb6a95-3a0d-420a-dc05-7a19aa5bdf04"
      },
      "source": [
        "# Levantamento de preços\n",
        "dflistings['preco'].sort_values(ascending=False)"
      ],
      "execution_count": 62,
      "outputs": [
        {
          "output_type": "execute_result",
          "data": {
            "text/plain": [
              "7172     621850.0\n",
              "15659    133820.0\n",
              "7189     129080.0\n",
              "3718     129080.0\n",
              "3701     129080.0\n",
              "           ...   \n",
              "18368         0.0\n",
              "18410         0.0\n",
              "18432         0.0\n",
              "18451         0.0\n",
              "18409         0.0\n",
              "Name: preco, Length: 23414, dtype: float64"
            ]
          },
          "metadata": {},
          "execution_count": 62
        }
      ]
    },
    {
      "cell_type": "code",
      "metadata": {
        "colab": {
          "base_uri": "https://localhost:8080/",
          "height": 290
        },
        "id": "R4W4kc2MHL2D",
        "outputId": "755968a5-411f-45c8-bbad-5c8ac6c2f921"
      },
      "source": [
        "plt.scatter(dflistings.preco, dflistings.id_anuncio)"
      ],
      "execution_count": 63,
      "outputs": [
        {
          "output_type": "execute_result",
          "data": {
            "text/plain": [
              "<matplotlib.collections.PathCollection at 0x7fe8dd008dd0>"
            ]
          },
          "metadata": {},
          "execution_count": 63
        },
        {
          "output_type": "display_data",
          "data": {
            "image/png": "[encoded data removed]",
            "text/plain": [
              "<Figure size 432x288 with 1 Axes>"
            ]
          },
          "metadata": {}
        }
      ]
    },
    {
      "cell_type": "code",
      "metadata": {
        "colab": {
          "base_uri": "https://localhost:8080/",
          "height": 308
        },
        "id": "XCNodhZXxQHp",
        "outputId": "c1ac8f7c-aab7-40ba-ef60-024ba8d45a8b"
      },
      "source": [
        "dflistings.boxplot(column='preco', showfliers=False)\n",
        "plt.title('Distribuição de valores por noite')\n",
        "plt.xlabel('Anuncios')\n",
        "plt.ylabel('Valor por Diaria')"
      ],
      "execution_count": 64,
      "outputs": [
        {
          "output_type": "execute_result",
          "data": {
            "text/plain": [
              "Text(0, 0.5, 'Valor por Diaria')"
            ]
          },
          "metadata": {},
          "execution_count": 64
        },
        {
          "output_type": "display_data",
          "data": {
            "image/png": "[encoded data removed]",
            "text/plain": [
              "<Figure size 432x288 with 1 Axes>"
            ]
          },
          "metadata": {}
        }
      ]
    },
    {
      "cell_type": "code",
      "metadata": {
        "colab": {
          "base_uri": "https://localhost:8080/",
          "height": 282
        },
        "id": "xeH--L7w0UoG",
        "outputId": "f483797e-19e7-4eef-ccfd-fd267621ba1a"
      },
      "source": [
        "filtro1 = dflistings.preco != 0\n",
        "#filtro2 = dflistings.preco <= 100000\n",
        "df_preco = dflistings.loc[filtro1]\n",
        "#df_preco.head(2)\n",
        "df_preco.boxplot(column='preco', showfliers=False, )"
      ],
      "execution_count": 65,
      "outputs": [
        {
          "output_type": "execute_result",
          "data": {
            "text/plain": [
              "<matplotlib.axes._subplots.AxesSubplot at 0x7fe8dcff2fd0>"
            ]
          },
          "metadata": {},
          "execution_count": 65
        },
        {
          "output_type": "display_data",
          "data": {
            "image/png": "[encoded data removed]",
            "text/plain": [
              "<Figure size 432x288 with 1 Axes>"
            ]
          },
          "metadata": {}
        }
      ]
    },
    {
      "cell_type": "code",
      "metadata": {
        "id": "qBR6eUQVuJP-",
        "colab": {
          "base_uri": "https://localhost:8080/",
          "height": 317
        },
        "outputId": "4668d907-87c5-438c-ae7b-03541150e6fd"
      },
      "source": [
        "df_preco.describe()"
      ],
      "execution_count": 66,
      "outputs": [
        {
          "output_type": "execute_result",
          "data": {
            "text/html": [
              "<div>\n",
              "<style scoped>\n",
              "    .dataframe tbody tr th:only-of-type {\n",
              "        vertical-align: middle;\n",
              "    }\n",
              "\n",
              "    .dataframe tbody tr th {\n",
              "        vertical-align: top;\n",
              "    }\n",
              "\n",
              "    .dataframe thead th {\n",
              "        text-align: right;\n",
              "    }\n",
              "</style>\n",
              "<table border=\"1\" class=\"dataframe\">\n",
              "  <thead>\n",
              "    <tr style=\"text-align: right;\">\n",
              "      <th></th>\n",
              "      <th>numero_hospedes</th>\n",
              "      <th>quartos</th>\n",
              "      <th>camas</th>\n",
              "      <th>preco</th>\n",
              "      <th>min_noites</th>\n",
              "      <th>max_noites</th>\n",
              "      <th>numero_avaliaçoes</th>\n",
              "      <th>pontuacao_avaliacoes</th>\n",
              "    </tr>\n",
              "  </thead>\n",
              "  <tbody>\n",
              "    <tr>\n",
              "      <th>count</th>\n",
              "      <td>23407.000000</td>\n",
              "      <td>21895.000000</td>\n",
              "      <td>23206.000000</td>\n",
              "      <td>23407.000000</td>\n",
              "      <td>23407.000000</td>\n",
              "      <td>2.340700e+04</td>\n",
              "      <td>23407.000000</td>\n",
              "      <td>15072.000000</td>\n",
              "    </tr>\n",
              "    <tr>\n",
              "      <th>mean</th>\n",
              "      <td>4.126073</td>\n",
              "      <td>1.707422</td>\n",
              "      <td>2.552960</td>\n",
              "      <td>715.265006</td>\n",
              "      <td>5.288204</td>\n",
              "      <td>9.237197e+04</td>\n",
              "      <td>14.074251</td>\n",
              "      <td>4.588889</td>\n",
              "    </tr>\n",
              "    <tr>\n",
              "      <th>std</th>\n",
              "      <td>2.482141</td>\n",
              "      <td>1.133174</td>\n",
              "      <td>2.288561</td>\n",
              "      <td>4949.083983</td>\n",
              "      <td>20.853193</td>\n",
              "      <td>1.403644e+07</td>\n",
              "      <td>33.256738</td>\n",
              "      <td>0.942637</td>\n",
              "    </tr>\n",
              "    <tr>\n",
              "      <th>min</th>\n",
              "      <td>1.000000</td>\n",
              "      <td>1.000000</td>\n",
              "      <td>0.000000</td>\n",
              "      <td>33.000000</td>\n",
              "      <td>1.000000</td>\n",
              "      <td>1.000000e+00</td>\n",
              "      <td>0.000000</td>\n",
              "      <td>0.000000</td>\n",
              "    </tr>\n",
              "    <tr>\n",
              "      <th>25%</th>\n",
              "      <td>2.000000</td>\n",
              "      <td>1.000000</td>\n",
              "      <td>1.000000</td>\n",
              "      <td>150.000000</td>\n",
              "      <td>1.000000</td>\n",
              "      <td>3.100000e+01</td>\n",
              "      <td>0.000000</td>\n",
              "      <td>4.650000</td>\n",
              "    </tr>\n",
              "    <tr>\n",
              "      <th>50%</th>\n",
              "      <td>4.000000</td>\n",
              "      <td>1.000000</td>\n",
              "      <td>2.000000</td>\n",
              "      <td>270.000000</td>\n",
              "      <td>2.000000</td>\n",
              "      <td>1.124000e+03</td>\n",
              "      <td>2.000000</td>\n",
              "      <td>4.880000</td>\n",
              "    </tr>\n",
              "    <tr>\n",
              "      <th>75%</th>\n",
              "      <td>5.000000</td>\n",
              "      <td>2.000000</td>\n",
              "      <td>3.000000</td>\n",
              "      <td>550.000000</td>\n",
              "      <td>4.000000</td>\n",
              "      <td>1.125000e+03</td>\n",
              "      <td>11.000000</td>\n",
              "      <td>5.000000</td>\n",
              "    </tr>\n",
              "    <tr>\n",
              "      <th>max</th>\n",
              "      <td>16.000000</td>\n",
              "      <td>47.000000</td>\n",
              "      <td>91.000000</td>\n",
              "      <td>621850.000000</td>\n",
              "      <td>1000.000000</td>\n",
              "      <td>2.147484e+09</td>\n",
              "      <td>486.000000</td>\n",
              "      <td>5.000000</td>\n",
              "    </tr>\n",
              "  </tbody>\n",
              "</table>\n",
              "</div>"
            ],
            "text/plain": [
              "       numero_hospedes       quartos  ...  numero_avaliaçoes  pontuacao_avaliacoes\n",
              "count     23407.000000  21895.000000  ...       23407.000000          15072.000000\n",
              "mean          4.126073      1.707422  ...          14.074251              4.588889\n",
              "std           2.482141      1.133174  ...          33.256738              0.942637\n",
              "min           1.000000      1.000000  ...           0.000000              0.000000\n",
              "25%           2.000000      1.000000  ...           0.000000              4.650000\n",
              "50%           4.000000      1.000000  ...           2.000000              4.880000\n",
              "75%           5.000000      2.000000  ...          11.000000              5.000000\n",
              "max          16.000000     47.000000  ...         486.000000              5.000000\n",
              "\n",
              "[8 rows x 8 columns]"
            ]
          },
          "metadata": {},
          "execution_count": 66
        }
      ]
    },
    {
      "cell_type": "code",
      "metadata": {
        "id": "OdpKi-MAo6yY",
        "colab": {
          "base_uri": "https://localhost:8080/",
          "height": 134
        },
        "outputId": "c0bdb4cb-8661-44c9-c732-f792e53a11b7"
      },
      "source": [
        "dflistings.loc[dflistings.preco == 621850.0 ]"
      ],
      "execution_count": 67,
      "outputs": [
        {
          "output_type": "execute_result",
          "data": {
            "text/html": [
              "<div>\n",
              "<style scoped>\n",
              "    .dataframe tbody tr th:only-of-type {\n",
              "        vertical-align: middle;\n",
              "    }\n",
              "\n",
              "    .dataframe tbody tr th {\n",
              "        vertical-align: top;\n",
              "    }\n",
              "\n",
              "    .dataframe thead th {\n",
              "        text-align: right;\n",
              "    }\n",
              "</style>\n",
              "<table border=\"1\" class=\"dataframe\">\n",
              "  <thead>\n",
              "    <tr style=\"text-align: right;\">\n",
              "      <th></th>\n",
              "      <th>anfitriao_id</th>\n",
              "      <th>anf_data_cadastro</th>\n",
              "      <th>id_anuncio</th>\n",
              "      <th>nome_anuncio</th>\n",
              "      <th>bairro</th>\n",
              "      <th>tipo_propriedade</th>\n",
              "      <th>tipo_acomodacao</th>\n",
              "      <th>numero_hospedes</th>\n",
              "      <th>quartos</th>\n",
              "      <th>camas</th>\n",
              "      <th>preco</th>\n",
              "      <th>min_noites</th>\n",
              "      <th>max_noites</th>\n",
              "      <th>disponivel</th>\n",
              "      <th>numero_avaliaçoes</th>\n",
              "      <th>pontuacao_avaliacoes</th>\n",
              "      <th>confirmacao_instantanea</th>\n",
              "    </tr>\n",
              "  </thead>\n",
              "  <tbody>\n",
              "    <tr>\n",
              "      <th>7172</th>\n",
              "      <td>82046629</td>\n",
              "      <td>2016-07-06</td>\n",
              "      <td>13879989</td>\n",
              "      <td>Temporary rentals for Brazilian Cup.</td>\n",
              "      <td>São Cristóvão</td>\n",
              "      <td>Shared room in residential home</td>\n",
              "      <td>Shared room</td>\n",
              "      <td>5</td>\n",
              "      <td>1.0</td>\n",
              "      <td>4.0</td>\n",
              "      <td>621850.0</td>\n",
              "      <td>6</td>\n",
              "      <td>8</td>\n",
              "      <td>t</td>\n",
              "      <td>0</td>\n",
              "      <td>NaN</td>\n",
              "      <td>t</td>\n",
              "    </tr>\n",
              "  </tbody>\n",
              "</table>\n",
              "</div>"
            ],
            "text/plain": [
              "     anfitriao_id  ... confirmacao_instantanea\n",
              "7172     82046629  ...                       t\n",
              "\n",
              "[1 rows x 17 columns]"
            ]
          },
          "metadata": {},
          "execution_count": 67
        }
      ]
    },
    {
      "cell_type": "markdown",
      "metadata": {
        "id": "zFuqUHsbt2Hy"
      },
      "source": [
        "##### Levantamento de quantidade minima de noites por anuncio"
      ]
    },
    {
      "cell_type": "code",
      "metadata": {
        "colab": {
          "base_uri": "https://localhost:8080/"
        },
        "id": "O4eOOXmq0gSi",
        "outputId": "8e75136f-052e-4bdd-82a2-e3ecce0056a7"
      },
      "source": [
        "# Levantamento de quantidade minima de noites por anuncio\n",
        "dflistings.groupby('min_noites')['id_anuncio'].count().sort_values(ascending=False)"
      ],
      "execution_count": 68,
      "outputs": [
        {
          "output_type": "execute_result",
          "data": {
            "text/plain": [
              "min_noites\n",
              "1       6025\n",
              "2       5804\n",
              "3       4832\n",
              "5       1786\n",
              "4       1746\n",
              "        ... \n",
              "78         1\n",
              "52         1\n",
              "50         1\n",
              "730        1\n",
              "1000       1\n",
              "Name: id_anuncio, Length: 67, dtype: int64"
            ]
          },
          "metadata": {},
          "execution_count": 68
        }
      ]
    },
    {
      "cell_type": "code",
      "metadata": {
        "colab": {
          "base_uri": "https://localhost:8080/",
          "height": 300
        },
        "id": "OEOrYl_QT-nM",
        "outputId": "c1c8d695-e3fd-4fac-9a16-4fdea1350208"
      },
      "source": [
        "df_min_noites = dflistings.groupby('min_noites')['id_anuncio'].count().sort_values(ascending=False)\n",
        "df_min_noites[:20].plot.bar()"
      ],
      "execution_count": 69,
      "outputs": [
        {
          "output_type": "execute_result",
          "data": {
            "text/plain": [
              "<matplotlib.axes._subplots.AxesSubplot at 0x7fe8dd4172d0>"
            ]
          },
          "metadata": {},
          "execution_count": 69
        },
        {
          "output_type": "display_data",
          "data": {
            "image/png": "[encoded data removed]",
            "text/plain": [
              "<Figure size 432x288 with 1 Axes>"
            ]
          },
          "metadata": {}
        }
      ]
    },
    {
      "cell_type": "code",
      "metadata": {
        "colab": {
          "base_uri": "https://localhost:8080/",
          "height": 134
        },
        "id": "wqeBvqCN0rvo",
        "outputId": "cdc8f69e-f4c1-493c-97bd-5cc881e2da38"
      },
      "source": [
        "dflistings.loc[dflistings.min_noites == 1000 ]"
      ],
      "execution_count": 70,
      "outputs": [
        {
          "output_type": "execute_result",
          "data": {
            "text/html": [
              "<div>\n",
              "<style scoped>\n",
              "    .dataframe tbody tr th:only-of-type {\n",
              "        vertical-align: middle;\n",
              "    }\n",
              "\n",
              "    .dataframe tbody tr th {\n",
              "        vertical-align: top;\n",
              "    }\n",
              "\n",
              "    .dataframe thead th {\n",
              "        text-align: right;\n",
              "    }\n",
              "</style>\n",
              "<table border=\"1\" class=\"dataframe\">\n",
              "  <thead>\n",
              "    <tr style=\"text-align: right;\">\n",
              "      <th></th>\n",
              "      <th>anfitriao_id</th>\n",
              "      <th>anf_data_cadastro</th>\n",
              "      <th>id_anuncio</th>\n",
              "      <th>nome_anuncio</th>\n",
              "      <th>bairro</th>\n",
              "      <th>tipo_propriedade</th>\n",
              "      <th>tipo_acomodacao</th>\n",
              "      <th>numero_hospedes</th>\n",
              "      <th>quartos</th>\n",
              "      <th>camas</th>\n",
              "      <th>preco</th>\n",
              "      <th>min_noites</th>\n",
              "      <th>max_noites</th>\n",
              "      <th>disponivel</th>\n",
              "      <th>numero_avaliaçoes</th>\n",
              "      <th>pontuacao_avaliacoes</th>\n",
              "      <th>confirmacao_instantanea</th>\n",
              "    </tr>\n",
              "  </thead>\n",
              "  <tbody>\n",
              "    <tr>\n",
              "      <th>18480</th>\n",
              "      <td>289700318</td>\n",
              "      <td>2019-08-27</td>\n",
              "      <td>43424121</td>\n",
              "      <td>Linda , cobertura no Méier</td>\n",
              "      <td>Cachambi</td>\n",
              "      <td>Private room in rental unit</td>\n",
              "      <td>Private room</td>\n",
              "      <td>6</td>\n",
              "      <td>3.0</td>\n",
              "      <td>6.0</td>\n",
              "      <td>24415.0</td>\n",
              "      <td>1000</td>\n",
              "      <td>1125</td>\n",
              "      <td>t</td>\n",
              "      <td>0</td>\n",
              "      <td>NaN</td>\n",
              "      <td>f</td>\n",
              "    </tr>\n",
              "  </tbody>\n",
              "</table>\n",
              "</div>"
            ],
            "text/plain": [
              "      anfitriao_id  ... confirmacao_instantanea\n",
              "18480    289700318  ...                       f\n",
              "\n",
              "[1 rows x 17 columns]"
            ]
          },
          "metadata": {},
          "execution_count": 70
        }
      ]
    },
    {
      "cell_type": "markdown",
      "metadata": {
        "id": "Ve5llEk0Vhjv"
      },
      "source": [
        "##### Levantamento de quantidade maxima de noites por anuncio"
      ]
    },
    {
      "cell_type": "code",
      "metadata": {
        "colab": {
          "base_uri": "https://localhost:8080/"
        },
        "id": "D5ehaF311JC5",
        "outputId": "e887cc55-c2b3-4032-88d4-7c636b701d12"
      },
      "source": [
        "# Levantamento de quantidade maxima de noites por anuncio\n",
        "dflistings.groupby('max_noites')['id_anuncio'].count().sort_values(ascending=False)"
      ],
      "execution_count": 71,
      "outputs": [
        {
          "output_type": "execute_result",
          "data": {
            "text/plain": [
              "max_noites\n",
              "1125    11687\n",
              "30       2421\n",
              "365      1646\n",
              "90       1464\n",
              "15        700\n",
              "        ...  \n",
              "355         1\n",
              "358         1\n",
              "364         1\n",
              "368         1\n",
              "195         1\n",
              "Name: id_anuncio, Length: 201, dtype: int64"
            ]
          },
          "metadata": {},
          "execution_count": 71
        }
      ]
    },
    {
      "cell_type": "code",
      "metadata": {
        "colab": {
          "base_uri": "https://localhost:8080/",
          "height": 305
        },
        "id": "O3w-PcrbZYy7",
        "outputId": "886364fe-439f-40f7-db1c-35627a95a89a"
      },
      "source": [
        "df_max_noites = dflistings.groupby('max_noites')['id_anuncio'].count().sort_values(ascending=False)\n",
        "df_max_noites[:20].plot.bar()"
      ],
      "execution_count": 72,
      "outputs": [
        {
          "output_type": "execute_result",
          "data": {
            "text/plain": [
              "<matplotlib.axes._subplots.AxesSubplot at 0x7fe8dd525a10>"
            ]
          },
          "metadata": {},
          "execution_count": 72
        },
        {
          "output_type": "display_data",
          "data": {
            "image/png": "[encoded data removed]",
            "text/plain": [
              "<Figure size 432x288 with 1 Axes>"
            ]
          },
          "metadata": {}
        }
      ]
    },
    {
      "cell_type": "markdown",
      "metadata": {
        "id": "KH76qJ52Y41C"
      },
      "source": [
        "##### Levantamento de disponibilidade por anuncio"
      ]
    },
    {
      "cell_type": "code",
      "metadata": {
        "colab": {
          "base_uri": "https://localhost:8080/"
        },
        "id": "fPcGt4B92k-v",
        "outputId": "c459db78-57b4-4a4b-ca05-67ca7c0490df"
      },
      "source": [
        "# Levantamento de disponibilidade por anuncio\n",
        "dflistings.groupby('disponivel')['id_anuncio'].count().sort_values(ascending=False)"
      ],
      "execution_count": 73,
      "outputs": [
        {
          "output_type": "execute_result",
          "data": {
            "text/plain": [
              "disponivel\n",
              "t    23378\n",
              "f       36\n",
              "Name: id_anuncio, dtype: int64"
            ]
          },
          "metadata": {},
          "execution_count": 73
        }
      ]
    },
    {
      "cell_type": "code",
      "metadata": {
        "colab": {
          "base_uri": "https://localhost:8080/",
          "height": 265
        },
        "id": "2P6LRVcfY_WS",
        "outputId": "ef7296d9-b974-4dfa-dde3-a03c12b7334b"
      },
      "source": [
        "dflistings.groupby('disponivel')['id_anuncio'].count().sort_values(ascending=False).plot.pie()"
      ],
      "execution_count": 74,
      "outputs": [
        {
          "output_type": "execute_result",
          "data": {
            "text/plain": [
              "<matplotlib.axes._subplots.AxesSubplot at 0x7fe8dce6a6d0>"
            ]
          },
          "metadata": {},
          "execution_count": 74
        },
        {
          "output_type": "display_data",
          "data": {
            "image/png": "[encoded data removed]",
            "text/plain": [
              "<Figure size 432x288 with 1 Axes>"
            ]
          },
          "metadata": {}
        }
      ]
    },
    {
      "cell_type": "markdown",
      "metadata": {
        "id": "O_In3VTzZq1E"
      },
      "source": [
        "##### Levantamento de numero_avaliaçoes por anuncio"
      ]
    },
    {
      "cell_type": "code",
      "metadata": {
        "colab": {
          "base_uri": "https://localhost:8080/"
        },
        "id": "EGgQTcTb3KuO",
        "outputId": "2923ee2a-2c58-4543-97d0-2d4351d8e187"
      },
      "source": [
        "# Levantamento de numero_avaliaçoes por anuncio\n",
        "dflistings.groupby('numero_avaliaçoes')['id_anuncio'].count().sort_values(ascending=False)\t"
      ],
      "execution_count": 75,
      "outputs": [
        {
          "output_type": "execute_result",
          "data": {
            "text/plain": [
              "numero_avaliaçoes\n",
              "0      8341\n",
              "1      2783\n",
              "2      1611\n",
              "3      1093\n",
              "4       880\n",
              "       ... \n",
              "266       1\n",
              "268       1\n",
              "270       1\n",
              "271       1\n",
              "486       1\n",
              "Name: id_anuncio, Length: 286, dtype: int64"
            ]
          },
          "metadata": {},
          "execution_count": 75
        }
      ]
    },
    {
      "cell_type": "code",
      "metadata": {
        "colab": {
          "base_uri": "https://localhost:8080/",
          "height": 294
        },
        "id": "860QgtsyZ3HI",
        "outputId": "f5856adb-c705-49cb-a245-e22a2a25c754"
      },
      "source": [
        "df_min_noites = dflistings.groupby('numero_avaliaçoes')['id_anuncio'].count().sort_values(ascending=False)\n",
        "df_min_noites[:30].plot.bar()"
      ],
      "execution_count": 76,
      "outputs": [
        {
          "output_type": "execute_result",
          "data": {
            "text/plain": [
              "<matplotlib.axes._subplots.AxesSubplot at 0x7fe8dce3c750>"
            ]
          },
          "metadata": {},
          "execution_count": 76
        },
        {
          "output_type": "display_data",
          "data": {
            "image/png": "[encoded data removed]",
            "text/plain": [
              "<Figure size 432x288 with 1 Axes>"
            ]
          },
          "metadata": {}
        }
      ]
    },
    {
      "cell_type": "code",
      "metadata": {
        "colab": {
          "base_uri": "https://localhost:8080/",
          "height": 134
        },
        "id": "N_xmqjDA3nmq",
        "outputId": "f95519fb-3111-4283-8555-26e197cb4ef7"
      },
      "source": [
        "dflistings.loc[dflistings.numero_avaliaçoes == 486 ]"
      ],
      "execution_count": 77,
      "outputs": [
        {
          "output_type": "execute_result",
          "data": {
            "text/html": [
              "<div>\n",
              "<style scoped>\n",
              "    .dataframe tbody tr th:only-of-type {\n",
              "        vertical-align: middle;\n",
              "    }\n",
              "\n",
              "    .dataframe tbody tr th {\n",
              "        vertical-align: top;\n",
              "    }\n",
              "\n",
              "    .dataframe thead th {\n",
              "        text-align: right;\n",
              "    }\n",
              "</style>\n",
              "<table border=\"1\" class=\"dataframe\">\n",
              "  <thead>\n",
              "    <tr style=\"text-align: right;\">\n",
              "      <th></th>\n",
              "      <th>anfitriao_id</th>\n",
              "      <th>anf_data_cadastro</th>\n",
              "      <th>id_anuncio</th>\n",
              "      <th>nome_anuncio</th>\n",
              "      <th>bairro</th>\n",
              "      <th>tipo_propriedade</th>\n",
              "      <th>tipo_acomodacao</th>\n",
              "      <th>numero_hospedes</th>\n",
              "      <th>quartos</th>\n",
              "      <th>camas</th>\n",
              "      <th>preco</th>\n",
              "      <th>min_noites</th>\n",
              "      <th>max_noites</th>\n",
              "      <th>disponivel</th>\n",
              "      <th>numero_avaliaçoes</th>\n",
              "      <th>pontuacao_avaliacoes</th>\n",
              "      <th>confirmacao_instantanea</th>\n",
              "    </tr>\n",
              "  </thead>\n",
              "  <tbody>\n",
              "    <tr>\n",
              "      <th>290</th>\n",
              "      <td>2444956</td>\n",
              "      <td>2012-05-23</td>\n",
              "      <td>494903</td>\n",
              "      <td>CASABLANCA 1 STUNNING BEACHFRONT</td>\n",
              "      <td>Vidigal</td>\n",
              "      <td>Tiny house</td>\n",
              "      <td>Entire home/apt</td>\n",
              "      <td>2</td>\n",
              "      <td>1.0</td>\n",
              "      <td>2.0</td>\n",
              "      <td>240.0</td>\n",
              "      <td>2</td>\n",
              "      <td>180</td>\n",
              "      <td>t</td>\n",
              "      <td>486</td>\n",
              "      <td>4.87</td>\n",
              "      <td>t</td>\n",
              "    </tr>\n",
              "  </tbody>\n",
              "</table>\n",
              "</div>"
            ],
            "text/plain": [
              "    anfitriao_id  ... confirmacao_instantanea\n",
              "290      2444956  ...                       t\n",
              "\n",
              "[1 rows x 17 columns]"
            ]
          },
          "metadata": {},
          "execution_count": 77
        }
      ]
    },
    {
      "cell_type": "markdown",
      "metadata": {
        "id": "kVM7m1Oqajsx"
      },
      "source": [
        "##### Levantamento de pontuação das avaliaçoes por anuncio"
      ]
    },
    {
      "cell_type": "code",
      "metadata": {
        "colab": {
          "base_uri": "https://localhost:8080/"
        },
        "id": "AnYj2UJm5RbF",
        "outputId": "ea5d0268-2738-4fb9-c869-c0776094d55a"
      },
      "source": [
        "# Levantamento de pontuação das avaliaçoes por anuncio\n",
        "dflistings.groupby('pontuacao_avaliacoes')['id_anuncio'].count().sort_values(ascending=False)\t"
      ],
      "execution_count": 78,
      "outputs": [
        {
          "output_type": "execute_result",
          "data": {
            "text/plain": [
              "pontuacao_avaliacoes\n",
              "5.00    5722\n",
              "4.00     564\n",
              "4.50     551\n",
              "4.67     455\n",
              "0.00     453\n",
              "        ... \n",
              "3.43       1\n",
              "3.17       1\n",
              "3.78       1\n",
              "4.16       1\n",
              "3.91       1\n",
              "Name: id_anuncio, Length: 132, dtype: int64"
            ]
          },
          "metadata": {},
          "execution_count": 78
        }
      ]
    },
    {
      "cell_type": "code",
      "metadata": {
        "colab": {
          "base_uri": "https://localhost:8080/",
          "height": 306
        },
        "id": "iKIqnVGFW3eD",
        "outputId": "be9ebd14-9d72-4646-a739-2b48558935a1"
      },
      "source": [
        "df_pont_ava = dflistings.groupby('pontuacao_avaliacoes')['id_anuncio'].count().sort_values(ascending=False)\n",
        "df_pont_ava.iloc[:30].plot.bar()"
      ],
      "execution_count": 79,
      "outputs": [
        {
          "output_type": "execute_result",
          "data": {
            "text/plain": [
              "<matplotlib.axes._subplots.AxesSubplot at 0x7fe8dcd28650>"
            ]
          },
          "metadata": {},
          "execution_count": 79
        },
        {
          "output_type": "display_data",
          "data": {
            "image/png": "[encoded data removed]",
            "text/plain": [
              "<Figure size 432x288 with 1 Axes>"
            ]
          },
          "metadata": {}
        }
      ]
    },
    {
      "cell_type": "code",
      "metadata": {
        "colab": {
          "base_uri": "https://localhost:8080/",
          "height": 265
        },
        "id": "H2NyaJuu6Bys",
        "outputId": "371d0bce-eb3b-4857-f43b-4e96c030728a"
      },
      "source": [
        "# Levantamento de confirmacao_instantanea por anuncio\n",
        "df.groupby('confirmacao_instantanea')['id_anuncio'].count().plot.pie()\t"
      ],
      "execution_count": 80,
      "outputs": [
        {
          "output_type": "execute_result",
          "data": {
            "text/plain": [
              "<matplotlib.axes._subplots.AxesSubplot at 0x7fe8dcc31290>"
            ]
          },
          "metadata": {},
          "execution_count": 80
        },
        {
          "output_type": "display_data",
          "data": {
            "image/png": "[encoded data removed]",
            "text/plain": [
              "<Figure size 432x288 with 1 Axes>"
            ]
          },
          "metadata": {}
        }
      ]
    },
    {
      "cell_type": "markdown",
      "metadata": {
        "id": "ucDcy9XEPSWp"
      },
      "source": [
        "#### Fazendo alguns filtros para entender os dados de anfitriões"
      ]
    },
    {
      "cell_type": "code",
      "metadata": {
        "colab": {
          "base_uri": "https://localhost:8080/",
          "height": 131
        },
        "id": "JkD2r15eUQO8",
        "outputId": "211bc621-e58d-4dc5-c063-793967626bd7"
      },
      "source": [
        "dfhosts.head(2)"
      ],
      "execution_count": 81,
      "outputs": [
        {
          "output_type": "execute_result",
          "data": {
            "text/html": [
              "<div>\n",
              "<style scoped>\n",
              "    .dataframe tbody tr th:only-of-type {\n",
              "        vertical-align: middle;\n",
              "    }\n",
              "\n",
              "    .dataframe tbody tr th {\n",
              "        vertical-align: top;\n",
              "    }\n",
              "\n",
              "    .dataframe thead th {\n",
              "        text-align: right;\n",
              "    }\n",
              "</style>\n",
              "<table border=\"1\" class=\"dataframe\">\n",
              "  <thead>\n",
              "    <tr style=\"text-align: right;\">\n",
              "      <th></th>\n",
              "      <th>anfitriao_id</th>\n",
              "      <th>anfitriao_nome</th>\n",
              "      <th>anf_data_cadastro</th>\n",
              "      <th>anf_tempo_resposta</th>\n",
              "      <th>anf_taxa_resposta</th>\n",
              "      <th>anf_taxa_aceitacao</th>\n",
              "      <th>super_anfitriao</th>\n",
              "      <th>anf_bairro</th>\n",
              "      <th>anf_num_total_anuncios</th>\n",
              "      <th>anf_foto_perfil</th>\n",
              "      <th>anf_identidade_verificada</th>\n",
              "    </tr>\n",
              "  </thead>\n",
              "  <tbody>\n",
              "    <tr>\n",
              "      <th>0</th>\n",
              "      <td>68997</td>\n",
              "      <td>Matthias</td>\n",
              "      <td>2010-01-08</td>\n",
              "      <td>within an hour</td>\n",
              "      <td>100%</td>\n",
              "      <td>98%</td>\n",
              "      <td>f</td>\n",
              "      <td>Copacabana</td>\n",
              "      <td>2.0</td>\n",
              "      <td>t</td>\n",
              "      <td>t</td>\n",
              "    </tr>\n",
              "    <tr>\n",
              "      <th>1</th>\n",
              "      <td>99249</td>\n",
              "      <td>Goya</td>\n",
              "      <td>2010-03-26</td>\n",
              "      <td>within a day</td>\n",
              "      <td>50%</td>\n",
              "      <td>NaN</td>\n",
              "      <td>f</td>\n",
              "      <td>Ipanema</td>\n",
              "      <td>0.0</td>\n",
              "      <td>t</td>\n",
              "      <td>t</td>\n",
              "    </tr>\n",
              "  </tbody>\n",
              "</table>\n",
              "</div>"
            ],
            "text/plain": [
              "  anfitriao_id anfitriao_nome  ... anf_foto_perfil anf_identidade_verificada\n",
              "0        68997       Matthias  ...               t                         t\n",
              "1        99249           Goya  ...               t                         t\n",
              "\n",
              "[2 rows x 11 columns]"
            ]
          },
          "metadata": {},
          "execution_count": 81
        }
      ]
    },
    {
      "cell_type": "markdown",
      "metadata": {
        "id": "ZGENKNbjcyn6"
      },
      "source": [
        "##### Levantamento de Cadastro de Anfitriao por Ano"
      ]
    },
    {
      "cell_type": "code",
      "metadata": {
        "id": "OnxK5Q4t9dPx",
        "colab": {
          "base_uri": "https://localhost:8080/"
        },
        "outputId": "f6c23498-c4c5-4bcb-e879-91998a83f8be"
      },
      "source": [
        "#df[ocorrencia_dia.dt.year]\n",
        "dfhosts.groupby(dfhosts['anf_data_cadastro'].dt.year)['anfitriao_id'].count()"
      ],
      "execution_count": 82,
      "outputs": [
        {
          "output_type": "execute_result",
          "data": {
            "text/plain": [
              "anf_data_cadastro\n",
              "2008.0       1\n",
              "2009.0       6\n",
              "2010.0      43\n",
              "2011.0     347\n",
              "2012.0     605\n",
              "2013.0    1110\n",
              "2014.0    2395\n",
              "2015.0    1932\n",
              "2016.0    3793\n",
              "2017.0    1263\n",
              "2018.0    1191\n",
              "2019.0    1407\n",
              "2020.0     848\n",
              "2021.0     431\n",
              "Name: anfitriao_id, dtype: int64"
            ]
          },
          "metadata": {},
          "execution_count": 82
        }
      ]
    },
    {
      "cell_type": "code",
      "metadata": {
        "colab": {
          "base_uri": "https://localhost:8080/",
          "height": 314
        },
        "id": "SImLErLI9LQp",
        "outputId": "1304c78c-96e1-4967-ebd8-3dc92175fde9"
      },
      "source": [
        "#df[ocorrencia_dia.dt.year]\n",
        "dfhosts.groupby(dfhosts['anf_data_cadastro'].dt.year)['anfitriao_id'].count().plot.bar()"
      ],
      "execution_count": 83,
      "outputs": [
        {
          "output_type": "execute_result",
          "data": {
            "text/plain": [
              "<matplotlib.axes._subplots.AxesSubplot at 0x7fe8dcc06390>"
            ]
          },
          "metadata": {},
          "execution_count": 83
        },
        {
          "output_type": "display_data",
          "data": {
            "image/png": "[encoded data removed]",
            "text/plain": [
              "<Figure size 432x288 with 1 Axes>"
            ]
          },
          "metadata": {}
        }
      ]
    },
    {
      "cell_type": "markdown",
      "metadata": {
        "id": "SEHYU9mSc4NX"
      },
      "source": [
        "##### Levantamento de anuncios por anfitrião"
      ]
    },
    {
      "cell_type": "code",
      "metadata": {
        "id": "18cMVC6JP4fR",
        "colab": {
          "base_uri": "https://localhost:8080/",
          "height": 551
        },
        "outputId": "9d7b51dc-8412-4aa3-e959-36405dca554b"
      },
      "source": [
        "# Levantamento de anuncios por anfitrião\n",
        "filtro = dfhosts.anf_num_total_anuncios >= 100\n",
        "dfhosts.loc[filtro]"
      ],
      "execution_count": 84,
      "outputs": [
        {
          "output_type": "execute_result",
          "data": {
            "text/html": [
              "<div>\n",
              "<style scoped>\n",
              "    .dataframe tbody tr th:only-of-type {\n",
              "        vertical-align: middle;\n",
              "    }\n",
              "\n",
              "    .dataframe tbody tr th {\n",
              "        vertical-align: top;\n",
              "    }\n",
              "\n",
              "    .dataframe thead th {\n",
              "        text-align: right;\n",
              "    }\n",
              "</style>\n",
              "<table border=\"1\" class=\"dataframe\">\n",
              "  <thead>\n",
              "    <tr style=\"text-align: right;\">\n",
              "      <th></th>\n",
              "      <th>anfitriao_id</th>\n",
              "      <th>anfitriao_nome</th>\n",
              "      <th>anf_data_cadastro</th>\n",
              "      <th>anf_tempo_resposta</th>\n",
              "      <th>anf_taxa_resposta</th>\n",
              "      <th>anf_taxa_aceitacao</th>\n",
              "      <th>super_anfitriao</th>\n",
              "      <th>anf_bairro</th>\n",
              "      <th>anf_num_total_anuncios</th>\n",
              "      <th>anf_foto_perfil</th>\n",
              "      <th>anf_identidade_verificada</th>\n",
              "    </tr>\n",
              "  </thead>\n",
              "  <tbody>\n",
              "    <tr>\n",
              "      <th>151</th>\n",
              "      <td>1381764</td>\n",
              "      <td>Cavi Rio - Fabio</td>\n",
              "      <td>2011-11-07</td>\n",
              "      <td>within an hour</td>\n",
              "      <td>100%</td>\n",
              "      <td>99%</td>\n",
              "      <td>f</td>\n",
              "      <td>Copacabana</td>\n",
              "      <td>100.0</td>\n",
              "      <td>t</td>\n",
              "      <td>t</td>\n",
              "    </tr>\n",
              "    <tr>\n",
              "      <th>2936</th>\n",
              "      <td>8975746</td>\n",
              "      <td>Maria Ivani</td>\n",
              "      <td>2013-09-21</td>\n",
              "      <td>within a day</td>\n",
              "      <td>77%</td>\n",
              "      <td>49%</td>\n",
              "      <td>f</td>\n",
              "      <td>Copacabana</td>\n",
              "      <td>106.0</td>\n",
              "      <td>t</td>\n",
              "      <td>t</td>\n",
              "    </tr>\n",
              "    <tr>\n",
              "      <th>3150</th>\n",
              "      <td>22805631</td>\n",
              "      <td>Latin Exclusive</td>\n",
              "      <td>2014-10-21</td>\n",
              "      <td>within an hour</td>\n",
              "      <td>97%</td>\n",
              "      <td>50%</td>\n",
              "      <td>t</td>\n",
              "      <td>Ipanema</td>\n",
              "      <td>222.0</td>\n",
              "      <td>t</td>\n",
              "      <td>t</td>\n",
              "    </tr>\n",
              "    <tr>\n",
              "      <th>8554</th>\n",
              "      <td>66039372</td>\n",
              "      <td>Vitor &amp; Carlos</td>\n",
              "      <td>2016-04-06</td>\n",
              "      <td>NaN</td>\n",
              "      <td>NaN</td>\n",
              "      <td>NaN</td>\n",
              "      <td>f</td>\n",
              "      <td>Ipanema</td>\n",
              "      <td>108.0</td>\n",
              "      <td>t</td>\n",
              "      <td>t</td>\n",
              "    </tr>\n",
              "    <tr>\n",
              "      <th>8732</th>\n",
              "      <td>91654021</td>\n",
              "      <td>Daniel</td>\n",
              "      <td>2016-08-24</td>\n",
              "      <td>within a few hours</td>\n",
              "      <td>97%</td>\n",
              "      <td>58%</td>\n",
              "      <td>t</td>\n",
              "      <td>Ipanema</td>\n",
              "      <td>256.0</td>\n",
              "      <td>t</td>\n",
              "      <td>t</td>\n",
              "    </tr>\n",
              "    <tr>\n",
              "      <th>10482</th>\n",
              "      <td>31898183</td>\n",
              "      <td>Loic, Estelle &amp; Co</td>\n",
              "      <td>2015-04-25</td>\n",
              "      <td>within an hour</td>\n",
              "      <td>100%</td>\n",
              "      <td>80%</td>\n",
              "      <td>f</td>\n",
              "      <td>Copacabana</td>\n",
              "      <td>350.0</td>\n",
              "      <td>t</td>\n",
              "      <td>t</td>\n",
              "    </tr>\n",
              "    <tr>\n",
              "      <th>18151</th>\n",
              "      <td>266952283</td>\n",
              "      <td>Loic, Estelle &amp; Co</td>\n",
              "      <td>2019-06-07</td>\n",
              "      <td>within an hour</td>\n",
              "      <td>100%</td>\n",
              "      <td>70%</td>\n",
              "      <td>f</td>\n",
              "      <td>NaN</td>\n",
              "      <td>192.0</td>\n",
              "      <td>t</td>\n",
              "      <td>t</td>\n",
              "    </tr>\n",
              "    <tr>\n",
              "      <th>18910</th>\n",
              "      <td>135845476</td>\n",
              "      <td>Casa Do Mar</td>\n",
              "      <td>2017-06-19</td>\n",
              "      <td>within a day</td>\n",
              "      <td>76%</td>\n",
              "      <td>0%</td>\n",
              "      <td>f</td>\n",
              "      <td>NaN</td>\n",
              "      <td>148.0</td>\n",
              "      <td>t</td>\n",
              "      <td>t</td>\n",
              "    </tr>\n",
              "    <tr>\n",
              "      <th>20415</th>\n",
              "      <td>23987702</td>\n",
              "      <td>CarpediemHomes</td>\n",
              "      <td>2014-11-20</td>\n",
              "      <td>within an hour</td>\n",
              "      <td>99%</td>\n",
              "      <td>98%</td>\n",
              "      <td>f</td>\n",
              "      <td>NaN</td>\n",
              "      <td>241.0</td>\n",
              "      <td>t</td>\n",
              "      <td>t</td>\n",
              "    </tr>\n",
              "    <tr>\n",
              "      <th>21072</th>\n",
              "      <td>31968314</td>\n",
              "      <td>Housi</td>\n",
              "      <td>2015-04-26</td>\n",
              "      <td>within an hour</td>\n",
              "      <td>91%</td>\n",
              "      <td>91%</td>\n",
              "      <td>f</td>\n",
              "      <td>Vila Olímpia</td>\n",
              "      <td>589.0</td>\n",
              "      <td>t</td>\n",
              "      <td>t</td>\n",
              "    </tr>\n",
              "    <tr>\n",
              "      <th>21253</th>\n",
              "      <td>319227148</td>\n",
              "      <td>Anfitrião Prime</td>\n",
              "      <td>2019-12-20</td>\n",
              "      <td>within a few hours</td>\n",
              "      <td>95%</td>\n",
              "      <td>79%</td>\n",
              "      <td>f</td>\n",
              "      <td>NaN</td>\n",
              "      <td>320.0</td>\n",
              "      <td>t</td>\n",
              "      <td>t</td>\n",
              "    </tr>\n",
              "    <tr>\n",
              "      <th>21617</th>\n",
              "      <td>194247046</td>\n",
              "      <td>Altaf</td>\n",
              "      <td>2018-06-08</td>\n",
              "      <td>within a few hours</td>\n",
              "      <td>82%</td>\n",
              "      <td>98%</td>\n",
              "      <td>f</td>\n",
              "      <td>Punta Cancun</td>\n",
              "      <td>338.0</td>\n",
              "      <td>t</td>\n",
              "      <td>t</td>\n",
              "    </tr>\n",
              "    <tr>\n",
              "      <th>21998</th>\n",
              "      <td>173486240</td>\n",
              "      <td>Airlocando</td>\n",
              "      <td>2018-02-15</td>\n",
              "      <td>within a few hours</td>\n",
              "      <td>95%</td>\n",
              "      <td>66%</td>\n",
              "      <td>f</td>\n",
              "      <td>NaN</td>\n",
              "      <td>219.0</td>\n",
              "      <td>t</td>\n",
              "      <td>t</td>\n",
              "    </tr>\n",
              "    <tr>\n",
              "      <th>22246</th>\n",
              "      <td>166804709</td>\n",
              "      <td>Loic, Estelle &amp; Co</td>\n",
              "      <td>2018-01-09</td>\n",
              "      <td>within an hour</td>\n",
              "      <td>100%</td>\n",
              "      <td>74%</td>\n",
              "      <td>f</td>\n",
              "      <td>Najah</td>\n",
              "      <td>208.0</td>\n",
              "      <td>t</td>\n",
              "      <td>t</td>\n",
              "    </tr>\n",
              "    <tr>\n",
              "      <th>22342</th>\n",
              "      <td>166803792</td>\n",
              "      <td>Loic, Estelle &amp; Co</td>\n",
              "      <td>2018-01-09</td>\n",
              "      <td>within an hour</td>\n",
              "      <td>100%</td>\n",
              "      <td>71%</td>\n",
              "      <td>f</td>\n",
              "      <td>Cannes</td>\n",
              "      <td>181.0</td>\n",
              "      <td>t</td>\n",
              "      <td>t</td>\n",
              "    </tr>\n",
              "  </tbody>\n",
              "</table>\n",
              "</div>"
            ],
            "text/plain": [
              "      anfitriao_id  ... anf_identidade_verificada\n",
              "151        1381764  ...                         t\n",
              "2936       8975746  ...                         t\n",
              "3150      22805631  ...                         t\n",
              "8554      66039372  ...                         t\n",
              "8732      91654021  ...                         t\n",
              "10482     31898183  ...                         t\n",
              "18151    266952283  ...                         t\n",
              "18910    135845476  ...                         t\n",
              "20415     23987702  ...                         t\n",
              "21072     31968314  ...                         t\n",
              "21253    319227148  ...                         t\n",
              "21617    194247046  ...                         t\n",
              "21998    173486240  ...                         t\n",
              "22246    166804709  ...                         t\n",
              "22342    166803792  ...                         t\n",
              "\n",
              "[15 rows x 11 columns]"
            ]
          },
          "metadata": {},
          "execution_count": 84
        }
      ]
    },
    {
      "cell_type": "code",
      "metadata": {
        "colab": {
          "base_uri": "https://localhost:8080/",
          "height": 333
        },
        "id": "rcwHmEjMpVX8",
        "outputId": "8eca167d-03bd-4e04-f656-561fbe59db22"
      },
      "source": [
        "filtro = dfhosts.anf_num_total_anuncios >= 100\n",
        "dfhosts.loc[filtro].plot.bar(x='anfitriao_id', y='anf_num_total_anuncios')"
      ],
      "execution_count": 85,
      "outputs": [
        {
          "output_type": "execute_result",
          "data": {
            "text/plain": [
              "<matplotlib.axes._subplots.AxesSubplot at 0x7fe8dcb2af50>"
            ]
          },
          "metadata": {},
          "execution_count": 85
        },
        {
          "output_type": "display_data",
          "data": {
            "image/png": "[encoded data removed]",
            "text/plain": [
              "<Figure size 432x288 with 1 Axes>"
            ]
          },
          "metadata": {}
        }
      ]
    },
    {
      "cell_type": "code",
      "metadata": {
        "colab": {
          "base_uri": "https://localhost:8080/",
          "height": 100
        },
        "id": "ecOXCqx0moOw",
        "outputId": "11936b16-2141-4915-f750-75148228fa5d"
      },
      "source": [
        "dfhosts.loc[dfhosts.anfitriao_id == 31968314 ]"
      ],
      "execution_count": 86,
      "outputs": [
        {
          "output_type": "execute_result",
          "data": {
            "text/html": [
              "<div>\n",
              "<style scoped>\n",
              "    .dataframe tbody tr th:only-of-type {\n",
              "        vertical-align: middle;\n",
              "    }\n",
              "\n",
              "    .dataframe tbody tr th {\n",
              "        vertical-align: top;\n",
              "    }\n",
              "\n",
              "    .dataframe thead th {\n",
              "        text-align: right;\n",
              "    }\n",
              "</style>\n",
              "<table border=\"1\" class=\"dataframe\">\n",
              "  <thead>\n",
              "    <tr style=\"text-align: right;\">\n",
              "      <th></th>\n",
              "      <th>anfitriao_id</th>\n",
              "      <th>anfitriao_nome</th>\n",
              "      <th>anf_data_cadastro</th>\n",
              "      <th>anf_tempo_resposta</th>\n",
              "      <th>anf_taxa_resposta</th>\n",
              "      <th>anf_taxa_aceitacao</th>\n",
              "      <th>super_anfitriao</th>\n",
              "      <th>anf_bairro</th>\n",
              "      <th>anf_num_total_anuncios</th>\n",
              "      <th>anf_foto_perfil</th>\n",
              "      <th>anf_identidade_verificada</th>\n",
              "    </tr>\n",
              "  </thead>\n",
              "  <tbody>\n",
              "    <tr>\n",
              "      <th>21072</th>\n",
              "      <td>31968314</td>\n",
              "      <td>Housi</td>\n",
              "      <td>2015-04-26</td>\n",
              "      <td>within an hour</td>\n",
              "      <td>91%</td>\n",
              "      <td>91%</td>\n",
              "      <td>f</td>\n",
              "      <td>Vila Olímpia</td>\n",
              "      <td>589.0</td>\n",
              "      <td>t</td>\n",
              "      <td>t</td>\n",
              "    </tr>\n",
              "  </tbody>\n",
              "</table>\n",
              "</div>"
            ],
            "text/plain": [
              "      anfitriao_id anfitriao_nome  ... anf_foto_perfil anf_identidade_verificada\n",
              "21072     31968314          Housi  ...               t                         t\n",
              "\n",
              "[1 rows x 11 columns]"
            ]
          },
          "metadata": {},
          "execution_count": 86
        }
      ]
    },
    {
      "cell_type": "markdown",
      "metadata": {
        "id": "WKQoXgF_rnV2"
      },
      "source": [
        "##### Levantamento de tempo de resposta por anfitrião"
      ]
    },
    {
      "cell_type": "code",
      "metadata": {
        "colab": {
          "base_uri": "https://localhost:8080/"
        },
        "id": "m-pTFmTRrxP4",
        "outputId": "09f2b206-2e2f-4e8a-b37e-a689898344ce"
      },
      "source": [
        "# Levantamento de tempo de resposta por anfitrião\n",
        "df.groupby('anf_tempo_resposta')['anfitriao_id'].count().sort_values(ascending=False)"
      ],
      "execution_count": 87,
      "outputs": [
        {
          "output_type": "execute_result",
          "data": {
            "text/plain": [
              "anf_tempo_resposta\n",
              "within an hour        6346\n",
              "within a few hours    3709\n",
              "within a day          2960\n",
              "a few days or more    2806\n",
              "Name: anfitriao_id, dtype: int64"
            ]
          },
          "metadata": {},
          "execution_count": 87
        }
      ]
    },
    {
      "cell_type": "code",
      "metadata": {
        "colab": {
          "base_uri": "https://localhost:8080/",
          "height": 367
        },
        "id": "tvILhxYvsfqO",
        "outputId": "c7b71ea9-101f-4170-f95d-0498416d63b5"
      },
      "source": [
        "df.groupby('anf_tempo_resposta')['anfitriao_id'].count().sort_values(ascending=False).plot.bar()"
      ],
      "execution_count": 88,
      "outputs": [
        {
          "output_type": "execute_result",
          "data": {
            "text/plain": [
              "<matplotlib.axes._subplots.AxesSubplot at 0x7fe8dcabddd0>"
            ]
          },
          "metadata": {},
          "execution_count": 88
        },
        {
          "output_type": "display_data",
          "data": {
            "image/png": "[encoded data removed]",
            "text/plain": [
              "<Figure size 432x288 with 1 Axes>"
            ]
          },
          "metadata": {}
        }
      ]
    },
    {
      "cell_type": "markdown",
      "metadata": {
        "id": "IFcomqdosvHb"
      },
      "source": [
        "##### Levantamento de taxa de resposta por anfitrião"
      ]
    },
    {
      "cell_type": "code",
      "metadata": {
        "colab": {
          "base_uri": "https://localhost:8080/"
        },
        "id": "6QZCqd_3s2x7",
        "outputId": "0931fb24-15b0-4633-c0d3-edfb8ba88302"
      },
      "source": [
        "dfhosts.groupby('anf_taxa_resposta')['anfitriao_id'].count().sort_values(ascending=False)"
      ],
      "execution_count": 89,
      "outputs": [
        {
          "output_type": "execute_result",
          "data": {
            "text/plain": [
              "anf_taxa_resposta\n",
              "100%    5102\n",
              "0%      1419\n",
              "50%      333\n",
              "90%      322\n",
              "80%      186\n",
              "        ... \n",
              "36%        1\n",
              "66%        1\n",
              "12%        1\n",
              "31%        1\n",
              "49%        1\n",
              "Name: anfitriao_id, Length: 92, dtype: int64"
            ]
          },
          "metadata": {},
          "execution_count": 89
        }
      ]
    },
    {
      "cell_type": "code",
      "metadata": {
        "colab": {
          "base_uri": "https://localhost:8080/",
          "height": 309
        },
        "id": "hdRdBgyRs6hr",
        "outputId": "05206a52-ec5e-4570-de01-b03c6b17c54c"
      },
      "source": [
        "df_taxa_resp = dfhosts.groupby('anf_taxa_resposta')['anfitriao_id'].count().sort_values(ascending=False)\n",
        "df_taxa_resp[:20].plot.bar()"
      ],
      "execution_count": 90,
      "outputs": [
        {
          "output_type": "execute_result",
          "data": {
            "text/plain": [
              "<matplotlib.axes._subplots.AxesSubplot at 0x7fe8dca40450>"
            ]
          },
          "metadata": {},
          "execution_count": 90
        },
        {
          "output_type": "display_data",
          "data": {
            "image/png": "[encoded data removed]",
            "text/plain": [
              "<Figure size 432x288 with 1 Axes>"
            ]
          },
          "metadata": {}
        }
      ]
    },
    {
      "cell_type": "markdown",
      "metadata": {
        "id": "Ll254NHqwPE5"
      },
      "source": [
        "##### Levantamento de taxa de aceitação por anfitrião"
      ]
    },
    {
      "cell_type": "code",
      "metadata": {
        "colab": {
          "base_uri": "https://localhost:8080/"
        },
        "id": "5wA18Iz5xVZC",
        "outputId": "f7384757-e3f4-4c6b-f71a-223e49f8b79d"
      },
      "source": [
        "dfhosts.groupby('anf_taxa_aceitacao')['anfitriao_id'].count().sort_values(ascending=False)"
      ],
      "execution_count": 91,
      "outputs": [
        {
          "output_type": "execute_result",
          "data": {
            "text/plain": [
              "anf_taxa_aceitacao\n",
              "100%    3322\n",
              "0%      1208\n",
              "50%      365\n",
              "67%      235\n",
              "75%      155\n",
              "        ... \n",
              "6%         2\n",
              "4%         2\n",
              "51%        1\n",
              "5%         1\n",
              "3%         1\n",
              "Name: anfitriao_id, Length: 98, dtype: int64"
            ]
          },
          "metadata": {},
          "execution_count": 91
        }
      ]
    },
    {
      "cell_type": "code",
      "metadata": {
        "colab": {
          "base_uri": "https://localhost:8080/",
          "height": 309
        },
        "id": "Tsvj7o1-waaB",
        "outputId": "e4f3f59b-eefc-4051-fae0-8023eb1286ff"
      },
      "source": [
        "df_taxa_resp = dfhosts.groupby('anf_taxa_aceitacao')['anfitriao_id'].count().sort_values(ascending=False)\n",
        "df_taxa_resp[:20].plot.bar()"
      ],
      "execution_count": 92,
      "outputs": [
        {
          "output_type": "execute_result",
          "data": {
            "text/plain": [
              "<matplotlib.axes._subplots.AxesSubplot at 0x7fe8dca5b8d0>"
            ]
          },
          "metadata": {},
          "execution_count": 92
        },
        {
          "output_type": "display_data",
          "data": {
            "image/png": "[encoded data removed]",
            "text/plain": [
              "<Figure size 432x288 with 1 Axes>"
            ]
          },
          "metadata": {}
        }
      ]
    },
    {
      "cell_type": "code",
      "metadata": {
        "colab": {
          "base_uri": "https://localhost:8080/"
        },
        "id": "jForLE58wm9w",
        "outputId": "0e571fdf-2fc3-4962-c3b0-5ad91ba39baf"
      },
      "source": [
        "dfhosts.anf_taxa_aceitacao.isnull().sum()"
      ],
      "execution_count": 93,
      "outputs": [
        {
          "output_type": "execute_result",
          "data": {
            "text/plain": [
              "7019"
            ]
          },
          "metadata": {},
          "execution_count": 93
        }
      ]
    },
    {
      "cell_type": "markdown",
      "metadata": {
        "id": "oG4b3dRCxk-5"
      },
      "source": [
        "##### Levantamento de Super Anfitrião"
      ]
    },
    {
      "cell_type": "code",
      "metadata": {
        "colab": {
          "base_uri": "https://localhost:8080/"
        },
        "id": "kyJw5S9txhnV",
        "outputId": "20a94aa5-32a2-4997-9cc1-7a1fdceb030c"
      },
      "source": [
        "dfhosts.groupby('super_anfitriao')['anfitriao_id'].count().sort_values(ascending=False)"
      ],
      "execution_count": 94,
      "outputs": [
        {
          "output_type": "execute_result",
          "data": {
            "text/plain": [
              "super_anfitriao\n",
              "f    13041\n",
              "t     2331\n",
              "Name: anfitriao_id, dtype: int64"
            ]
          },
          "metadata": {},
          "execution_count": 94
        }
      ]
    },
    {
      "cell_type": "code",
      "metadata": {
        "colab": {
          "base_uri": "https://localhost:8080/",
          "height": 265
        },
        "id": "Hx4eFuuKyBNP",
        "outputId": "5370f27f-a9cd-45b3-ea02-e49e8cc509c6"
      },
      "source": [
        "dfhosts.groupby('super_anfitriao')['anfitriao_id'].count().sort_values(ascending=False).plot.pie()"
      ],
      "execution_count": 95,
      "outputs": [
        {
          "output_type": "execute_result",
          "data": {
            "text/plain": [
              "<matplotlib.axes._subplots.AxesSubplot at 0x7fe8dc848090>"
            ]
          },
          "metadata": {},
          "execution_count": 95
        },
        {
          "output_type": "display_data",
          "data": {
            "image/png": "[encoded data removed]",
            "text/plain": [
              "<Figure size 432x288 with 1 Axes>"
            ]
          },
          "metadata": {}
        }
      ]
    },
    {
      "cell_type": "markdown",
      "metadata": {
        "id": "Qy7JYg58ygw8"
      },
      "source": [
        "##### Lavantamento de Bairro do Anfitrião"
      ]
    },
    {
      "cell_type": "code",
      "metadata": {
        "colab": {
          "base_uri": "https://localhost:8080/"
        },
        "id": "DouE4lQHyqbH",
        "outputId": "dc845d11-5b3c-4b4b-d9e9-837a7f0314b5"
      },
      "source": [
        "dfhosts.groupby('anf_bairro')['anfitriao_id'].count().sort_values(ascending=False)"
      ],
      "execution_count": 96,
      "outputs": [
        {
          "output_type": "execute_result",
          "data": {
            "text/plain": [
              "anf_bairro\n",
              "Copacabana           2171\n",
              "Barra da Tijuca       773\n",
              "Ipanema               650\n",
              "Botafogo              379\n",
              "Leblon                341\n",
              "                     ... \n",
              "Nazaré                  1\n",
              "North Miami Beach       1\n",
              "North Shore             1\n",
              "Olaria                  1\n",
              "Le Marais               1\n",
              "Name: anfitriao_id, Length: 148, dtype: int64"
            ]
          },
          "metadata": {},
          "execution_count": 96
        }
      ]
    },
    {
      "cell_type": "code",
      "metadata": {
        "colab": {
          "base_uri": "https://localhost:8080/",
          "height": 398
        },
        "id": "BD1-cC5Xy2oQ",
        "outputId": "dcaef70a-bbe6-4dcf-a46f-ef6197d8fec9"
      },
      "source": [
        "df_bairro_anf = dfhosts.groupby('anf_bairro')['anfitriao_id'].count().sort_values(ascending=False)\n",
        "df_bairro_anf[:35].plot.bar()"
      ],
      "execution_count": 97,
      "outputs": [
        {
          "output_type": "execute_result",
          "data": {
            "text/plain": [
              "<matplotlib.axes._subplots.AxesSubplot at 0x7fe8dcd366d0>"
            ]
          },
          "metadata": {},
          "execution_count": 97
        },
        {
          "output_type": "display_data",
          "data": {
            "image/png": "[encoded data removed]",
            "text/plain": [
              "<Figure size 432x288 with 1 Axes>"
            ]
          },
          "metadata": {}
        }
      ]
    },
    {
      "cell_type": "code",
      "metadata": {
        "colab": {
          "base_uri": "https://localhost:8080/"
        },
        "id": "WkZBYx0Uzaxn",
        "outputId": "62404743-76b0-4826-b721-3fc1c707b980"
      },
      "source": [
        "dfhosts.anf_bairro.isnull().sum()"
      ],
      "execution_count": 98,
      "outputs": [
        {
          "output_type": "execute_result",
          "data": {
            "text/plain": [
              "8316"
            ]
          },
          "metadata": {},
          "execution_count": 98
        }
      ]
    },
    {
      "cell_type": "markdown",
      "metadata": {
        "id": "cC8Dz8zYzyrc"
      },
      "source": [
        "##### Lavantamento de Anfitrioes com foto de Perfil"
      ]
    },
    {
      "cell_type": "code",
      "metadata": {
        "colab": {
          "base_uri": "https://localhost:8080/"
        },
        "id": "K7iB-TNj0Klz",
        "outputId": "fe3ef66c-0e94-4b88-f2f5-d0a6c06139d9"
      },
      "source": [
        "dfhosts.groupby('anf_foto_perfil')['anfitriao_id'].count().sort_values(ascending=False)"
      ],
      "execution_count": 99,
      "outputs": [
        {
          "output_type": "execute_result",
          "data": {
            "text/plain": [
              "anf_foto_perfil\n",
              "t    15267\n",
              "f      105\n",
              "Name: anfitriao_id, dtype: int64"
            ]
          },
          "metadata": {},
          "execution_count": 99
        }
      ]
    },
    {
      "cell_type": "code",
      "metadata": {
        "colab": {
          "base_uri": "https://localhost:8080/",
          "height": 279
        },
        "id": "R1KdUFAP0Zr0",
        "outputId": "cc7cd861-fb49-494d-dd8d-331a5d5a1507"
      },
      "source": [
        "dfhosts.groupby('anf_foto_perfil')['anfitriao_id'].count().sort_values(ascending=False).plot.barh()"
      ],
      "execution_count": 100,
      "outputs": [
        {
          "output_type": "execute_result",
          "data": {
            "text/plain": [
              "<matplotlib.axes._subplots.AxesSubplot at 0x7fe8dc763f50>"
            ]
          },
          "metadata": {},
          "execution_count": 100
        },
        {
          "output_type": "display_data",
          "data": {
            "image/png": "[encoded data removed]",
            "text/plain": [
              "<Figure size 432x288 with 1 Axes>"
            ]
          },
          "metadata": {}
        }
      ]
    },
    {
      "cell_type": "code",
      "metadata": {
        "id": "Tkqa4Xyh0fjD"
      },
      "source": [
        "filtro = dfhosts.anf_foto_perfil == 'f'\n",
        "df_foto_f = dfhosts[filtro]"
      ],
      "execution_count": 101,
      "outputs": []
    },
    {
      "cell_type": "code",
      "metadata": {
        "id": "bu-1QUXV1mmm"
      },
      "source": [
        "filtro = dfhosts.anf_foto_perfil == 't'\n",
        "df_foto_t = dfhosts[filtro]"
      ],
      "execution_count": 102,
      "outputs": []
    },
    {
      "cell_type": "code",
      "metadata": {
        "colab": {
          "base_uri": "https://localhost:8080/",
          "height": 439
        },
        "id": "R031CMeG0_Nx",
        "outputId": "afd526f0-d8a5-434a-fcf4-e62cc63d17b0"
      },
      "source": [
        "df_foto_f"
      ],
      "execution_count": 103,
      "outputs": [
        {
          "output_type": "execute_result",
          "data": {
            "text/html": [
              "<div>\n",
              "<style scoped>\n",
              "    .dataframe tbody tr th:only-of-type {\n",
              "        vertical-align: middle;\n",
              "    }\n",
              "\n",
              "    .dataframe tbody tr th {\n",
              "        vertical-align: top;\n",
              "    }\n",
              "\n",
              "    .dataframe thead th {\n",
              "        text-align: right;\n",
              "    }\n",
              "</style>\n",
              "<table border=\"1\" class=\"dataframe\">\n",
              "  <thead>\n",
              "    <tr style=\"text-align: right;\">\n",
              "      <th></th>\n",
              "      <th>anfitriao_id</th>\n",
              "      <th>anfitriao_nome</th>\n",
              "      <th>anf_data_cadastro</th>\n",
              "      <th>anf_tempo_resposta</th>\n",
              "      <th>anf_taxa_resposta</th>\n",
              "      <th>anf_taxa_aceitacao</th>\n",
              "      <th>super_anfitriao</th>\n",
              "      <th>anf_bairro</th>\n",
              "      <th>anf_num_total_anuncios</th>\n",
              "      <th>anf_foto_perfil</th>\n",
              "      <th>anf_identidade_verificada</th>\n",
              "    </tr>\n",
              "  </thead>\n",
              "  <tbody>\n",
              "    <tr>\n",
              "      <th>10</th>\n",
              "      <td>393296342</td>\n",
              "      <td>Alex</td>\n",
              "      <td>2021-03-19</td>\n",
              "      <td>NaN</td>\n",
              "      <td>NaN</td>\n",
              "      <td>NaN</td>\n",
              "      <td>f</td>\n",
              "      <td>NaN</td>\n",
              "      <td>2.0</td>\n",
              "      <td>f</td>\n",
              "      <td>f</td>\n",
              "    </tr>\n",
              "    <tr>\n",
              "      <th>3829</th>\n",
              "      <td>20134185</td>\n",
              "      <td>Sabrina</td>\n",
              "      <td>2014-08-17</td>\n",
              "      <td>a few days or more</td>\n",
              "      <td>0%</td>\n",
              "      <td>NaN</td>\n",
              "      <td>f</td>\n",
              "      <td>NaN</td>\n",
              "      <td>1.0</td>\n",
              "      <td>f</td>\n",
              "      <td>f</td>\n",
              "    </tr>\n",
              "    <tr>\n",
              "      <th>4526</th>\n",
              "      <td>50620948</td>\n",
              "      <td>Rafael</td>\n",
              "      <td>2015-12-06</td>\n",
              "      <td>NaN</td>\n",
              "      <td>NaN</td>\n",
              "      <td>NaN</td>\n",
              "      <td>f</td>\n",
              "      <td>NaN</td>\n",
              "      <td>1.0</td>\n",
              "      <td>f</td>\n",
              "      <td>f</td>\n",
              "    </tr>\n",
              "    <tr>\n",
              "      <th>5156</th>\n",
              "      <td>56967708</td>\n",
              "      <td>Charles</td>\n",
              "      <td>2016-02-01</td>\n",
              "      <td>NaN</td>\n",
              "      <td>NaN</td>\n",
              "      <td>NaN</td>\n",
              "      <td>f</td>\n",
              "      <td>Copacabana</td>\n",
              "      <td>1.0</td>\n",
              "      <td>f</td>\n",
              "      <td>f</td>\n",
              "    </tr>\n",
              "    <tr>\n",
              "      <th>5690</th>\n",
              "      <td>64822833</td>\n",
              "      <td>Amanda</td>\n",
              "      <td>2016-03-28</td>\n",
              "      <td>NaN</td>\n",
              "      <td>NaN</td>\n",
              "      <td>NaN</td>\n",
              "      <td>f</td>\n",
              "      <td>NaN</td>\n",
              "      <td>1.0</td>\n",
              "      <td>f</td>\n",
              "      <td>f</td>\n",
              "    </tr>\n",
              "    <tr>\n",
              "      <th>...</th>\n",
              "      <td>...</td>\n",
              "      <td>...</td>\n",
              "      <td>...</td>\n",
              "      <td>...</td>\n",
              "      <td>...</td>\n",
              "      <td>...</td>\n",
              "      <td>...</td>\n",
              "      <td>...</td>\n",
              "      <td>...</td>\n",
              "      <td>...</td>\n",
              "      <td>...</td>\n",
              "    </tr>\n",
              "    <tr>\n",
              "      <th>23098</th>\n",
              "      <td>422136195</td>\n",
              "      <td>Gustavo</td>\n",
              "      <td>2021-09-08</td>\n",
              "      <td>within a day</td>\n",
              "      <td>50%</td>\n",
              "      <td>100%</td>\n",
              "      <td>f</td>\n",
              "      <td>NaN</td>\n",
              "      <td>1.0</td>\n",
              "      <td>f</td>\n",
              "      <td>t</td>\n",
              "    </tr>\n",
              "    <tr>\n",
              "      <th>23122</th>\n",
              "      <td>422336093</td>\n",
              "      <td>Kátia</td>\n",
              "      <td>2021-09-09</td>\n",
              "      <td>a few days or more</td>\n",
              "      <td>22%</td>\n",
              "      <td>100%</td>\n",
              "      <td>f</td>\n",
              "      <td>NaN</td>\n",
              "      <td>0.0</td>\n",
              "      <td>f</td>\n",
              "      <td>f</td>\n",
              "    </tr>\n",
              "    <tr>\n",
              "      <th>23203</th>\n",
              "      <td>423013364</td>\n",
              "      <td>Rosânge</td>\n",
              "      <td>2021-09-14</td>\n",
              "      <td>within a few hours</td>\n",
              "      <td>100%</td>\n",
              "      <td>100%</td>\n",
              "      <td>f</td>\n",
              "      <td>NaN</td>\n",
              "      <td>1.0</td>\n",
              "      <td>f</td>\n",
              "      <td>t</td>\n",
              "    </tr>\n",
              "    <tr>\n",
              "      <th>23225</th>\n",
              "      <td>423191310</td>\n",
              "      <td>Carlos George</td>\n",
              "      <td>2021-09-15</td>\n",
              "      <td>NaN</td>\n",
              "      <td>NaN</td>\n",
              "      <td>NaN</td>\n",
              "      <td>f</td>\n",
              "      <td>NaN</td>\n",
              "      <td>0.0</td>\n",
              "      <td>f</td>\n",
              "      <td>t</td>\n",
              "    </tr>\n",
              "    <tr>\n",
              "      <th>23229</th>\n",
              "      <td>423208662</td>\n",
              "      <td>Ana</td>\n",
              "      <td>2021-09-15</td>\n",
              "      <td>within a few hours</td>\n",
              "      <td>67%</td>\n",
              "      <td>0%</td>\n",
              "      <td>f</td>\n",
              "      <td>NaN</td>\n",
              "      <td>0.0</td>\n",
              "      <td>f</td>\n",
              "      <td>t</td>\n",
              "    </tr>\n",
              "  </tbody>\n",
              "</table>\n",
              "<p>105 rows × 11 columns</p>\n",
              "</div>"
            ],
            "text/plain": [
              "      anfitriao_id anfitriao_nome  ... anf_foto_perfil anf_identidade_verificada\n",
              "10       393296342           Alex  ...               f                         f\n",
              "3829      20134185        Sabrina  ...               f                         f\n",
              "4526      50620948         Rafael  ...               f                         f\n",
              "5156      56967708        Charles  ...               f                         f\n",
              "5690      64822833         Amanda  ...               f                         f\n",
              "...            ...            ...  ...             ...                       ...\n",
              "23098    422136195        Gustavo  ...               f                         t\n",
              "23122    422336093          Kátia  ...               f                         f\n",
              "23203    423013364        Rosânge  ...               f                         t\n",
              "23225    423191310  Carlos George  ...               f                         t\n",
              "23229    423208662            Ana  ...               f                         t\n",
              "\n",
              "[105 rows x 11 columns]"
            ]
          },
          "metadata": {},
          "execution_count": 103
        }
      ]
    },
    {
      "cell_type": "code",
      "metadata": {
        "colab": {
          "base_uri": "https://localhost:8080/"
        },
        "id": "CtaJYniz1K56",
        "outputId": "f88683fe-075c-4701-cb8e-8e8fc13e5b03"
      },
      "source": [
        "df_foto_f.groupby('super_anfitriao')['anfitriao_id'].count().sort_values(ascending=False)"
      ],
      "execution_count": 104,
      "outputs": [
        {
          "output_type": "execute_result",
          "data": {
            "text/plain": [
              "super_anfitriao\n",
              "f    105\n",
              "Name: anfitriao_id, dtype: int64"
            ]
          },
          "metadata": {},
          "execution_count": 104
        }
      ]
    },
    {
      "cell_type": "code",
      "metadata": {
        "colab": {
          "base_uri": "https://localhost:8080/"
        },
        "id": "x4Q3BXq31tkD",
        "outputId": "3aec3cab-8022-442c-ab5e-9c853790f68d"
      },
      "source": [
        "df_foto_t.groupby('super_anfitriao')['anfitriao_id'].count().sort_values(ascending=False)"
      ],
      "execution_count": 105,
      "outputs": [
        {
          "output_type": "execute_result",
          "data": {
            "text/plain": [
              "super_anfitriao\n",
              "f    12936\n",
              "t     2331\n",
              "Name: anfitriao_id, dtype: int64"
            ]
          },
          "metadata": {},
          "execution_count": 105
        }
      ]
    },
    {
      "cell_type": "markdown",
      "metadata": {
        "id": "Hs7Hsvii6weQ"
      },
      "source": [
        "##### Levantamento de Anfitriões com Identidade Verificada"
      ]
    },
    {
      "cell_type": "code",
      "metadata": {
        "colab": {
          "base_uri": "https://localhost:8080/"
        },
        "id": "-Bo73pcs6t2c",
        "outputId": "3b222a39-6289-4677-adad-e28e127c078b"
      },
      "source": [
        "dfhosts.groupby('anf_identidade_verificada')['anfitriao_id'].count()"
      ],
      "execution_count": 106,
      "outputs": [
        {
          "output_type": "execute_result",
          "data": {
            "text/plain": [
              "anf_identidade_verificada\n",
              "f    6293\n",
              "t    9079\n",
              "Name: anfitriao_id, dtype: int64"
            ]
          },
          "metadata": {},
          "execution_count": 106
        }
      ]
    },
    {
      "cell_type": "code",
      "metadata": {
        "colab": {
          "base_uri": "https://localhost:8080/",
          "height": 265
        },
        "id": "egh_5Hnk7Hig",
        "outputId": "519c7e3e-ea29-4c2a-de3f-41f75646037e"
      },
      "source": [
        "dfhosts.groupby('anf_identidade_verificada')['anfitriao_id'].count().plot.pie()"
      ],
      "execution_count": 107,
      "outputs": [
        {
          "output_type": "execute_result",
          "data": {
            "text/plain": [
              "<matplotlib.axes._subplots.AxesSubplot at 0x7fe8dd432dd0>"
            ]
          },
          "metadata": {},
          "execution_count": 107
        },
        {
          "output_type": "display_data",
          "data": {
            "image/png": "[encoded data removed]",
            "text/plain": [
              "<Figure size 432x288 with 1 Axes>"
            ]
          },
          "metadata": {}
        }
      ]
    },
    {
      "cell_type": "markdown",
      "metadata": {
        "id": "F_sXJKoPAlr7"
      },
      "source": [
        "### Montando alguns DataFrames com Filtos Especificos"
      ]
    },
    {
      "cell_type": "markdown",
      "metadata": {
        "id": "ip6b1ctqHSrG"
      },
      "source": [
        "##### DataFrame com informaçoes dos 5 bairros com mais anuncios"
      ]
    },
    {
      "cell_type": "code",
      "metadata": {
        "id": "AKOmh94gHZCr"
      },
      "source": [
        "filtro1 = dflistings.bairro.isin(['Copacabana','Barra da Tijuca','Ipanema','Jacarepaguá','Recreio dos Bandeirantes'])\n",
        "df_5bairros = dflistings.loc[filtro1]"
      ],
      "execution_count": 108,
      "outputs": []
    },
    {
      "cell_type": "code",
      "metadata": {
        "colab": {
          "base_uri": "https://localhost:8080/"
        },
        "id": "bUhyGj6RHmjJ",
        "outputId": "dd9da152-1516-4f63-abb5-bc8da29bbb3f"
      },
      "source": [
        "df_5bairros.count()"
      ],
      "execution_count": 109,
      "outputs": [
        {
          "output_type": "execute_result",
          "data": {
            "text/plain": [
              "anfitriao_id               13569\n",
              "anf_data_cadastro          13561\n",
              "id_anuncio                 13569\n",
              "nome_anuncio               13564\n",
              "bairro                     13569\n",
              "tipo_propriedade           13569\n",
              "tipo_acomodacao            13569\n",
              "numero_hospedes            13569\n",
              "quartos                    12668\n",
              "camas                      13480\n",
              "preco                      13569\n",
              "min_noites                 13569\n",
              "max_noites                 13569\n",
              "disponivel                 13569\n",
              "numero_avaliaçoes          13569\n",
              "pontuacao_avaliacoes        9132\n",
              "confirmacao_instantanea    13569\n",
              "dtype: int64"
            ]
          },
          "metadata": {},
          "execution_count": 109
        }
      ]
    },
    {
      "cell_type": "code",
      "metadata": {
        "colab": {
          "base_uri": "https://localhost:8080/"
        },
        "id": "tM7mnMjFHtal",
        "outputId": "38887f1c-19fc-48c9-a9fd-200cd0aa4b01"
      },
      "source": [
        "df_5bairros.groupby(['bairro']).size()"
      ],
      "execution_count": 110,
      "outputs": [
        {
          "output_type": "execute_result",
          "data": {
            "text/plain": [
              "bairro\n",
              "Barra da Tijuca             2383\n",
              "Copacabana                  6708\n",
              "Ipanema                     2293\n",
              "Jacarepaguá                 1121\n",
              "Recreio dos Bandeirantes    1064\n",
              "dtype: int64"
            ]
          },
          "metadata": {},
          "execution_count": 110
        }
      ]
    },
    {
      "cell_type": "code",
      "metadata": {
        "colab": {
          "base_uri": "https://localhost:8080/",
          "height": 279
        },
        "id": "9a2Og4wjIQ2b",
        "outputId": "b0024a4e-b040-4082-8cd3-64bd682ee85a"
      },
      "source": [
        "df_5bairros.groupby(['bairro']).size().plot.barh()"
      ],
      "execution_count": 111,
      "outputs": [
        {
          "output_type": "execute_result",
          "data": {
            "text/plain": [
              "<matplotlib.axes._subplots.AxesSubplot at 0x7fe8e486e990>"
            ]
          },
          "metadata": {},
          "execution_count": 111
        },
        {
          "output_type": "display_data",
          "data": {
            "image/png": "[encoded data removed]",
            "text/plain": [
              "<Figure size 432x288 with 1 Axes>"
            ]
          },
          "metadata": {}
        }
      ]
    },
    {
      "cell_type": "code",
      "metadata": {
        "colab": {
          "base_uri": "https://localhost:8080/",
          "height": 289
        },
        "id": "IhQx9rn2JBl3",
        "outputId": "7b3524da-3303-49db-d780-e7f0f11671ff"
      },
      "source": [
        "df_5bairros.groupby(['bairro']).mean()"
      ],
      "execution_count": 112,
      "outputs": [
        {
          "output_type": "execute_result",
          "data": {
            "text/html": [
              "<div>\n",
              "<style scoped>\n",
              "    .dataframe tbody tr th:only-of-type {\n",
              "        vertical-align: middle;\n",
              "    }\n",
              "\n",
              "    .dataframe tbody tr th {\n",
              "        vertical-align: top;\n",
              "    }\n",
              "\n",
              "    .dataframe thead th {\n",
              "        text-align: right;\n",
              "    }\n",
              "</style>\n",
              "<table border=\"1\" class=\"dataframe\">\n",
              "  <thead>\n",
              "    <tr style=\"text-align: right;\">\n",
              "      <th></th>\n",
              "      <th>numero_hospedes</th>\n",
              "      <th>quartos</th>\n",
              "      <th>camas</th>\n",
              "      <th>preco</th>\n",
              "      <th>min_noites</th>\n",
              "      <th>max_noites</th>\n",
              "      <th>numero_avaliaçoes</th>\n",
              "      <th>pontuacao_avaliacoes</th>\n",
              "    </tr>\n",
              "    <tr>\n",
              "      <th>bairro</th>\n",
              "      <th></th>\n",
              "      <th></th>\n",
              "      <th></th>\n",
              "      <th></th>\n",
              "      <th></th>\n",
              "      <th></th>\n",
              "      <th></th>\n",
              "      <th></th>\n",
              "    </tr>\n",
              "  </thead>\n",
              "  <tbody>\n",
              "    <tr>\n",
              "      <th>Barra da Tijuca</th>\n",
              "      <td>4.500210</td>\n",
              "      <td>1.897603</td>\n",
              "      <td>2.727618</td>\n",
              "      <td>929.673521</td>\n",
              "      <td>5.563575</td>\n",
              "      <td>667.535460</td>\n",
              "      <td>11.565674</td>\n",
              "      <td>4.596299</td>\n",
              "    </tr>\n",
              "    <tr>\n",
              "      <th>Copacabana</th>\n",
              "      <td>4.223912</td>\n",
              "      <td>1.606401</td>\n",
              "      <td>2.536267</td>\n",
              "      <td>603.129696</td>\n",
              "      <td>5.192606</td>\n",
              "      <td>613.689326</td>\n",
              "      <td>19.507156</td>\n",
              "      <td>4.586232</td>\n",
              "    </tr>\n",
              "    <tr>\n",
              "      <th>Ipanema</th>\n",
              "      <td>4.172263</td>\n",
              "      <td>1.808676</td>\n",
              "      <td>2.543145</td>\n",
              "      <td>700.007414</td>\n",
              "      <td>5.196686</td>\n",
              "      <td>937186.265155</td>\n",
              "      <td>22.506760</td>\n",
              "      <td>4.644411</td>\n",
              "    </tr>\n",
              "    <tr>\n",
              "      <th>Jacarepaguá</th>\n",
              "      <td>3.988403</td>\n",
              "      <td>1.776557</td>\n",
              "      <td>2.549865</td>\n",
              "      <td>672.054416</td>\n",
              "      <td>5.326494</td>\n",
              "      <td>603.060660</td>\n",
              "      <td>6.595004</td>\n",
              "      <td>4.488905</td>\n",
              "    </tr>\n",
              "    <tr>\n",
              "      <th>Recreio dos Bandeirantes</th>\n",
              "      <td>4.847744</td>\n",
              "      <td>2.025267</td>\n",
              "      <td>3.023652</td>\n",
              "      <td>984.614662</td>\n",
              "      <td>4.322368</td>\n",
              "      <td>582.346805</td>\n",
              "      <td>7.721805</td>\n",
              "      <td>4.542741</td>\n",
              "    </tr>\n",
              "  </tbody>\n",
              "</table>\n",
              "</div>"
            ],
            "text/plain": [
              "                          numero_hospedes  ...  pontuacao_avaliacoes\n",
              "bairro                                     ...                      \n",
              "Barra da Tijuca                  4.500210  ...              4.596299\n",
              "Copacabana                       4.223912  ...              4.586232\n",
              "Ipanema                          4.172263  ...              4.644411\n",
              "Jacarepaguá                      3.988403  ...              4.488905\n",
              "Recreio dos Bandeirantes         4.847744  ...              4.542741\n",
              "\n",
              "[5 rows x 8 columns]"
            ]
          },
          "metadata": {},
          "execution_count": 112
        }
      ]
    },
    {
      "cell_type": "code",
      "metadata": {
        "colab": {
          "base_uri": "https://localhost:8080/",
          "height": 279
        },
        "id": "pxRVOFcrMD8S",
        "outputId": "c9546964-5e4d-4d66-95a6-229ed132c759"
      },
      "source": [
        "df_5bairros.groupby(['bairro']).preco.mean().plot.barh()\n",
        "#plt.savefig('preço por bairro.png')"
      ],
      "execution_count": 113,
      "outputs": [
        {
          "output_type": "execute_result",
          "data": {
            "text/plain": [
              "<matplotlib.axes._subplots.AxesSubplot at 0x7fe8dc6156d0>"
            ]
          },
          "metadata": {},
          "execution_count": 113
        },
        {
          "output_type": "display_data",
          "data": {
            "image/png": "[encoded data removed]",
            "text/plain": [
              "<Figure size 432x288 with 1 Axes>"
            ]
          },
          "metadata": {}
        }
      ]
    },
    {
      "cell_type": "code",
      "metadata": {
        "colab": {
          "base_uri": "https://localhost:8080/",
          "height": 279
        },
        "id": "YuRLd8pGKLJH",
        "outputId": "2a91d872-213b-4edf-ea30-486f75e7f658"
      },
      "source": [
        "df_5bairros.boxplot(column='preco', showfliers=False)"
      ],
      "execution_count": 114,
      "outputs": [
        {
          "output_type": "execute_result",
          "data": {
            "text/plain": [
              "<matplotlib.axes._subplots.AxesSubplot at 0x7fe8dc5fe9d0>"
            ]
          },
          "metadata": {},
          "execution_count": 114
        },
        {
          "output_type": "display_data",
          "data": {
            "image/png": "[encoded data removed]",
            "text/plain": [
              "<Figure size 432x288 with 1 Axes>"
            ]
          },
          "metadata": {}
        }
      ]
    },
    {
      "cell_type": "code",
      "metadata": {
        "colab": {
          "base_uri": "https://localhost:8080/"
        },
        "id": "Mg774TKkH2mL",
        "outputId": "b52a5dff-d0fe-459f-d7fd-c34874bee4b4"
      },
      "source": [
        "df_5bairros.groupby([df_5bairros.anf_data_cadastro.dt.year]).size()"
      ],
      "execution_count": 115,
      "outputs": [
        {
          "output_type": "execute_result",
          "data": {
            "text/plain": [
              "anf_data_cadastro\n",
              "2009.0      12\n",
              "2010.0      84\n",
              "2011.0     514\n",
              "2012.0     768\n",
              "2013.0    1234\n",
              "2014.0    1976\n",
              "2015.0    1737\n",
              "2016.0    2977\n",
              "2017.0    1066\n",
              "2018.0     889\n",
              "2019.0    1159\n",
              "2020.0     841\n",
              "2021.0     304\n",
              "dtype: int64"
            ]
          },
          "metadata": {},
          "execution_count": 115
        }
      ]
    },
    {
      "cell_type": "code",
      "metadata": {
        "colab": {
          "base_uri": "https://localhost:8080/",
          "height": 314
        },
        "id": "2s4lHsnzIlfq",
        "outputId": "f9e1be8f-6f2f-43ba-efb9-1617f0ab7d88"
      },
      "source": [
        "df_5bairros.groupby([df_5bairros.anf_data_cadastro.dt.year]).size().plot.bar()"
      ],
      "execution_count": 116,
      "outputs": [
        {
          "output_type": "execute_result",
          "data": {
            "text/plain": [
              "<matplotlib.axes._subplots.AxesSubplot at 0x7fe8dc569a10>"
            ]
          },
          "metadata": {},
          "execution_count": 116
        },
        {
          "output_type": "display_data",
          "data": {
            "image/png": "[encoded data removed]",
            "text/plain": [
              "<Figure size 432x288 with 1 Axes>"
            ]
          },
          "metadata": {}
        }
      ]
    },
    {
      "cell_type": "markdown",
      "metadata": {
        "id": "CI8dYVn0BDvJ"
      },
      "source": [
        "##### DataFrame com informaçoes dos 5 bairros com mais anuncios no ano de 2016"
      ]
    },
    {
      "cell_type": "code",
      "metadata": {
        "id": "awRWnyEXAxn3"
      },
      "source": [
        "##### DataFrame com informaçoes dos 5 bairros com mais anuncios no ano de 2016\n",
        "filtro1 = dflistings.bairro.isin(['Copacabana','Barra da Tijuca','Ipanema','Jacarepaguá','Recreio dos Bandeirantes'])\n",
        "filtro2 = dflistings.anf_data_cadastro.dt.year == 2016\n",
        "df_5bairros_2016 = dflistings.loc[filtro1 & filtro2]"
      ],
      "execution_count": 117,
      "outputs": []
    },
    {
      "cell_type": "code",
      "metadata": {
        "colab": {
          "base_uri": "https://localhost:8080/"
        },
        "id": "6eEmRxxPG3OH",
        "outputId": "d5e70f3b-0a22-4766-d632-819833c3b87a"
      },
      "source": [
        "df_5bairros_2016.count()"
      ],
      "execution_count": 118,
      "outputs": [
        {
          "output_type": "execute_result",
          "data": {
            "text/plain": [
              "anfitriao_id               2977\n",
              "anf_data_cadastro          2977\n",
              "id_anuncio                 2977\n",
              "nome_anuncio               2975\n",
              "bairro                     2977\n",
              "tipo_propriedade           2977\n",
              "tipo_acomodacao            2977\n",
              "numero_hospedes            2977\n",
              "quartos                    2830\n",
              "camas                      2963\n",
              "preco                      2977\n",
              "min_noites                 2977\n",
              "max_noites                 2977\n",
              "disponivel                 2977\n",
              "numero_avaliaçoes          2977\n",
              "pontuacao_avaliacoes       1688\n",
              "confirmacao_instantanea    2977\n",
              "dtype: int64"
            ]
          },
          "metadata": {},
          "execution_count": 118
        }
      ]
    },
    {
      "cell_type": "code",
      "metadata": {
        "colab": {
          "base_uri": "https://localhost:8080/",
          "height": 250
        },
        "id": "5MDC-l4EBGMz",
        "outputId": "1d57b4df-a562-46ae-c757-852238e5e331"
      },
      "source": [
        "df_5bairros_2016.head(2)"
      ],
      "execution_count": 119,
      "outputs": [
        {
          "output_type": "execute_result",
          "data": {
            "text/html": [
              "<div>\n",
              "<style scoped>\n",
              "    .dataframe tbody tr th:only-of-type {\n",
              "        vertical-align: middle;\n",
              "    }\n",
              "\n",
              "    .dataframe tbody tr th {\n",
              "        vertical-align: top;\n",
              "    }\n",
              "\n",
              "    .dataframe thead th {\n",
              "        text-align: right;\n",
              "    }\n",
              "</style>\n",
              "<table border=\"1\" class=\"dataframe\">\n",
              "  <thead>\n",
              "    <tr style=\"text-align: right;\">\n",
              "      <th></th>\n",
              "      <th>anfitriao_id</th>\n",
              "      <th>anf_data_cadastro</th>\n",
              "      <th>id_anuncio</th>\n",
              "      <th>nome_anuncio</th>\n",
              "      <th>bairro</th>\n",
              "      <th>tipo_propriedade</th>\n",
              "      <th>tipo_acomodacao</th>\n",
              "      <th>numero_hospedes</th>\n",
              "      <th>quartos</th>\n",
              "      <th>camas</th>\n",
              "      <th>preco</th>\n",
              "      <th>min_noites</th>\n",
              "      <th>max_noites</th>\n",
              "      <th>disponivel</th>\n",
              "      <th>numero_avaliaçoes</th>\n",
              "      <th>pontuacao_avaliacoes</th>\n",
              "      <th>confirmacao_instantanea</th>\n",
              "    </tr>\n",
              "  </thead>\n",
              "  <tbody>\n",
              "    <tr>\n",
              "      <th>884</th>\n",
              "      <td>83950473</td>\n",
              "      <td>2016-07-15</td>\n",
              "      <td>1572715</td>\n",
              "      <td>Heart of Copacabana flat near beach, underground</td>\n",
              "      <td>Copacabana</td>\n",
              "      <td>Entire rental unit</td>\n",
              "      <td>Entire home/apt</td>\n",
              "      <td>4</td>\n",
              "      <td>1.0</td>\n",
              "      <td>1.0</td>\n",
              "      <td>92.0</td>\n",
              "      <td>2</td>\n",
              "      <td>210</td>\n",
              "      <td>t</td>\n",
              "      <td>112</td>\n",
              "      <td>4.71</td>\n",
              "      <td>t</td>\n",
              "    </tr>\n",
              "    <tr>\n",
              "      <th>1099</th>\n",
              "      <td>95021782</td>\n",
              "      <td>2016-09-13</td>\n",
              "      <td>1974950</td>\n",
              "      <td>Quiet, cozy, comfy, with terrace next to the b...</td>\n",
              "      <td>Copacabana</td>\n",
              "      <td>Entire rental unit</td>\n",
              "      <td>Entire home/apt</td>\n",
              "      <td>6</td>\n",
              "      <td>2.0</td>\n",
              "      <td>5.0</td>\n",
              "      <td>440.0</td>\n",
              "      <td>3</td>\n",
              "      <td>25</td>\n",
              "      <td>t</td>\n",
              "      <td>60</td>\n",
              "      <td>4.72</td>\n",
              "      <td>f</td>\n",
              "    </tr>\n",
              "  </tbody>\n",
              "</table>\n",
              "</div>"
            ],
            "text/plain": [
              "     anfitriao_id  ... confirmacao_instantanea\n",
              "884      83950473  ...                       t\n",
              "1099     95021782  ...                       f\n",
              "\n",
              "[2 rows x 17 columns]"
            ]
          },
          "metadata": {},
          "execution_count": 119
        }
      ]
    },
    {
      "cell_type": "code",
      "metadata": {
        "colab": {
          "base_uri": "https://localhost:8080/"
        },
        "id": "2pESWR0oFHDg",
        "outputId": "e245ab1c-a5bd-4517-e1ad-8d441b642bed"
      },
      "source": [
        "df_5bairros_2016.groupby(['bairro']).size()"
      ],
      "execution_count": 120,
      "outputs": [
        {
          "output_type": "execute_result",
          "data": {
            "text/plain": [
              "bairro\n",
              "Barra da Tijuca              662\n",
              "Copacabana                  1136\n",
              "Ipanema                      417\n",
              "Jacarepaguá                  432\n",
              "Recreio dos Bandeirantes     330\n",
              "dtype: int64"
            ]
          },
          "metadata": {},
          "execution_count": 120
        }
      ]
    },
    {
      "cell_type": "code",
      "metadata": {
        "colab": {
          "base_uri": "https://localhost:8080/",
          "height": 279
        },
        "id": "iSNlRFlTFtKI",
        "outputId": "913e0dd0-aac0-4785-ef14-44f5c3c419a1"
      },
      "source": [
        "df_5bairros_2016.groupby(['bairro']).size().plot.barh()"
      ],
      "execution_count": 121,
      "outputs": [
        {
          "output_type": "execute_result",
          "data": {
            "text/plain": [
              "<matplotlib.axes._subplots.AxesSubplot at 0x7fe8dd2d3450>"
            ]
          },
          "metadata": {},
          "execution_count": 121
        },
        {
          "output_type": "display_data",
          "data": {
            "image/png": "[encoded data removed]",
            "text/plain": [
              "<Figure size 432x288 with 1 Axes>"
            ]
          },
          "metadata": {}
        }
      ]
    },
    {
      "cell_type": "code",
      "metadata": {
        "colab": {
          "base_uri": "https://localhost:8080/"
        },
        "id": "D7B60XaZF-AU",
        "outputId": "21964dc7-1a05-489c-eec7-e2cdce2bc3fd"
      },
      "source": [
        "df_5bairros_2016.groupby([df_5bairros_2016.anf_data_cadastro.dt.month]).size()"
      ],
      "execution_count": 122,
      "outputs": [
        {
          "output_type": "execute_result",
          "data": {
            "text/plain": [
              "anf_data_cadastro\n",
              "1     265\n",
              "2     239\n",
              "3     203\n",
              "4     244\n",
              "5     390\n",
              "6     381\n",
              "7     521\n",
              "8     330\n",
              "9      97\n",
              "10    100\n",
              "11    121\n",
              "12     86\n",
              "dtype: int64"
            ]
          },
          "metadata": {},
          "execution_count": 122
        }
      ]
    },
    {
      "cell_type": "code",
      "metadata": {
        "colab": {
          "base_uri": "https://localhost:8080/",
          "height": 294
        },
        "id": "uDQHv5znGUZZ",
        "outputId": "ae7552a7-e948-4b8f-eb45-6049efb098d2"
      },
      "source": [
        "df_5bairros_2016.groupby([df_5bairros_2016.anf_data_cadastro.dt.month]).size().plot.bar()"
      ],
      "execution_count": 123,
      "outputs": [
        {
          "output_type": "execute_result",
          "data": {
            "text/plain": [
              "<matplotlib.axes._subplots.AxesSubplot at 0x7fe8dc477fd0>"
            ]
          },
          "metadata": {},
          "execution_count": 123
        },
        {
          "output_type": "display_data",
          "data": {
            "image/png": "[encoded data removed]",
            "text/plain": [
              "<Figure size 432x288 with 1 Axes>"
            ]
          },
          "metadata": {}
        }
      ]
    },
    {
      "cell_type": "markdown",
      "metadata": {
        "id": "glt5TfbIgLkv"
      },
      "source": [
        "## Etapa 3 - Load"
      ]
    },
    {
      "cell_type": "markdown",
      "metadata": {
        "id": "ntQ0-y3Yiw9T"
      },
      "source": [
        "#### Exportando os DataFrames em formato CSV"
      ]
    },
    {
      "cell_type": "code",
      "metadata": {
        "id": "HFAkuJbKhxAb"
      },
      "source": [
        "dflistings.to_csv('Anuncios.csv', index=False)\n",
        "dfhosts.to_csv('Anfitrioes.csv', index=False)\n",
        "df_5bairros_2016.to_csv('5Bairros_2016.csv', index=False)\n",
        "df_5bairros.to_csv('5bairros.csv', index=False)"
      ],
      "execution_count": 124,
      "outputs": []
    },
    {
      "cell_type": "markdown",
      "metadata": {
        "id": "4GFJeNcji-Ul"
      },
      "source": [
        "#### Exportando os DataFrames em formato JSON"
      ]
    },
    {
      "cell_type": "code",
      "metadata": {
        "id": "05TlIO-zjFGd"
      },
      "source": [
        "dflistings.to_json('Anuncios.json')\n",
        "dfhosts.to_json('Anfitrioes.json')\n",
        "df_5bairros_2016.to_json('5Bairros_2016.json')\n",
        "df_5bairros.to_json('5bairros.json')"
      ],
      "execution_count": 125,
      "outputs": []
    }
  ]
}